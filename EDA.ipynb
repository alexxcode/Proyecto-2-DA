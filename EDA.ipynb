{
 "cells": [
  {
   "cell_type": "markdown",
   "metadata": {},
   "source": [
    "## EDA (Análisis Exploratorio de Datos)"
   ]
  },
  {
   "cell_type": "markdown",
   "metadata": {},
   "source": [
    "**Librerías necesarias:**"
   ]
  },
  {
   "cell_type": "code",
   "execution_count": 68,
   "metadata": {},
   "outputs": [],
   "source": [
    "import pandas as pd\n",
    "import numpy as np\n",
    "import matplotlib.pyplot as plt\n",
    "import folium\n",
    "from folium.plugins import HeatMap"
   ]
  },
  {
   "cell_type": "markdown",
   "metadata": {},
   "source": [
    "**Importar datasets**"
   ]
  },
  {
   "cell_type": "code",
   "execution_count": 69,
   "metadata": {},
   "outputs": [],
   "source": [
    "# Importar la hoja de \"hechos\" del archivo \"homicidios.xls\"\n",
    "df_hechos = pd.read_excel('datasets\\\\homicidios.xlsx', sheet_name=0) "
   ]
  },
  {
   "cell_type": "code",
   "execution_count": 70,
   "metadata": {},
   "outputs": [
    {
     "name": "stdout",
     "output_type": "stream",
     "text": [
      "<class 'pandas.core.frame.DataFrame'>\n",
      "RangeIndex: 696 entries, 0 to 695\n",
      "Data columns (total 21 columns):\n",
      " #   Column                 Non-Null Count  Dtype         \n",
      "---  ------                 --------------  -----         \n",
      " 0   ID                     696 non-null    object        \n",
      " 1   N_VICTIMAS             696 non-null    int64         \n",
      " 2   FECHA                  696 non-null    datetime64[ns]\n",
      " 3   AAAA                   696 non-null    int64         \n",
      " 4   MM                     696 non-null    int64         \n",
      " 5   DD                     696 non-null    int64         \n",
      " 6   HORA                   696 non-null    object        \n",
      " 7   HH                     696 non-null    object        \n",
      " 8   LUGAR_DEL_HECHO        696 non-null    object        \n",
      " 9   TIPO_DE_CALLE          696 non-null    object        \n",
      " 10  Calle                  695 non-null    object        \n",
      " 11  Altura                 129 non-null    float64       \n",
      " 12  Cruce                  525 non-null    object        \n",
      " 13  Dirección Normalizada  688 non-null    object        \n",
      " 14  COMUNA                 696 non-null    int64         \n",
      " 15  XY (CABA)              696 non-null    object        \n",
      " 16  pos x                  696 non-null    object        \n",
      " 17  pos y                  696 non-null    object        \n",
      " 18  PARTICIPANTES          696 non-null    object        \n",
      " 19  VICTIMA                696 non-null    object        \n",
      " 20  ACUSADO                696 non-null    object        \n",
      "dtypes: datetime64[ns](1), float64(1), int64(5), object(14)\n",
      "memory usage: 114.3+ KB\n"
     ]
    }
   ],
   "source": [
    "df_hechos.info()"
   ]
  },
  {
   "cell_type": "code",
   "execution_count": 71,
   "metadata": {},
   "outputs": [],
   "source": [
    "# Importar la hoja de \"VICTIMAS\" del archivo \"homicidios.xls\"\n",
    "df_victimas = pd.read_excel('datasets\\\\homicidios.xlsx', sheet_name=2)"
   ]
  },
  {
   "cell_type": "code",
   "execution_count": 72,
   "metadata": {},
   "outputs": [
    {
     "name": "stdout",
     "output_type": "stream",
     "text": [
      "<class 'pandas.core.frame.DataFrame'>\n",
      "RangeIndex: 717 entries, 0 to 716\n",
      "Data columns (total 10 columns):\n",
      " #   Column               Non-Null Count  Dtype         \n",
      "---  ------               --------------  -----         \n",
      " 0   ID_hecho             717 non-null    object        \n",
      " 1   FECHA                717 non-null    datetime64[ns]\n",
      " 2   AAAA                 717 non-null    int64         \n",
      " 3   MM                   717 non-null    int64         \n",
      " 4   DD                   717 non-null    int64         \n",
      " 5   ROL                  717 non-null    object        \n",
      " 6   VICTIMA              717 non-null    object        \n",
      " 7   SEXO                 717 non-null    object        \n",
      " 8   EDAD                 717 non-null    object        \n",
      " 9   FECHA_FALLECIMIENTO  717 non-null    object        \n",
      "dtypes: datetime64[ns](1), int64(3), object(6)\n",
      "memory usage: 56.1+ KB\n"
     ]
    }
   ],
   "source": [
    "df_victimas.info()"
   ]
  },
  {
   "cell_type": "markdown",
   "metadata": {},
   "source": [
    "**Manipulación de datos:**"
   ]
  },
  {
   "cell_type": "code",
   "execution_count": 73,
   "metadata": {},
   "outputs": [],
   "source": [
    "#Cambiar el nombre de la columna \"id_hecho\" para hacer un inner \n",
    "\n",
    "df_victimas=df_victimas.rename(columns={'ID_hecho':'ID'})"
   ]
  },
  {
   "cell_type": "code",
   "execution_count": 74,
   "metadata": {},
   "outputs": [
    {
     "data": {
      "text/html": [
       "<div>\n",
       "<style scoped>\n",
       "    .dataframe tbody tr th:only-of-type {\n",
       "        vertical-align: middle;\n",
       "    }\n",
       "\n",
       "    .dataframe tbody tr th {\n",
       "        vertical-align: top;\n",
       "    }\n",
       "\n",
       "    .dataframe thead th {\n",
       "        text-align: right;\n",
       "    }\n",
       "</style>\n",
       "<table border=\"1\" class=\"dataframe\">\n",
       "  <thead>\n",
       "    <tr style=\"text-align: right;\">\n",
       "      <th></th>\n",
       "      <th>ID</th>\n",
       "      <th>FECHA</th>\n",
       "      <th>AAAA</th>\n",
       "      <th>MM</th>\n",
       "      <th>DD</th>\n",
       "      <th>ROL</th>\n",
       "      <th>VICTIMA</th>\n",
       "      <th>SEXO</th>\n",
       "      <th>EDAD</th>\n",
       "      <th>FECHA_FALLECIMIENTO</th>\n",
       "    </tr>\n",
       "  </thead>\n",
       "  <tbody>\n",
       "    <tr>\n",
       "      <th>0</th>\n",
       "      <td>2016-0001</td>\n",
       "      <td>2016-01-01</td>\n",
       "      <td>2016</td>\n",
       "      <td>1</td>\n",
       "      <td>1</td>\n",
       "      <td>CONDUCTOR</td>\n",
       "      <td>MOTO</td>\n",
       "      <td>MASCULINO</td>\n",
       "      <td>19</td>\n",
       "      <td>2016-01-01 00:00:00</td>\n",
       "    </tr>\n",
       "  </tbody>\n",
       "</table>\n",
       "</div>"
      ],
      "text/plain": [
       "          ID      FECHA  AAAA  MM  DD        ROL VICTIMA       SEXO EDAD  \\\n",
       "0  2016-0001 2016-01-01  2016   1   1  CONDUCTOR    MOTO  MASCULINO   19   \n",
       "\n",
       "   FECHA_FALLECIMIENTO  \n",
       "0  2016-01-01 00:00:00  "
      ]
     },
     "execution_count": 74,
     "metadata": {},
     "output_type": "execute_result"
    }
   ],
   "source": [
    "df_victimas.head(1)"
   ]
  },
  {
   "cell_type": "code",
   "execution_count": 75,
   "metadata": {},
   "outputs": [
    {
     "data": {
      "text/html": [
       "<div>\n",
       "<style scoped>\n",
       "    .dataframe tbody tr th:only-of-type {\n",
       "        vertical-align: middle;\n",
       "    }\n",
       "\n",
       "    .dataframe tbody tr th {\n",
       "        vertical-align: top;\n",
       "    }\n",
       "\n",
       "    .dataframe thead th {\n",
       "        text-align: right;\n",
       "    }\n",
       "</style>\n",
       "<table border=\"1\" class=\"dataframe\">\n",
       "  <thead>\n",
       "    <tr style=\"text-align: right;\">\n",
       "      <th></th>\n",
       "      <th>ID</th>\n",
       "      <th>N_VICTIMAS</th>\n",
       "      <th>FECHA</th>\n",
       "      <th>AAAA</th>\n",
       "      <th>MM</th>\n",
       "      <th>DD</th>\n",
       "      <th>HORA</th>\n",
       "      <th>HH</th>\n",
       "      <th>LUGAR_DEL_HECHO</th>\n",
       "      <th>TIPO_DE_CALLE</th>\n",
       "      <th>...</th>\n",
       "      <th>Altura</th>\n",
       "      <th>Cruce</th>\n",
       "      <th>Dirección Normalizada</th>\n",
       "      <th>COMUNA</th>\n",
       "      <th>XY (CABA)</th>\n",
       "      <th>pos x</th>\n",
       "      <th>pos y</th>\n",
       "      <th>PARTICIPANTES</th>\n",
       "      <th>VICTIMA</th>\n",
       "      <th>ACUSADO</th>\n",
       "    </tr>\n",
       "  </thead>\n",
       "  <tbody>\n",
       "    <tr>\n",
       "      <th>0</th>\n",
       "      <td>2016-0001</td>\n",
       "      <td>1</td>\n",
       "      <td>2016-01-01</td>\n",
       "      <td>2016</td>\n",
       "      <td>1</td>\n",
       "      <td>1</td>\n",
       "      <td>04:00:00</td>\n",
       "      <td>4</td>\n",
       "      <td>AV PIEDRA BUENA Y AV FERNANDEZ DE LA CRUZ</td>\n",
       "      <td>AVENIDA</td>\n",
       "      <td>...</td>\n",
       "      <td>NaN</td>\n",
       "      <td>FERNANDEZ DE LA CRUZ, F., GRAL. AV.</td>\n",
       "      <td>PIEDRA BUENA AV. y FERNANDEZ DE LA CRUZ, F., G...</td>\n",
       "      <td>8</td>\n",
       "      <td>Point (98896.78238426 93532.43437792)</td>\n",
       "      <td>-58.47533969</td>\n",
       "      <td>-34.68757022</td>\n",
       "      <td>MOTO-AUTO</td>\n",
       "      <td>MOTO</td>\n",
       "      <td>AUTO</td>\n",
       "    </tr>\n",
       "  </tbody>\n",
       "</table>\n",
       "<p>1 rows × 21 columns</p>\n",
       "</div>"
      ],
      "text/plain": [
       "          ID  N_VICTIMAS      FECHA  AAAA  MM  DD      HORA HH  \\\n",
       "0  2016-0001           1 2016-01-01  2016   1   1  04:00:00  4   \n",
       "\n",
       "                             LUGAR_DEL_HECHO TIPO_DE_CALLE  ... Altura  \\\n",
       "0  AV PIEDRA BUENA Y AV FERNANDEZ DE LA CRUZ       AVENIDA  ...    NaN   \n",
       "\n",
       "                                 Cruce  \\\n",
       "0  FERNANDEZ DE LA CRUZ, F., GRAL. AV.   \n",
       "\n",
       "                               Dirección Normalizada COMUNA  \\\n",
       "0  PIEDRA BUENA AV. y FERNANDEZ DE LA CRUZ, F., G...      8   \n",
       "\n",
       "                               XY (CABA)         pos x         pos y  \\\n",
       "0  Point (98896.78238426 93532.43437792)  -58.47533969  -34.68757022   \n",
       "\n",
       "  PARTICIPANTES VICTIMA ACUSADO  \n",
       "0     MOTO-AUTO    MOTO    AUTO  \n",
       "\n",
       "[1 rows x 21 columns]"
      ]
     },
     "execution_count": 75,
     "metadata": {},
     "output_type": "execute_result"
    }
   ],
   "source": [
    "df_hechos.head(1)"
   ]
  },
  {
   "cell_type": "markdown",
   "metadata": {},
   "source": [
    "Se realiza un merge de los dos frames:"
   ]
  },
  {
   "cell_type": "code",
   "execution_count": 76,
   "metadata": {},
   "outputs": [],
   "source": [
    "merged_df = df_hechos.merge(df_victimas, on='ID', how='inner')"
   ]
  },
  {
   "cell_type": "code",
   "execution_count": 77,
   "metadata": {},
   "outputs": [
    {
     "data": {
      "text/html": [
       "<div>\n",
       "<style scoped>\n",
       "    .dataframe tbody tr th:only-of-type {\n",
       "        vertical-align: middle;\n",
       "    }\n",
       "\n",
       "    .dataframe tbody tr th {\n",
       "        vertical-align: top;\n",
       "    }\n",
       "\n",
       "    .dataframe thead th {\n",
       "        text-align: right;\n",
       "    }\n",
       "</style>\n",
       "<table border=\"1\" class=\"dataframe\">\n",
       "  <thead>\n",
       "    <tr style=\"text-align: right;\">\n",
       "      <th></th>\n",
       "      <th>ID</th>\n",
       "      <th>N_VICTIMAS</th>\n",
       "      <th>FECHA_x</th>\n",
       "      <th>AAAA_x</th>\n",
       "      <th>MM_x</th>\n",
       "      <th>DD_x</th>\n",
       "      <th>HORA</th>\n",
       "      <th>HH</th>\n",
       "      <th>LUGAR_DEL_HECHO</th>\n",
       "      <th>TIPO_DE_CALLE</th>\n",
       "      <th>...</th>\n",
       "      <th>ACUSADO</th>\n",
       "      <th>FECHA_y</th>\n",
       "      <th>AAAA_y</th>\n",
       "      <th>MM_y</th>\n",
       "      <th>DD_y</th>\n",
       "      <th>ROL</th>\n",
       "      <th>VICTIMA_y</th>\n",
       "      <th>SEXO</th>\n",
       "      <th>EDAD</th>\n",
       "      <th>FECHA_FALLECIMIENTO</th>\n",
       "    </tr>\n",
       "  </thead>\n",
       "  <tbody>\n",
       "    <tr>\n",
       "      <th>0</th>\n",
       "      <td>2016-0001</td>\n",
       "      <td>1</td>\n",
       "      <td>2016-01-01</td>\n",
       "      <td>2016</td>\n",
       "      <td>1</td>\n",
       "      <td>1</td>\n",
       "      <td>04:00:00</td>\n",
       "      <td>4</td>\n",
       "      <td>AV PIEDRA BUENA Y AV FERNANDEZ DE LA CRUZ</td>\n",
       "      <td>AVENIDA</td>\n",
       "      <td>...</td>\n",
       "      <td>AUTO</td>\n",
       "      <td>2016-01-01</td>\n",
       "      <td>2016</td>\n",
       "      <td>1</td>\n",
       "      <td>1</td>\n",
       "      <td>CONDUCTOR</td>\n",
       "      <td>MOTO</td>\n",
       "      <td>MASCULINO</td>\n",
       "      <td>19</td>\n",
       "      <td>2016-01-01 00:00:00</td>\n",
       "    </tr>\n",
       "    <tr>\n",
       "      <th>1</th>\n",
       "      <td>2016-0002</td>\n",
       "      <td>1</td>\n",
       "      <td>2016-01-02</td>\n",
       "      <td>2016</td>\n",
       "      <td>1</td>\n",
       "      <td>2</td>\n",
       "      <td>01:15:00</td>\n",
       "      <td>1</td>\n",
       "      <td>AV GRAL PAZ  Y AV DE LOS CORRALES</td>\n",
       "      <td>GRAL PAZ</td>\n",
       "      <td>...</td>\n",
       "      <td>PASAJEROS</td>\n",
       "      <td>2016-01-02</td>\n",
       "      <td>2016</td>\n",
       "      <td>1</td>\n",
       "      <td>2</td>\n",
       "      <td>CONDUCTOR</td>\n",
       "      <td>AUTO</td>\n",
       "      <td>MASCULINO</td>\n",
       "      <td>70</td>\n",
       "      <td>2016-01-02 00:00:00</td>\n",
       "    </tr>\n",
       "    <tr>\n",
       "      <th>2</th>\n",
       "      <td>2016-0003</td>\n",
       "      <td>1</td>\n",
       "      <td>2016-01-03</td>\n",
       "      <td>2016</td>\n",
       "      <td>1</td>\n",
       "      <td>3</td>\n",
       "      <td>07:00:00</td>\n",
       "      <td>7</td>\n",
       "      <td>AV ENTRE RIOS 2034</td>\n",
       "      <td>AVENIDA</td>\n",
       "      <td>...</td>\n",
       "      <td>AUTO</td>\n",
       "      <td>2016-01-03</td>\n",
       "      <td>2016</td>\n",
       "      <td>1</td>\n",
       "      <td>3</td>\n",
       "      <td>CONDUCTOR</td>\n",
       "      <td>MOTO</td>\n",
       "      <td>MASCULINO</td>\n",
       "      <td>30</td>\n",
       "      <td>2016-01-03 00:00:00</td>\n",
       "    </tr>\n",
       "  </tbody>\n",
       "</table>\n",
       "<p>3 rows × 30 columns</p>\n",
       "</div>"
      ],
      "text/plain": [
       "          ID  N_VICTIMAS    FECHA_x  AAAA_x  MM_x  DD_x      HORA HH  \\\n",
       "0  2016-0001           1 2016-01-01    2016     1     1  04:00:00  4   \n",
       "1  2016-0002           1 2016-01-02    2016     1     2  01:15:00  1   \n",
       "2  2016-0003           1 2016-01-03    2016     1     3  07:00:00  7   \n",
       "\n",
       "                             LUGAR_DEL_HECHO TIPO_DE_CALLE  ...    ACUSADO  \\\n",
       "0  AV PIEDRA BUENA Y AV FERNANDEZ DE LA CRUZ       AVENIDA  ...       AUTO   \n",
       "1          AV GRAL PAZ  Y AV DE LOS CORRALES      GRAL PAZ  ...  PASAJEROS   \n",
       "2                         AV ENTRE RIOS 2034       AVENIDA  ...       AUTO   \n",
       "\n",
       "     FECHA_y AAAA_y MM_y  DD_y        ROL VICTIMA_y       SEXO EDAD  \\\n",
       "0 2016-01-01   2016    1     1  CONDUCTOR      MOTO  MASCULINO   19   \n",
       "1 2016-01-02   2016    1     2  CONDUCTOR      AUTO  MASCULINO   70   \n",
       "2 2016-01-03   2016    1     3  CONDUCTOR      MOTO  MASCULINO   30   \n",
       "\n",
       "   FECHA_FALLECIMIENTO  \n",
       "0  2016-01-01 00:00:00  \n",
       "1  2016-01-02 00:00:00  \n",
       "2  2016-01-03 00:00:00  \n",
       "\n",
       "[3 rows x 30 columns]"
      ]
     },
     "execution_count": 77,
     "metadata": {},
     "output_type": "execute_result"
    }
   ],
   "source": [
    "merged_df.head(3)"
   ]
  },
  {
   "cell_type": "markdown",
   "metadata": {},
   "source": [
    "Verificar columnas iguales:"
   ]
  },
  {
   "cell_type": "code",
   "execution_count": 78,
   "metadata": {},
   "outputs": [],
   "source": [
    "def encontrar_columnas_diferentes(df):\n",
    "    columnas_diferentes = []\n",
    "    columnas_iguales = []\n",
    "\n",
    "    for columna1 in df.columns:\n",
    "        for columna2 in df.columns:\n",
    "            if columna1 != columna2:\n",
    "                if (df[columna1] == df[columna2]).all():\n",
    "                    columnas_iguales.append((columna1, columna2))\n",
    "                elif not (df[columna1] == df[columna2]).all():\n",
    "                    columnas_diferentes.append((columna1, columna2))\n",
    "\n",
    "    return columnas_iguales, columnas_diferentes"
   ]
  },
  {
   "cell_type": "code",
   "execution_count": 79,
   "metadata": {},
   "outputs": [
    {
     "name": "stdout",
     "output_type": "stream",
     "text": [
      "Pares de columnas iguales:\n",
      "AAAA_x y AAAA_y son iguales\n",
      "MM_x y MM_y son iguales\n",
      "AAAA_y y AAAA_x son iguales\n",
      "MM_y y MM_x son iguales\n"
     ]
    }
   ],
   "source": [
    "\n",
    "columnas_iguales, columnas_diferentes = encontrar_columnas_diferentes(merged_df[merged_df.columns])\n",
    "\n",
    "print(\"Pares de columnas iguales:\")\n",
    "for columna1, columna2 in columnas_iguales:\n",
    "    print(f\"{columna1} y {columna2} son iguales\")"
   ]
  },
  {
   "cell_type": "code",
   "execution_count": 80,
   "metadata": {},
   "outputs": [],
   "source": [
    "# Eliminar la columna 'AAAA_y','MM_y'\n",
    "dataframe = merged_df.drop(['AAAA_y','MM_y'],axis=1)"
   ]
  },
  {
   "cell_type": "code",
   "execution_count": 81,
   "metadata": {},
   "outputs": [
    {
     "data": {
      "text/html": [
       "<div>\n",
       "<style scoped>\n",
       "    .dataframe tbody tr th:only-of-type {\n",
       "        vertical-align: middle;\n",
       "    }\n",
       "\n",
       "    .dataframe tbody tr th {\n",
       "        vertical-align: top;\n",
       "    }\n",
       "\n",
       "    .dataframe thead th {\n",
       "        text-align: right;\n",
       "    }\n",
       "</style>\n",
       "<table border=\"1\" class=\"dataframe\">\n",
       "  <thead>\n",
       "    <tr style=\"text-align: right;\">\n",
       "      <th></th>\n",
       "      <th>ID</th>\n",
       "      <th>N_VICTIMAS</th>\n",
       "      <th>FECHA_x</th>\n",
       "      <th>AAAA_x</th>\n",
       "      <th>MM_x</th>\n",
       "      <th>DD_x</th>\n",
       "      <th>HORA</th>\n",
       "      <th>HH</th>\n",
       "      <th>LUGAR_DEL_HECHO</th>\n",
       "      <th>TIPO_DE_CALLE</th>\n",
       "      <th>...</th>\n",
       "      <th>PARTICIPANTES</th>\n",
       "      <th>VICTIMA_x</th>\n",
       "      <th>ACUSADO</th>\n",
       "      <th>FECHA_y</th>\n",
       "      <th>DD_y</th>\n",
       "      <th>ROL</th>\n",
       "      <th>VICTIMA_y</th>\n",
       "      <th>SEXO</th>\n",
       "      <th>EDAD</th>\n",
       "      <th>FECHA_FALLECIMIENTO</th>\n",
       "    </tr>\n",
       "  </thead>\n",
       "  <tbody>\n",
       "    <tr>\n",
       "      <th>0</th>\n",
       "      <td>2016-0001</td>\n",
       "      <td>1</td>\n",
       "      <td>2016-01-01</td>\n",
       "      <td>2016</td>\n",
       "      <td>1</td>\n",
       "      <td>1</td>\n",
       "      <td>04:00:00</td>\n",
       "      <td>4</td>\n",
       "      <td>AV PIEDRA BUENA Y AV FERNANDEZ DE LA CRUZ</td>\n",
       "      <td>AVENIDA</td>\n",
       "      <td>...</td>\n",
       "      <td>MOTO-AUTO</td>\n",
       "      <td>MOTO</td>\n",
       "      <td>AUTO</td>\n",
       "      <td>2016-01-01</td>\n",
       "      <td>1</td>\n",
       "      <td>CONDUCTOR</td>\n",
       "      <td>MOTO</td>\n",
       "      <td>MASCULINO</td>\n",
       "      <td>19</td>\n",
       "      <td>2016-01-01 00:00:00</td>\n",
       "    </tr>\n",
       "  </tbody>\n",
       "</table>\n",
       "<p>1 rows × 28 columns</p>\n",
       "</div>"
      ],
      "text/plain": [
       "          ID  N_VICTIMAS    FECHA_x  AAAA_x  MM_x  DD_x      HORA HH  \\\n",
       "0  2016-0001           1 2016-01-01    2016     1     1  04:00:00  4   \n",
       "\n",
       "                             LUGAR_DEL_HECHO TIPO_DE_CALLE  ... PARTICIPANTES  \\\n",
       "0  AV PIEDRA BUENA Y AV FERNANDEZ DE LA CRUZ       AVENIDA  ...     MOTO-AUTO   \n",
       "\n",
       "   VICTIMA_x ACUSADO    FECHA_y  DD_y        ROL VICTIMA_y       SEXO EDAD  \\\n",
       "0       MOTO    AUTO 2016-01-01     1  CONDUCTOR      MOTO  MASCULINO   19   \n",
       "\n",
       "   FECHA_FALLECIMIENTO  \n",
       "0  2016-01-01 00:00:00  \n",
       "\n",
       "[1 rows x 28 columns]"
      ]
     },
     "execution_count": 81,
     "metadata": {},
     "output_type": "execute_result"
    }
   ],
   "source": [
    "dataframe.head(1)"
   ]
  },
  {
   "cell_type": "markdown",
   "metadata": {},
   "source": [
    "Las columnas FECHA , DIA y VICTIMAS no son iguales, verificando datos "
   ]
  },
  {
   "cell_type": "code",
   "execution_count": 82,
   "metadata": {},
   "outputs": [],
   "source": [
    "indices=[]\n",
    "for index, row  in dataframe[['FECHA_x','FECHA_y', 'DD_x','DD_y', 'VICTIMA_x',  'VICTIMA_y']].iterrows():\n",
    "\n",
    "    if row['FECHA_x'] !=row['FECHA_y']:\n",
    "        indices.append(index)\n",
    "\n",
    "\n",
    "    if row['DD_x'] !=row['DD_y']:\n",
    "        indices.append(index)\n",
    "    if row['VICTIMA_x'] !=row['VICTIMA_y']:\n",
    "        indices.append(index)\n",
    "\n"
   ]
  },
  {
   "cell_type": "code",
   "execution_count": 83,
   "metadata": {},
   "outputs": [
    {
     "data": {
      "text/plain": [
       "[65, 204, 204, 237, 238, 602, 603]"
      ]
     },
     "execution_count": 83,
     "metadata": {},
     "output_type": "execute_result"
    }
   ],
   "source": [
    "indices"
   ]
  },
  {
   "cell_type": "markdown",
   "metadata": {},
   "source": [
    "Las columnas fecha_Y, victima_y de victima_y tiene la misma fecha de fallecimiento por lo tanto se elimina"
   ]
  },
  {
   "cell_type": "code",
   "execution_count": 84,
   "metadata": {},
   "outputs": [
    {
     "data": {
      "text/html": [
       "<div>\n",
       "<style scoped>\n",
       "    .dataframe tbody tr th:only-of-type {\n",
       "        vertical-align: middle;\n",
       "    }\n",
       "\n",
       "    .dataframe tbody tr th {\n",
       "        vertical-align: top;\n",
       "    }\n",
       "\n",
       "    .dataframe thead th {\n",
       "        text-align: right;\n",
       "    }\n",
       "</style>\n",
       "<table border=\"1\" class=\"dataframe\">\n",
       "  <thead>\n",
       "    <tr style=\"text-align: right;\">\n",
       "      <th></th>\n",
       "      <th>FECHA_x</th>\n",
       "      <th>FECHA_y</th>\n",
       "      <th>DD_x</th>\n",
       "      <th>DD_y</th>\n",
       "      <th>VICTIMA_x</th>\n",
       "      <th>VICTIMA_y</th>\n",
       "      <th>FECHA_FALLECIMIENTO</th>\n",
       "      <th>ACUSADO</th>\n",
       "    </tr>\n",
       "  </thead>\n",
       "  <tbody>\n",
       "    <tr>\n",
       "      <th>65</th>\n",
       "      <td>2016-07-02</td>\n",
       "      <td>2016-07-03</td>\n",
       "      <td>3</td>\n",
       "      <td>3</td>\n",
       "      <td>MOTO</td>\n",
       "      <td>MOTO</td>\n",
       "      <td>2016-07-03 00:00:00</td>\n",
       "      <td>OBJETO FIJO</td>\n",
       "    </tr>\n",
       "    <tr>\n",
       "      <th>204</th>\n",
       "      <td>2017-05-24</td>\n",
       "      <td>2017-05-29</td>\n",
       "      <td>24</td>\n",
       "      <td>29</td>\n",
       "      <td>MOTO</td>\n",
       "      <td>MOTO</td>\n",
       "      <td>2017-05-29 00:00:00</td>\n",
       "      <td>SD</td>\n",
       "    </tr>\n",
       "    <tr>\n",
       "      <th>204</th>\n",
       "      <td>2017-05-24</td>\n",
       "      <td>2017-05-29</td>\n",
       "      <td>24</td>\n",
       "      <td>29</td>\n",
       "      <td>MOTO</td>\n",
       "      <td>MOTO</td>\n",
       "      <td>2017-05-29 00:00:00</td>\n",
       "      <td>SD</td>\n",
       "    </tr>\n",
       "    <tr>\n",
       "      <th>237</th>\n",
       "      <td>2017-09-02</td>\n",
       "      <td>2017-09-02</td>\n",
       "      <td>2</td>\n",
       "      <td>2</td>\n",
       "      <td>OBJETO FIJO</td>\n",
       "      <td>AUTO</td>\n",
       "      <td>2017-09-02 00:00:00</td>\n",
       "      <td>AUTO</td>\n",
       "    </tr>\n",
       "    <tr>\n",
       "      <th>238</th>\n",
       "      <td>2017-09-02</td>\n",
       "      <td>2017-09-02</td>\n",
       "      <td>2</td>\n",
       "      <td>2</td>\n",
       "      <td>OBJETO FIJO</td>\n",
       "      <td>AUTO</td>\n",
       "      <td>2017-09-02 00:00:00</td>\n",
       "      <td>AUTO</td>\n",
       "    </tr>\n",
       "    <tr>\n",
       "      <th>602</th>\n",
       "      <td>2020-12-05</td>\n",
       "      <td>2020-12-05</td>\n",
       "      <td>5</td>\n",
       "      <td>5</td>\n",
       "      <td>PEATON_MOTO</td>\n",
       "      <td>PEATON</td>\n",
       "      <td>2020-12-05 00:00:00</td>\n",
       "      <td>MOTO</td>\n",
       "    </tr>\n",
       "    <tr>\n",
       "      <th>603</th>\n",
       "      <td>2020-12-05</td>\n",
       "      <td>2020-12-05</td>\n",
       "      <td>5</td>\n",
       "      <td>5</td>\n",
       "      <td>PEATON_MOTO</td>\n",
       "      <td>MOTO</td>\n",
       "      <td>2020-12-05 00:00:00</td>\n",
       "      <td>MOTO</td>\n",
       "    </tr>\n",
       "  </tbody>\n",
       "</table>\n",
       "</div>"
      ],
      "text/plain": [
       "       FECHA_x    FECHA_y  DD_x  DD_y    VICTIMA_x VICTIMA_y  \\\n",
       "65  2016-07-02 2016-07-03     3     3         MOTO      MOTO   \n",
       "204 2017-05-24 2017-05-29    24    29         MOTO      MOTO   \n",
       "204 2017-05-24 2017-05-29    24    29         MOTO      MOTO   \n",
       "237 2017-09-02 2017-09-02     2     2  OBJETO FIJO      AUTO   \n",
       "238 2017-09-02 2017-09-02     2     2  OBJETO FIJO      AUTO   \n",
       "602 2020-12-05 2020-12-05     5     5  PEATON_MOTO    PEATON   \n",
       "603 2020-12-05 2020-12-05     5     5  PEATON_MOTO      MOTO   \n",
       "\n",
       "     FECHA_FALLECIMIENTO      ACUSADO  \n",
       "65   2016-07-03 00:00:00  OBJETO FIJO  \n",
       "204  2017-05-29 00:00:00           SD  \n",
       "204  2017-05-29 00:00:00           SD  \n",
       "237  2017-09-02 00:00:00         AUTO  \n",
       "238  2017-09-02 00:00:00         AUTO  \n",
       "602  2020-12-05 00:00:00         MOTO  \n",
       "603  2020-12-05 00:00:00         MOTO  "
      ]
     },
     "execution_count": 84,
     "metadata": {},
     "output_type": "execute_result"
    }
   ],
   "source": [
    "dataframe[['FECHA_x','FECHA_y', 'DD_x','DD_y', 'VICTIMA_x',  'VICTIMA_y','FECHA_FALLECIMIENTO','ACUSADO']].iloc[indices]"
   ]
  },
  {
   "cell_type": "code",
   "execution_count": 85,
   "metadata": {},
   "outputs": [],
   "source": [
    "# Eliminar la columna 'AAAA_y','MM_y'\n",
    "dataframe = dataframe.drop(['DD_y','FECHA_y' ],axis=1)"
   ]
  },
  {
   "cell_type": "markdown",
   "metadata": {},
   "source": [
    "verificamos que hay un valor atipico en la columna victima_x donde dice que es objeto fijo lo cual no es congruente, con esto podemos deducir que pertenece ese valor a la columna acusado y se hara el cambio"
   ]
  },
  {
   "cell_type": "code",
   "execution_count": 86,
   "metadata": {},
   "outputs": [
    {
     "data": {
      "text/html": [
       "<div>\n",
       "<style scoped>\n",
       "    .dataframe tbody tr th:only-of-type {\n",
       "        vertical-align: middle;\n",
       "    }\n",
       "\n",
       "    .dataframe tbody tr th {\n",
       "        vertical-align: top;\n",
       "    }\n",
       "\n",
       "    .dataframe thead th {\n",
       "        text-align: right;\n",
       "    }\n",
       "</style>\n",
       "<table border=\"1\" class=\"dataframe\">\n",
       "  <thead>\n",
       "    <tr style=\"text-align: right;\">\n",
       "      <th></th>\n",
       "      <th>FECHA_x</th>\n",
       "      <th>DD_x</th>\n",
       "      <th>VICTIMA_x</th>\n",
       "      <th>VICTIMA_y</th>\n",
       "      <th>FECHA_FALLECIMIENTO</th>\n",
       "      <th>ACUSADO</th>\n",
       "    </tr>\n",
       "  </thead>\n",
       "  <tbody>\n",
       "    <tr>\n",
       "      <th>65</th>\n",
       "      <td>2016-07-02</td>\n",
       "      <td>3</td>\n",
       "      <td>MOTO</td>\n",
       "      <td>MOTO</td>\n",
       "      <td>2016-07-03 00:00:00</td>\n",
       "      <td>OBJETO FIJO</td>\n",
       "    </tr>\n",
       "    <tr>\n",
       "      <th>204</th>\n",
       "      <td>2017-05-24</td>\n",
       "      <td>24</td>\n",
       "      <td>MOTO</td>\n",
       "      <td>MOTO</td>\n",
       "      <td>2017-05-29 00:00:00</td>\n",
       "      <td>SD</td>\n",
       "    </tr>\n",
       "    <tr>\n",
       "      <th>204</th>\n",
       "      <td>2017-05-24</td>\n",
       "      <td>24</td>\n",
       "      <td>MOTO</td>\n",
       "      <td>MOTO</td>\n",
       "      <td>2017-05-29 00:00:00</td>\n",
       "      <td>SD</td>\n",
       "    </tr>\n",
       "    <tr>\n",
       "      <th>237</th>\n",
       "      <td>2017-09-02</td>\n",
       "      <td>2</td>\n",
       "      <td>OBJETO FIJO</td>\n",
       "      <td>AUTO</td>\n",
       "      <td>2017-09-02 00:00:00</td>\n",
       "      <td>AUTO</td>\n",
       "    </tr>\n",
       "    <tr>\n",
       "      <th>238</th>\n",
       "      <td>2017-09-02</td>\n",
       "      <td>2</td>\n",
       "      <td>OBJETO FIJO</td>\n",
       "      <td>AUTO</td>\n",
       "      <td>2017-09-02 00:00:00</td>\n",
       "      <td>AUTO</td>\n",
       "    </tr>\n",
       "    <tr>\n",
       "      <th>602</th>\n",
       "      <td>2020-12-05</td>\n",
       "      <td>5</td>\n",
       "      <td>PEATON_MOTO</td>\n",
       "      <td>PEATON</td>\n",
       "      <td>2020-12-05 00:00:00</td>\n",
       "      <td>MOTO</td>\n",
       "    </tr>\n",
       "    <tr>\n",
       "      <th>603</th>\n",
       "      <td>2020-12-05</td>\n",
       "      <td>5</td>\n",
       "      <td>PEATON_MOTO</td>\n",
       "      <td>MOTO</td>\n",
       "      <td>2020-12-05 00:00:00</td>\n",
       "      <td>MOTO</td>\n",
       "    </tr>\n",
       "  </tbody>\n",
       "</table>\n",
       "</div>"
      ],
      "text/plain": [
       "       FECHA_x  DD_x    VICTIMA_x VICTIMA_y  FECHA_FALLECIMIENTO      ACUSADO\n",
       "65  2016-07-02     3         MOTO      MOTO  2016-07-03 00:00:00  OBJETO FIJO\n",
       "204 2017-05-24    24         MOTO      MOTO  2017-05-29 00:00:00           SD\n",
       "204 2017-05-24    24         MOTO      MOTO  2017-05-29 00:00:00           SD\n",
       "237 2017-09-02     2  OBJETO FIJO      AUTO  2017-09-02 00:00:00         AUTO\n",
       "238 2017-09-02     2  OBJETO FIJO      AUTO  2017-09-02 00:00:00         AUTO\n",
       "602 2020-12-05     5  PEATON_MOTO    PEATON  2020-12-05 00:00:00         MOTO\n",
       "603 2020-12-05     5  PEATON_MOTO      MOTO  2020-12-05 00:00:00         MOTO"
      ]
     },
     "execution_count": 86,
     "metadata": {},
     "output_type": "execute_result"
    }
   ],
   "source": [
    "dataframe[['FECHA_x', 'DD_x', 'VICTIMA_x',  'VICTIMA_y','FECHA_FALLECIMIENTO','ACUSADO']].iloc[indices]"
   ]
  },
  {
   "cell_type": "markdown",
   "metadata": {},
   "source": []
  },
  {
   "cell_type": "code",
   "execution_count": 87,
   "metadata": {},
   "outputs": [],
   "source": [
    "# Encuentra las filas donde 'VICTIMA_x' es igual a 'OBJETO FIJO'\n",
    "filas_objeto_fijo = dataframe['VICTIMA_x'] == 'OBJETO FIJO'\n",
    "\n",
    "# Almacena temporalmente los valores de 'VICTIMA_x' en una columna temporal\n",
    "dataframe.loc[filas_objeto_fijo, 'TEMP'] = dataframe.loc[filas_objeto_fijo, 'VICTIMA_x']\n",
    "\n",
    "# Intercambia los valores entre 'VICTIMA_x' y 'ACUSADO'\n",
    "dataframe.loc[filas_objeto_fijo, 'VICTIMA_x'] = dataframe.loc[filas_objeto_fijo, 'ACUSADO']\n",
    "dataframe.loc[filas_objeto_fijo, 'ACUSADO'] = dataframe.loc[filas_objeto_fijo, 'TEMP']\n",
    "\n",
    "# Elimina la columna temporal 'TEMP'\n",
    "dataframe.drop(columns=['TEMP'], inplace=True)"
   ]
  },
  {
   "cell_type": "code",
   "execution_count": 88,
   "metadata": {},
   "outputs": [
    {
     "data": {
      "text/html": [
       "<div>\n",
       "<style scoped>\n",
       "    .dataframe tbody tr th:only-of-type {\n",
       "        vertical-align: middle;\n",
       "    }\n",
       "\n",
       "    .dataframe tbody tr th {\n",
       "        vertical-align: top;\n",
       "    }\n",
       "\n",
       "    .dataframe thead th {\n",
       "        text-align: right;\n",
       "    }\n",
       "</style>\n",
       "<table border=\"1\" class=\"dataframe\">\n",
       "  <thead>\n",
       "    <tr style=\"text-align: right;\">\n",
       "      <th></th>\n",
       "      <th>FECHA_x</th>\n",
       "      <th>DD_x</th>\n",
       "      <th>VICTIMA_x</th>\n",
       "      <th>VICTIMA_y</th>\n",
       "      <th>FECHA_FALLECIMIENTO</th>\n",
       "      <th>ACUSADO</th>\n",
       "    </tr>\n",
       "  </thead>\n",
       "  <tbody>\n",
       "    <tr>\n",
       "      <th>65</th>\n",
       "      <td>2016-07-02</td>\n",
       "      <td>3</td>\n",
       "      <td>MOTO</td>\n",
       "      <td>MOTO</td>\n",
       "      <td>2016-07-03 00:00:00</td>\n",
       "      <td>OBJETO FIJO</td>\n",
       "    </tr>\n",
       "    <tr>\n",
       "      <th>204</th>\n",
       "      <td>2017-05-24</td>\n",
       "      <td>24</td>\n",
       "      <td>MOTO</td>\n",
       "      <td>MOTO</td>\n",
       "      <td>2017-05-29 00:00:00</td>\n",
       "      <td>SD</td>\n",
       "    </tr>\n",
       "    <tr>\n",
       "      <th>204</th>\n",
       "      <td>2017-05-24</td>\n",
       "      <td>24</td>\n",
       "      <td>MOTO</td>\n",
       "      <td>MOTO</td>\n",
       "      <td>2017-05-29 00:00:00</td>\n",
       "      <td>SD</td>\n",
       "    </tr>\n",
       "    <tr>\n",
       "      <th>237</th>\n",
       "      <td>2017-09-02</td>\n",
       "      <td>2</td>\n",
       "      <td>AUTO</td>\n",
       "      <td>AUTO</td>\n",
       "      <td>2017-09-02 00:00:00</td>\n",
       "      <td>OBJETO FIJO</td>\n",
       "    </tr>\n",
       "    <tr>\n",
       "      <th>238</th>\n",
       "      <td>2017-09-02</td>\n",
       "      <td>2</td>\n",
       "      <td>AUTO</td>\n",
       "      <td>AUTO</td>\n",
       "      <td>2017-09-02 00:00:00</td>\n",
       "      <td>OBJETO FIJO</td>\n",
       "    </tr>\n",
       "    <tr>\n",
       "      <th>602</th>\n",
       "      <td>2020-12-05</td>\n",
       "      <td>5</td>\n",
       "      <td>PEATON_MOTO</td>\n",
       "      <td>PEATON</td>\n",
       "      <td>2020-12-05 00:00:00</td>\n",
       "      <td>MOTO</td>\n",
       "    </tr>\n",
       "    <tr>\n",
       "      <th>603</th>\n",
       "      <td>2020-12-05</td>\n",
       "      <td>5</td>\n",
       "      <td>PEATON_MOTO</td>\n",
       "      <td>MOTO</td>\n",
       "      <td>2020-12-05 00:00:00</td>\n",
       "      <td>MOTO</td>\n",
       "    </tr>\n",
       "  </tbody>\n",
       "</table>\n",
       "</div>"
      ],
      "text/plain": [
       "       FECHA_x  DD_x    VICTIMA_x VICTIMA_y  FECHA_FALLECIMIENTO      ACUSADO\n",
       "65  2016-07-02     3         MOTO      MOTO  2016-07-03 00:00:00  OBJETO FIJO\n",
       "204 2017-05-24    24         MOTO      MOTO  2017-05-29 00:00:00           SD\n",
       "204 2017-05-24    24         MOTO      MOTO  2017-05-29 00:00:00           SD\n",
       "237 2017-09-02     2         AUTO      AUTO  2017-09-02 00:00:00  OBJETO FIJO\n",
       "238 2017-09-02     2         AUTO      AUTO  2017-09-02 00:00:00  OBJETO FIJO\n",
       "602 2020-12-05     5  PEATON_MOTO    PEATON  2020-12-05 00:00:00         MOTO\n",
       "603 2020-12-05     5  PEATON_MOTO      MOTO  2020-12-05 00:00:00         MOTO"
      ]
     },
     "execution_count": 88,
     "metadata": {},
     "output_type": "execute_result"
    }
   ],
   "source": [
    "dataframe[['FECHA_x', 'DD_x', 'VICTIMA_x',  'VICTIMA_y','FECHA_FALLECIMIENTO','ACUSADO']].iloc[indices]"
   ]
  },
  {
   "cell_type": "code",
   "execution_count": 89,
   "metadata": {},
   "outputs": [],
   "source": [
    "# Verificando valores de la columna victima_x y victima_y\n",
    "\n",
    "indices=[]\n",
    "for index, row  in dataframe[['FECHA_x', 'DD_x','VICTIMA_x',  'VICTIMA_y']].iterrows():\n",
    "\n",
    "    if row['VICTIMA_x'] !=row['VICTIMA_y']:\n",
    "        indices.append(index)"
   ]
  },
  {
   "cell_type": "code",
   "execution_count": 90,
   "metadata": {},
   "outputs": [
    {
     "data": {
      "text/plain": [
       "[602, 603]"
      ]
     },
     "execution_count": 90,
     "metadata": {},
     "output_type": "execute_result"
    }
   ],
   "source": [
    "indices"
   ]
  },
  {
   "cell_type": "markdown",
   "metadata": {},
   "source": [
    "Podemos verificar que los unicos valores diferentes en estas columnas son los que se encuentran en el indice 602 y 603 de lo que podemos deducir que su diferencia es por que son 2 victimas en la cual se informa en la columna victima_y peaton y moto por lo tanto se eliminara la columna victima_x que viene de la tabla hechos "
   ]
  },
  {
   "cell_type": "code",
   "execution_count": 91,
   "metadata": {},
   "outputs": [
    {
     "data": {
      "text/html": [
       "<div>\n",
       "<style scoped>\n",
       "    .dataframe tbody tr th:only-of-type {\n",
       "        vertical-align: middle;\n",
       "    }\n",
       "\n",
       "    .dataframe tbody tr th {\n",
       "        vertical-align: top;\n",
       "    }\n",
       "\n",
       "    .dataframe thead th {\n",
       "        text-align: right;\n",
       "    }\n",
       "</style>\n",
       "<table border=\"1\" class=\"dataframe\">\n",
       "  <thead>\n",
       "    <tr style=\"text-align: right;\">\n",
       "      <th></th>\n",
       "      <th>VICTIMA_x</th>\n",
       "      <th>VICTIMA_y</th>\n",
       "    </tr>\n",
       "  </thead>\n",
       "  <tbody>\n",
       "    <tr>\n",
       "      <th>602</th>\n",
       "      <td>PEATON_MOTO</td>\n",
       "      <td>PEATON</td>\n",
       "    </tr>\n",
       "    <tr>\n",
       "      <th>603</th>\n",
       "      <td>PEATON_MOTO</td>\n",
       "      <td>MOTO</td>\n",
       "    </tr>\n",
       "  </tbody>\n",
       "</table>\n",
       "</div>"
      ],
      "text/plain": [
       "       VICTIMA_x VICTIMA_y\n",
       "602  PEATON_MOTO    PEATON\n",
       "603  PEATON_MOTO      MOTO"
      ]
     },
     "execution_count": 91,
     "metadata": {},
     "output_type": "execute_result"
    }
   ],
   "source": [
    "dataframe[['VICTIMA_x',  'VICTIMA_y']].iloc[indices]"
   ]
  },
  {
   "cell_type": "code",
   "execution_count": 92,
   "metadata": {},
   "outputs": [],
   "source": [
    "dataframe = dataframe.drop(['VICTIMA_y'],axis=1)"
   ]
  },
  {
   "cell_type": "code",
   "execution_count": 93,
   "metadata": {},
   "outputs": [
    {
     "name": "stdout",
     "output_type": "stream",
     "text": [
      "<class 'pandas.core.frame.DataFrame'>\n",
      "RangeIndex: 717 entries, 0 to 716\n",
      "Data columns (total 25 columns):\n",
      " #   Column                 Non-Null Count  Dtype         \n",
      "---  ------                 --------------  -----         \n",
      " 0   ID                     717 non-null    object        \n",
      " 1   N_VICTIMAS             717 non-null    int64         \n",
      " 2   FECHA_x                717 non-null    datetime64[ns]\n",
      " 3   AAAA_x                 717 non-null    int64         \n",
      " 4   MM_x                   717 non-null    int64         \n",
      " 5   DD_x                   717 non-null    int64         \n",
      " 6   HORA                   717 non-null    object        \n",
      " 7   HH                     717 non-null    object        \n",
      " 8   LUGAR_DEL_HECHO        717 non-null    object        \n",
      " 9   TIPO_DE_CALLE          717 non-null    object        \n",
      " 10  Calle                  716 non-null    object        \n",
      " 11  Altura                 133 non-null    float64       \n",
      " 12  Cruce                  540 non-null    object        \n",
      " 13  Dirección Normalizada  708 non-null    object        \n",
      " 14  COMUNA                 717 non-null    int64         \n",
      " 15  XY (CABA)              717 non-null    object        \n",
      " 16  pos x                  717 non-null    object        \n",
      " 17  pos y                  717 non-null    object        \n",
      " 18  PARTICIPANTES          717 non-null    object        \n",
      " 19  VICTIMA_x              717 non-null    object        \n",
      " 20  ACUSADO                717 non-null    object        \n",
      " 21  ROL                    717 non-null    object        \n",
      " 22  SEXO                   717 non-null    object        \n",
      " 23  EDAD                   717 non-null    object        \n",
      " 24  FECHA_FALLECIMIENTO    717 non-null    object        \n",
      "dtypes: datetime64[ns](1), float64(1), int64(5), object(18)\n",
      "memory usage: 140.2+ KB\n"
     ]
    }
   ],
   "source": [
    "dataframe.info()"
   ]
  },
  {
   "cell_type": "markdown",
   "metadata": {},
   "source": [
    "Renombrar columnas:"
   ]
  },
  {
   "cell_type": "code",
   "execution_count": 94,
   "metadata": {},
   "outputs": [
    {
     "data": {
      "text/plain": [
       "Index(['ID', 'N_VICTIMAS', 'FECHA_x', 'AAAA_x', 'MM_x', 'DD_x', 'HORA', 'HH',\n",
       "       'LUGAR_DEL_HECHO', 'TIPO_DE_CALLE', 'Calle', 'Altura', 'Cruce',\n",
       "       'Dirección Normalizada', 'COMUNA', 'XY (CABA)', 'pos x', 'pos y',\n",
       "       'PARTICIPANTES', 'VICTIMA_x', 'ACUSADO', 'ROL', 'SEXO', 'EDAD',\n",
       "       'FECHA_FALLECIMIENTO'],\n",
       "      dtype='object')"
      ]
     },
     "execution_count": 94,
     "metadata": {},
     "output_type": "execute_result"
    }
   ],
   "source": [
    "dataframe.columns"
   ]
  },
  {
   "cell_type": "code",
   "execution_count": 95,
   "metadata": {},
   "outputs": [],
   "source": [
    "#codigo para renombrar columnas\n",
    "dataframe = dataframe.rename(columns ={'FECHA_x':'FECHA', 'AAAA_x': 'AAAA','MM_x': 'MM','DD_x': 'DD','pos x': 'Longitud','pos y':'Latitud','VICTIMA_x':'VICTIMA'  })"
   ]
  },
  {
   "cell_type": "code",
   "execution_count": 96,
   "metadata": {},
   "outputs": [
    {
     "data": {
      "text/html": [
       "<div>\n",
       "<style scoped>\n",
       "    .dataframe tbody tr th:only-of-type {\n",
       "        vertical-align: middle;\n",
       "    }\n",
       "\n",
       "    .dataframe tbody tr th {\n",
       "        vertical-align: top;\n",
       "    }\n",
       "\n",
       "    .dataframe thead th {\n",
       "        text-align: right;\n",
       "    }\n",
       "</style>\n",
       "<table border=\"1\" class=\"dataframe\">\n",
       "  <thead>\n",
       "    <tr style=\"text-align: right;\">\n",
       "      <th></th>\n",
       "      <th>ID</th>\n",
       "      <th>N_VICTIMAS</th>\n",
       "      <th>FECHA</th>\n",
       "      <th>AAAA</th>\n",
       "      <th>MM</th>\n",
       "      <th>DD</th>\n",
       "      <th>HORA</th>\n",
       "      <th>HH</th>\n",
       "      <th>LUGAR_DEL_HECHO</th>\n",
       "      <th>TIPO_DE_CALLE</th>\n",
       "      <th>...</th>\n",
       "      <th>XY (CABA)</th>\n",
       "      <th>Longitud</th>\n",
       "      <th>Latitud</th>\n",
       "      <th>PARTICIPANTES</th>\n",
       "      <th>VICTIMA</th>\n",
       "      <th>ACUSADO</th>\n",
       "      <th>ROL</th>\n",
       "      <th>SEXO</th>\n",
       "      <th>EDAD</th>\n",
       "      <th>FECHA_FALLECIMIENTO</th>\n",
       "    </tr>\n",
       "  </thead>\n",
       "  <tbody>\n",
       "    <tr>\n",
       "      <th>0</th>\n",
       "      <td>2016-0001</td>\n",
       "      <td>1</td>\n",
       "      <td>2016-01-01</td>\n",
       "      <td>2016</td>\n",
       "      <td>1</td>\n",
       "      <td>1</td>\n",
       "      <td>04:00:00</td>\n",
       "      <td>4</td>\n",
       "      <td>AV PIEDRA BUENA Y AV FERNANDEZ DE LA CRUZ</td>\n",
       "      <td>AVENIDA</td>\n",
       "      <td>...</td>\n",
       "      <td>Point (98896.78238426 93532.43437792)</td>\n",
       "      <td>-58.47533969</td>\n",
       "      <td>-34.68757022</td>\n",
       "      <td>MOTO-AUTO</td>\n",
       "      <td>MOTO</td>\n",
       "      <td>AUTO</td>\n",
       "      <td>CONDUCTOR</td>\n",
       "      <td>MASCULINO</td>\n",
       "      <td>19</td>\n",
       "      <td>2016-01-01 00:00:00</td>\n",
       "    </tr>\n",
       "    <tr>\n",
       "      <th>1</th>\n",
       "      <td>2016-0002</td>\n",
       "      <td>1</td>\n",
       "      <td>2016-01-02</td>\n",
       "      <td>2016</td>\n",
       "      <td>1</td>\n",
       "      <td>2</td>\n",
       "      <td>01:15:00</td>\n",
       "      <td>1</td>\n",
       "      <td>AV GRAL PAZ  Y AV DE LOS CORRALES</td>\n",
       "      <td>GRAL PAZ</td>\n",
       "      <td>...</td>\n",
       "      <td>Point (95832.05571093 95505.41641999)</td>\n",
       "      <td>-58.50877521</td>\n",
       "      <td>-34.66977709</td>\n",
       "      <td>AUTO-PASAJEROS</td>\n",
       "      <td>AUTO</td>\n",
       "      <td>PASAJEROS</td>\n",
       "      <td>CONDUCTOR</td>\n",
       "      <td>MASCULINO</td>\n",
       "      <td>70</td>\n",
       "      <td>2016-01-02 00:00:00</td>\n",
       "    </tr>\n",
       "    <tr>\n",
       "      <th>2</th>\n",
       "      <td>2016-0003</td>\n",
       "      <td>1</td>\n",
       "      <td>2016-01-03</td>\n",
       "      <td>2016</td>\n",
       "      <td>1</td>\n",
       "      <td>3</td>\n",
       "      <td>07:00:00</td>\n",
       "      <td>7</td>\n",
       "      <td>AV ENTRE RIOS 2034</td>\n",
       "      <td>AVENIDA</td>\n",
       "      <td>...</td>\n",
       "      <td>Point (106684.29090040 99706.57687843)</td>\n",
       "      <td>-58.39040293</td>\n",
       "      <td>-34.63189362</td>\n",
       "      <td>MOTO-AUTO</td>\n",
       "      <td>MOTO</td>\n",
       "      <td>AUTO</td>\n",
       "      <td>CONDUCTOR</td>\n",
       "      <td>MASCULINO</td>\n",
       "      <td>30</td>\n",
       "      <td>2016-01-03 00:00:00</td>\n",
       "    </tr>\n",
       "  </tbody>\n",
       "</table>\n",
       "<p>3 rows × 25 columns</p>\n",
       "</div>"
      ],
      "text/plain": [
       "          ID  N_VICTIMAS      FECHA  AAAA  MM  DD      HORA HH  \\\n",
       "0  2016-0001           1 2016-01-01  2016   1   1  04:00:00  4   \n",
       "1  2016-0002           1 2016-01-02  2016   1   2  01:15:00  1   \n",
       "2  2016-0003           1 2016-01-03  2016   1   3  07:00:00  7   \n",
       "\n",
       "                             LUGAR_DEL_HECHO TIPO_DE_CALLE  ...  \\\n",
       "0  AV PIEDRA BUENA Y AV FERNANDEZ DE LA CRUZ       AVENIDA  ...   \n",
       "1          AV GRAL PAZ  Y AV DE LOS CORRALES      GRAL PAZ  ...   \n",
       "2                         AV ENTRE RIOS 2034       AVENIDA  ...   \n",
       "\n",
       "                                XY (CABA)      Longitud       Latitud  \\\n",
       "0   Point (98896.78238426 93532.43437792)  -58.47533969  -34.68757022   \n",
       "1   Point (95832.05571093 95505.41641999)  -58.50877521  -34.66977709   \n",
       "2  Point (106684.29090040 99706.57687843)  -58.39040293  -34.63189362   \n",
       "\n",
       "    PARTICIPANTES  VICTIMA    ACUSADO        ROL       SEXO EDAD  \\\n",
       "0       MOTO-AUTO     MOTO       AUTO  CONDUCTOR  MASCULINO   19   \n",
       "1  AUTO-PASAJEROS     AUTO  PASAJEROS  CONDUCTOR  MASCULINO   70   \n",
       "2       MOTO-AUTO     MOTO       AUTO  CONDUCTOR  MASCULINO   30   \n",
       "\n",
       "   FECHA_FALLECIMIENTO  \n",
       "0  2016-01-01 00:00:00  \n",
       "1  2016-01-02 00:00:00  \n",
       "2  2016-01-03 00:00:00  \n",
       "\n",
       "[3 rows x 25 columns]"
      ]
     },
     "execution_count": 96,
     "metadata": {},
     "output_type": "execute_result"
    }
   ],
   "source": [
    "dataframe.head(3)"
   ]
  },
  {
   "cell_type": "markdown",
   "metadata": {},
   "source": [
    "La instrucción dataframe['N_VICTIMAS']=1 cambiará el valor de la columna N_VICTIMAS de todas las filas del DataFrame a 1. Esto significa que todas las filas que actualmente tienen un valor mayor que 1 en la columna N_VICTIMAS se convertirán en filas con un solo registro."
   ]
  },
  {
   "cell_type": "code",
   "execution_count": 97,
   "metadata": {},
   "outputs": [],
   "source": [
    "dataframe['N_VICTIMAS']=1"
   ]
  },
  {
   "cell_type": "markdown",
   "metadata": {},
   "source": [
    "Corregir formato de longitud y Latitud:"
   ]
  },
  {
   "cell_type": "code",
   "execution_count": 98,
   "metadata": {},
   "outputs": [
    {
     "name": "stdout",
     "output_type": "stream",
     "text": [
      "            ID  N_VICTIMAS      FECHA  AAAA  MM  DD      HORA  HH  \\\n",
      "39   2016-0052           1 2016-04-20  2016   4  20  20:00:00  20   \n",
      "108  2016-0136           1 2016-10-25  2016  10  25  00:00:00   0   \n",
      "121  2016-0151           1 2016-11-18  2016  11  18  20:35:00  20   \n",
      "141  2016-0174           1 2016-12-27  2016  12  27  00:00:00   0   \n",
      "182  2017-0042           1 2017-04-10  2017   4  10  09:00:00   9   \n",
      "186  2017-0050           1 2017-04-28  2017   4  28  11:08:08  11   \n",
      "187  2017-0050           1 2017-04-28  2017   4  28  11:08:08  11   \n",
      "188  2017-0051           1 2017-05-01  2017   5   1  03:47:47   3   \n",
      "266  2017-0140           1 2017-11-19  2017  11  19  23:22:17  23   \n",
      "327  2018-0039           1 2018-04-21  2018   4  21  22:15:00  22   \n",
      "564  2020-0026           1 2020-05-17  2020   5  17  06:40:00   6   \n",
      "578  2020-0039           1 2020-09-01  2020   9   1  19:17:42  19   \n",
      "642  2021-0023           1 2021-03-01  2021   3   1  09:20:00   9   \n",
      "\n",
      "                             LUGAR_DEL_HECHO TIPO_DE_CALLE  ...    XY (CABA)  \\\n",
      "39                AUTOPISTA LUGONES PK 10000     AUTOPISTA  ...  Point (. .)   \n",
      "108         AU BUENOS AIRES - LA PLATA KM. 4     AUTOPISTA  ...  Point (. .)   \n",
      "121                                       SD         CALLE  ...  Point (. .)   \n",
      "141                     AUTOPISTA 25 DE MAYO     AUTOPISTA  ...  Point (. .)   \n",
      "182            AV. LEOPOLDO LUGONES PKM 6900      GRAL PAZ  ...  Point (. .)   \n",
      "186  AU PERITO MORENO Y RAMAL ENLACE AU1/AU6     AUTOPISTA  ...  Point (. .)   \n",
      "187  AU PERITO MORENO Y RAMAL ENLACE AU1/AU6     AUTOPISTA  ...  Point (. .)   \n",
      "188                       AU DELLEPIANE 2400     AUTOPISTA  ...  Point (. .)   \n",
      "266              AU ARTURO FRONDIZI PKM 3100     AUTOPISTA  ...  Point (. .)   \n",
      "327                 AUTOPISTA LUGONES KM 4.7     AUTOPISTA  ...  Point (. .)   \n",
      "564             LUGONES, LEOPOLDO AV. KM 6,1     AUTOPISTA  ...  Point (. .)   \n",
      "578                          MURGUIONDO 2700         CALLE  ...  Point (. .)   \n",
      "642         AU BUENOS AIRES LA PLATA  KM 4,5     AUTOPISTA  ...  Point (. .)   \n",
      "\n",
      "     Longitud Latitud     PARTICIPANTES  VICTIMA      ACUSADO  \\\n",
      "39        NaN     NaN           MOTO-SD     MOTO           SD   \n",
      "108       NaN     NaN       MOTO-CARGAS     MOTO       CARGAS   \n",
      "121       NaN     NaN         PEATON-SD   PEATON           SD   \n",
      "141       NaN     NaN             SD-SD       SD           SD   \n",
      "182       NaN     NaN       MOTO-CARGAS     MOTO       CARGAS   \n",
      "186       NaN     NaN       MOTO-CARGAS     MOTO       CARGAS   \n",
      "187       NaN     NaN       MOTO-CARGAS     MOTO       CARGAS   \n",
      "188       NaN     NaN         AUTO-AUTO     AUTO         AUTO   \n",
      "266       NaN     NaN    MOTO-PASAJEROS     MOTO    PASAJEROS   \n",
      "327       NaN     NaN       PEATON-AUTO   PEATON         AUTO   \n",
      "564       NaN     NaN  MOTO-OBJETO FIJO     MOTO  OBJETO FIJO   \n",
      "578       NaN     NaN     PEATON-CARGAS   PEATON       CARGAS   \n",
      "642       NaN     NaN       MOTO-CARGAS     MOTO       CARGAS   \n",
      "\n",
      "                      ROL       SEXO EDAD  FECHA_FALLECIMIENTO  \n",
      "39                     SD         SD   SD                   SD  \n",
      "108             CONDUCTOR         SD   SD                   SD  \n",
      "121                PEATON         SD   SD                   SD  \n",
      "141                    SD         SD   SD                   SD  \n",
      "182             CONDUCTOR  MASCULINO   SD  2017-04-10 00:00:00  \n",
      "186             CONDUCTOR  MASCULINO   46  2017-04-28 00:00:00  \n",
      "187  PASAJERO_ACOMPAÑANTE  MASCULINO   16  2017-04-28 00:00:00  \n",
      "188             CONDUCTOR  MASCULINO   33  2017-05-01 00:00:00  \n",
      "266             CONDUCTOR  MASCULINO   24  2017-11-19 00:00:00  \n",
      "327                PEATON  MASCULINO   37  2018-04-21 00:00:00  \n",
      "564             CONDUCTOR  MASCULINO   28  2020-05-17 00:00:00  \n",
      "578                PEATON  MASCULINO   44  2020-09-01 00:00:00  \n",
      "642             CONDUCTOR  MASCULINO   24  2021-03-01 00:00:00  \n",
      "\n",
      "[13 rows x 25 columns]\n"
     ]
    }
   ],
   "source": [
    "# Intenta convertir las columnas 'Latitud' y 'Longitud' en números flotantes con 'errors='coerce''\n",
    "dataframe['Latitud'] = pd.to_numeric(dataframe['Latitud'], errors='coerce')\n",
    "dataframe['Longitud'] = pd.to_numeric(dataframe['Longitud'], errors='coerce')\n",
    "\n",
    "# Encuentra las filas con valores problemáticos (NaN) en las columnas 'Latitud' o 'Longitud'\n",
    "filas_con_nan = dataframe[(dataframe['Latitud'].isna()) | (dataframe['Longitud'].isna())]\n",
    "\n",
    "# Imprime las filas con valores problemáticos para identificar y corregir los datos\n",
    "print(filas_con_nan)"
   ]
  },
  {
   "cell_type": "markdown",
   "metadata": {},
   "source": [
    "**Buscar valores sin dato SD**"
   ]
  },
  {
   "cell_type": "code",
   "execution_count": 99,
   "metadata": {},
   "outputs": [
    {
     "name": "stdout",
     "output_type": "stream",
     "text": [
      "{'HORA'}\n",
      "{'HH'}\n",
      "{'LUGAR_DEL_HECHO'}\n",
      "{'VICTIMA'}\n",
      "{'ACUSADO'}\n",
      "{'ROL'}\n",
      "{'SEXO'}\n",
      "{'EDAD'}\n",
      "{'FECHA_FALLECIMIENTO'}\n"
     ]
    }
   ],
   "source": [
    "# Valor 'SD' a buscar\n",
    "valor_a_buscar = 'SD'\n",
    "\n",
    "# Iterar a través de cada columna y encontrar las celdas que contienen el valor 'SD'\n",
    "for columna in dataframe.columns:\n",
    "    celdas_con_valor_sd = dataframe[dataframe[columna] == valor_a_buscar]\n",
    "    \n",
    "    # Imprimir las celdas con el valor 'SD' en la columna actual\n",
    "    if not celdas_con_valor_sd.empty:\n",
    "        print({columna})"
   ]
  },
  {
   "cell_type": "markdown",
   "metadata": {},
   "source": [
    "Verificar columna HORA:"
   ]
  },
  {
   "cell_type": "code",
   "execution_count": 100,
   "metadata": {},
   "outputs": [
    {
     "data": {
      "text/html": [
       "<div>\n",
       "<style scoped>\n",
       "    .dataframe tbody tr th:only-of-type {\n",
       "        vertical-align: middle;\n",
       "    }\n",
       "\n",
       "    .dataframe tbody tr th {\n",
       "        vertical-align: top;\n",
       "    }\n",
       "\n",
       "    .dataframe thead th {\n",
       "        text-align: right;\n",
       "    }\n",
       "</style>\n",
       "<table border=\"1\" class=\"dataframe\">\n",
       "  <thead>\n",
       "    <tr style=\"text-align: right;\">\n",
       "      <th></th>\n",
       "      <th>ID</th>\n",
       "      <th>N_VICTIMAS</th>\n",
       "      <th>FECHA</th>\n",
       "      <th>AAAA</th>\n",
       "      <th>MM</th>\n",
       "      <th>DD</th>\n",
       "      <th>HORA</th>\n",
       "      <th>HH</th>\n",
       "      <th>LUGAR_DEL_HECHO</th>\n",
       "      <th>TIPO_DE_CALLE</th>\n",
       "      <th>...</th>\n",
       "      <th>XY (CABA)</th>\n",
       "      <th>Longitud</th>\n",
       "      <th>Latitud</th>\n",
       "      <th>PARTICIPANTES</th>\n",
       "      <th>VICTIMA</th>\n",
       "      <th>ACUSADO</th>\n",
       "      <th>ROL</th>\n",
       "      <th>SEXO</th>\n",
       "      <th>EDAD</th>\n",
       "      <th>FECHA_FALLECIMIENTO</th>\n",
       "    </tr>\n",
       "  </thead>\n",
       "  <tbody>\n",
       "    <tr>\n",
       "      <th>536</th>\n",
       "      <td>2019-0103</td>\n",
       "      <td>1</td>\n",
       "      <td>2019-12-18</td>\n",
       "      <td>2019</td>\n",
       "      <td>12</td>\n",
       "      <td>18</td>\n",
       "      <td>SD</td>\n",
       "      <td>SD</td>\n",
       "      <td>PAZ, GRAL. AV. Y GRIVEO</td>\n",
       "      <td>GRAL PAZ</td>\n",
       "      <td>...</td>\n",
       "      <td>Point (94643.11254058 103831.57115061)</td>\n",
       "      <td>-58.521694</td>\n",
       "      <td>-34.594716</td>\n",
       "      <td>MOTO-MOTO</td>\n",
       "      <td>MOTO</td>\n",
       "      <td>MOTO</td>\n",
       "      <td>CONDUCTOR</td>\n",
       "      <td>MASCULINO</td>\n",
       "      <td>24</td>\n",
       "      <td>2019-12-18 00:00:00</td>\n",
       "    </tr>\n",
       "  </tbody>\n",
       "</table>\n",
       "<p>1 rows × 25 columns</p>\n",
       "</div>"
      ],
      "text/plain": [
       "            ID  N_VICTIMAS      FECHA  AAAA  MM  DD HORA  HH  \\\n",
       "536  2019-0103           1 2019-12-18  2019  12  18   SD  SD   \n",
       "\n",
       "             LUGAR_DEL_HECHO TIPO_DE_CALLE  ...  \\\n",
       "536  PAZ, GRAL. AV. Y GRIVEO      GRAL PAZ  ...   \n",
       "\n",
       "                                  XY (CABA)   Longitud    Latitud  \\\n",
       "536  Point (94643.11254058 103831.57115061) -58.521694 -34.594716   \n",
       "\n",
       "    PARTICIPANTES  VICTIMA ACUSADO        ROL       SEXO EDAD  \\\n",
       "536     MOTO-MOTO     MOTO    MOTO  CONDUCTOR  MASCULINO   24   \n",
       "\n",
       "     FECHA_FALLECIMIENTO  \n",
       "536  2019-12-18 00:00:00  \n",
       "\n",
       "[1 rows x 25 columns]"
      ]
     },
     "execution_count": 100,
     "metadata": {},
     "output_type": "execute_result"
    }
   ],
   "source": [
    "valores_igual_0 = dataframe.loc[dataframe['HORA'] == 'SD']\n",
    "valores_igual_0"
   ]
  },
  {
   "cell_type": "code",
   "execution_count": 101,
   "metadata": {},
   "outputs": [],
   "source": [
    "# se realiza la funcion para intercambiar valores\n",
    "def columns_modifier(mode,DF,columns, value, replace=None):\n",
    "    df=DF.copy()\n",
    "    if mode == 'swap':\n",
    "        for index, row in df.iterrows():\n",
    "\n",
    "            value_1=row[columns[0]]\n",
    "            value_2=row[columns[1]]\n",
    "\n",
    "            if value_1== value:\n",
    "                temp=value_1\n",
    "                df.at[index, columns[0]] = value_2\n",
    "                df.at[index, columns[1]] = temp\n",
    "    if mode == 'replace':\n",
    "        for index, row in df.iterrows():\n",
    "            to_replace=row[columns[0]]\n",
    "\n",
    "            if to_replace == value:\n",
    "                df.at[index, columns[0]] = replace\n",
    "    return df"
   ]
  },
  {
   "cell_type": "markdown",
   "metadata": {},
   "source": [
    "Reemplazamos valor SD por nan:"
   ]
  },
  {
   "cell_type": "code",
   "execution_count": 102,
   "metadata": {},
   "outputs": [],
   "source": [
    "columna=['HH']\n",
    "dataframe=columns_modifier('replace',dataframe,columna,'SD',np.nan)"
   ]
  },
  {
   "cell_type": "code",
   "execution_count": 103,
   "metadata": {},
   "outputs": [],
   "source": [
    "columna=['HORA']\n",
    "dataframe=columns_modifier('replace',dataframe,columna,'SD',np.nan)"
   ]
  },
  {
   "cell_type": "code",
   "execution_count": 104,
   "metadata": {},
   "outputs": [],
   "source": [
    "columna=['EDAD']\n",
    "dataframe=columns_modifier('replace',dataframe,columna,'SD',np.nan)"
   ]
  },
  {
   "cell_type": "markdown",
   "metadata": {},
   "source": [
    "Comprobar"
   ]
  },
  {
   "cell_type": "code",
   "execution_count": 105,
   "metadata": {},
   "outputs": [
    {
     "data": {
      "text/html": [
       "<div>\n",
       "<style scoped>\n",
       "    .dataframe tbody tr th:only-of-type {\n",
       "        vertical-align: middle;\n",
       "    }\n",
       "\n",
       "    .dataframe tbody tr th {\n",
       "        vertical-align: top;\n",
       "    }\n",
       "\n",
       "    .dataframe thead th {\n",
       "        text-align: right;\n",
       "    }\n",
       "</style>\n",
       "<table border=\"1\" class=\"dataframe\">\n",
       "  <thead>\n",
       "    <tr style=\"text-align: right;\">\n",
       "      <th></th>\n",
       "      <th>ID</th>\n",
       "      <th>N_VICTIMAS</th>\n",
       "      <th>FECHA</th>\n",
       "      <th>AAAA</th>\n",
       "      <th>MM</th>\n",
       "      <th>DD</th>\n",
       "      <th>HORA</th>\n",
       "      <th>HH</th>\n",
       "      <th>LUGAR_DEL_HECHO</th>\n",
       "      <th>TIPO_DE_CALLE</th>\n",
       "      <th>...</th>\n",
       "      <th>XY (CABA)</th>\n",
       "      <th>Longitud</th>\n",
       "      <th>Latitud</th>\n",
       "      <th>PARTICIPANTES</th>\n",
       "      <th>VICTIMA</th>\n",
       "      <th>ACUSADO</th>\n",
       "      <th>ROL</th>\n",
       "      <th>SEXO</th>\n",
       "      <th>EDAD</th>\n",
       "      <th>FECHA_FALLECIMIENTO</th>\n",
       "    </tr>\n",
       "  </thead>\n",
       "  <tbody>\n",
       "  </tbody>\n",
       "</table>\n",
       "<p>0 rows × 25 columns</p>\n",
       "</div>"
      ],
      "text/plain": [
       "Empty DataFrame\n",
       "Columns: [ID, N_VICTIMAS, FECHA, AAAA, MM, DD, HORA, HH, LUGAR_DEL_HECHO, TIPO_DE_CALLE, Calle, Altura, Cruce, Dirección Normalizada, COMUNA, XY (CABA), Longitud, Latitud, PARTICIPANTES, VICTIMA, ACUSADO, ROL, SEXO, EDAD, FECHA_FALLECIMIENTO]\n",
       "Index: []\n",
       "\n",
       "[0 rows x 25 columns]"
      ]
     },
     "execution_count": 105,
     "metadata": {},
     "output_type": "execute_result"
    }
   ],
   "source": [
    "valores_igual_0 = dataframe.loc[dataframe['HORA'] == 'SD']\n",
    "valores_igual_0"
   ]
  },
  {
   "cell_type": "markdown",
   "metadata": {},
   "source": [
    "Cambiar formato de hora"
   ]
  },
  {
   "cell_type": "code",
   "execution_count": 106,
   "metadata": {},
   "outputs": [],
   "source": [
    "def convertir_hora(decimal_hora):\n",
    "    # Extraer la parte entera y decimal de la hora\n",
    "    horas_enteras = int(decimal_hora)\n",
    "    minutos_decimales = (decimal_hora - horas_enteras) * 60\n",
    "\n",
    "    # Formatear como cadena de tiempo (HH:MM)\n",
    "    hora_formateada = f\"{horas_enteras:02d}:{int(minutos_decimales):02d}\"\n",
    "\n",
    "    return hora_formateada"
   ]
  },
  {
   "cell_type": "markdown",
   "metadata": {},
   "source": [
    "Cambio de SD en la columna FECHA_FALLECIMIENTO por nan:"
   ]
  },
  {
   "cell_type": "code",
   "execution_count": 107,
   "metadata": {},
   "outputs": [],
   "source": [
    "columna=['FECHA_FALLECIMIENTO']\n",
    "\n",
    "dataframe=columns_modifier('replace',dataframe,columna,'SD',np.nan)"
   ]
  },
  {
   "cell_type": "code",
   "execution_count": 108,
   "metadata": {},
   "outputs": [],
   "source": [
    "# Llenando los valores faltantes en la columna 'HORA' del DataFrame 'dataframe'\n",
    "dataframe['HORA']=dataframe['HORA'].fillna(convertir_hora(dataframe['HH'].mean()))\n",
    "#  Columna 'HH' en el DataFrame 'dataframe'\n",
    "dataframe['HH']=dataframe['HH'].fillna(dataframe['HH'].mean()).apply(int)"
   ]
  },
  {
   "cell_type": "code",
   "execution_count": 109,
   "metadata": {},
   "outputs": [
    {
     "data": {
      "text/html": [
       "<div>\n",
       "<style scoped>\n",
       "    .dataframe tbody tr th:only-of-type {\n",
       "        vertical-align: middle;\n",
       "    }\n",
       "\n",
       "    .dataframe tbody tr th {\n",
       "        vertical-align: top;\n",
       "    }\n",
       "\n",
       "    .dataframe thead th {\n",
       "        text-align: right;\n",
       "    }\n",
       "</style>\n",
       "<table border=\"1\" class=\"dataframe\">\n",
       "  <thead>\n",
       "    <tr style=\"text-align: right;\">\n",
       "      <th></th>\n",
       "      <th>ID</th>\n",
       "      <th>N_VICTIMAS</th>\n",
       "      <th>FECHA</th>\n",
       "      <th>AAAA</th>\n",
       "      <th>MM</th>\n",
       "      <th>DD</th>\n",
       "      <th>HORA</th>\n",
       "      <th>HH</th>\n",
       "      <th>LUGAR_DEL_HECHO</th>\n",
       "      <th>TIPO_DE_CALLE</th>\n",
       "      <th>...</th>\n",
       "      <th>XY (CABA)</th>\n",
       "      <th>Longitud</th>\n",
       "      <th>Latitud</th>\n",
       "      <th>PARTICIPANTES</th>\n",
       "      <th>VICTIMA</th>\n",
       "      <th>ACUSADO</th>\n",
       "      <th>ROL</th>\n",
       "      <th>SEXO</th>\n",
       "      <th>EDAD</th>\n",
       "      <th>FECHA_FALLECIMIENTO</th>\n",
       "    </tr>\n",
       "  </thead>\n",
       "  <tbody>\n",
       "    <tr>\n",
       "      <th>0</th>\n",
       "      <td>2016-0001</td>\n",
       "      <td>1</td>\n",
       "      <td>2016-01-01</td>\n",
       "      <td>2016</td>\n",
       "      <td>1</td>\n",
       "      <td>1</td>\n",
       "      <td>04:00:00</td>\n",
       "      <td>4</td>\n",
       "      <td>AV PIEDRA BUENA Y AV FERNANDEZ DE LA CRUZ</td>\n",
       "      <td>AVENIDA</td>\n",
       "      <td>...</td>\n",
       "      <td>Point (98896.78238426 93532.43437792)</td>\n",
       "      <td>-58.475340</td>\n",
       "      <td>-34.687570</td>\n",
       "      <td>MOTO-AUTO</td>\n",
       "      <td>MOTO</td>\n",
       "      <td>AUTO</td>\n",
       "      <td>CONDUCTOR</td>\n",
       "      <td>MASCULINO</td>\n",
       "      <td>19</td>\n",
       "      <td>2016-01-01 00:00:00</td>\n",
       "    </tr>\n",
       "    <tr>\n",
       "      <th>1</th>\n",
       "      <td>2016-0002</td>\n",
       "      <td>1</td>\n",
       "      <td>2016-01-02</td>\n",
       "      <td>2016</td>\n",
       "      <td>1</td>\n",
       "      <td>2</td>\n",
       "      <td>01:15:00</td>\n",
       "      <td>1</td>\n",
       "      <td>AV GRAL PAZ  Y AV DE LOS CORRALES</td>\n",
       "      <td>GRAL PAZ</td>\n",
       "      <td>...</td>\n",
       "      <td>Point (95832.05571093 95505.41641999)</td>\n",
       "      <td>-58.508775</td>\n",
       "      <td>-34.669777</td>\n",
       "      <td>AUTO-PASAJEROS</td>\n",
       "      <td>AUTO</td>\n",
       "      <td>PASAJEROS</td>\n",
       "      <td>CONDUCTOR</td>\n",
       "      <td>MASCULINO</td>\n",
       "      <td>70</td>\n",
       "      <td>2016-01-02 00:00:00</td>\n",
       "    </tr>\n",
       "    <tr>\n",
       "      <th>2</th>\n",
       "      <td>2016-0003</td>\n",
       "      <td>1</td>\n",
       "      <td>2016-01-03</td>\n",
       "      <td>2016</td>\n",
       "      <td>1</td>\n",
       "      <td>3</td>\n",
       "      <td>07:00:00</td>\n",
       "      <td>7</td>\n",
       "      <td>AV ENTRE RIOS 2034</td>\n",
       "      <td>AVENIDA</td>\n",
       "      <td>...</td>\n",
       "      <td>Point (106684.29090040 99706.57687843)</td>\n",
       "      <td>-58.390403</td>\n",
       "      <td>-34.631894</td>\n",
       "      <td>MOTO-AUTO</td>\n",
       "      <td>MOTO</td>\n",
       "      <td>AUTO</td>\n",
       "      <td>CONDUCTOR</td>\n",
       "      <td>MASCULINO</td>\n",
       "      <td>30</td>\n",
       "      <td>2016-01-03 00:00:00</td>\n",
       "    </tr>\n",
       "  </tbody>\n",
       "</table>\n",
       "<p>3 rows × 25 columns</p>\n",
       "</div>"
      ],
      "text/plain": [
       "          ID  N_VICTIMAS      FECHA  AAAA  MM  DD      HORA  HH  \\\n",
       "0  2016-0001           1 2016-01-01  2016   1   1  04:00:00   4   \n",
       "1  2016-0002           1 2016-01-02  2016   1   2  01:15:00   1   \n",
       "2  2016-0003           1 2016-01-03  2016   1   3  07:00:00   7   \n",
       "\n",
       "                             LUGAR_DEL_HECHO TIPO_DE_CALLE  ...  \\\n",
       "0  AV PIEDRA BUENA Y AV FERNANDEZ DE LA CRUZ       AVENIDA  ...   \n",
       "1          AV GRAL PAZ  Y AV DE LOS CORRALES      GRAL PAZ  ...   \n",
       "2                         AV ENTRE RIOS 2034       AVENIDA  ...   \n",
       "\n",
       "                                XY (CABA)   Longitud    Latitud  \\\n",
       "0   Point (98896.78238426 93532.43437792) -58.475340 -34.687570   \n",
       "1   Point (95832.05571093 95505.41641999) -58.508775 -34.669777   \n",
       "2  Point (106684.29090040 99706.57687843) -58.390403 -34.631894   \n",
       "\n",
       "    PARTICIPANTES  VICTIMA    ACUSADO        ROL       SEXO EDAD  \\\n",
       "0       MOTO-AUTO     MOTO       AUTO  CONDUCTOR  MASCULINO   19   \n",
       "1  AUTO-PASAJEROS     AUTO  PASAJEROS  CONDUCTOR  MASCULINO   70   \n",
       "2       MOTO-AUTO     MOTO       AUTO  CONDUCTOR  MASCULINO   30   \n",
       "\n",
       "   FECHA_FALLECIMIENTO  \n",
       "0  2016-01-01 00:00:00  \n",
       "1  2016-01-02 00:00:00  \n",
       "2  2016-01-03 00:00:00  \n",
       "\n",
       "[3 rows x 25 columns]"
      ]
     },
     "execution_count": 109,
     "metadata": {},
     "output_type": "execute_result"
    }
   ],
   "source": [
    "dataframe.head(3)"
   ]
  },
  {
   "cell_type": "markdown",
   "metadata": {},
   "source": [
    "Identificar y mostrar las filas en el DataFrame que contienen valores en la columna 'HORA' que no cumplen con el formato de hora \"HH:MM:SS\"."
   ]
  },
  {
   "cell_type": "code",
   "execution_count": 110,
   "metadata": {},
   "outputs": [
    {
     "name": "stdout",
     "output_type": "stream",
     "text": [
      "Filas con formato diferente:\n",
      "            ID  N_VICTIMAS      FECHA  AAAA  MM  DD                 HORA  HH  \\\n",
      "457  2019-0022           1 2019-03-15  2019   3  15  1900-01-02 00:00:00   0   \n",
      "459  2019-0024           1 2019-03-19  2019   3  19  1900-01-14 07:12:00   7   \n",
      "514  2019-0080           1 2019-09-17  2019   9  17  1900-01-04 18:40:00  18   \n",
      "536  2019-0103           1 2019-12-18  2019  12  18                11:33  11   \n",
      "\n",
      "                                       LUGAR_DEL_HECHO TIPO_DE_CALLE  ...  \\\n",
      "457  ENTRE RIOS AV. BAJO PUENTE AUTOPISTA (1260 APROX)       AVENIDA  ...   \n",
      "459                       ANTARTIDA ARGENTINA AV. 1325       AVENIDA  ...   \n",
      "514                       CABILDO AV. y PAZ, GRAL. AV.      GRAL PAZ  ...   \n",
      "536                            PAZ, GRAL. AV. Y GRIVEO      GRAL PAZ  ...   \n",
      "\n",
      "                                   XY (CABA)   Longitud    Latitud  \\\n",
      "457  Point (106608.39392805 100635.27735528) -58.391238 -34.623522   \n",
      "459  Point (108368.93688513 104860.74716674) -58.372081 -34.585420   \n",
      "514   Point (98817.74986778 110096.31367495) -58.476178 -34.538257   \n",
      "536   Point (94643.11254058 103831.57115061) -58.521694 -34.594716   \n",
      "\n",
      "    PARTICIPANTES  VICTIMA ACUSADO                   ROL       SEXO EDAD  \\\n",
      "457       AUTO-SD     AUTO      SD  PASAJERO_ACOMPAÑANTE  MASCULINO  NaN   \n",
      "459   MOTO-CARGAS     MOTO  CARGAS             CONDUCTOR  MASCULINO   32   \n",
      "514   PEATON-MOTO   PEATON    MOTO                PEATON  MASCULINO   76   \n",
      "536     MOTO-MOTO     MOTO    MOTO             CONDUCTOR  MASCULINO   24   \n",
      "\n",
      "     FECHA_FALLECIMIENTO  \n",
      "457  2019-03-15 00:00:00  \n",
      "459  2019-03-19 00:00:00  \n",
      "514  2019-09-17 00:00:00  \n",
      "536  2019-12-18 00:00:00  \n",
      "\n",
      "[4 rows x 25 columns]\n"
     ]
    }
   ],
   "source": [
    "\n",
    "# Convertir los valores de la columna \"hora\" a cadenas de texto\n",
    "dataframe['HORA'] = dataframe['HORA'].astype(str)\n",
    "\n",
    "# Verificar si el valor en cada fila tiene un formato de hora válido\n",
    "formato_correcto = dataframe['HORA'].str.match(r'^\\d{2}:\\d{2}:\\d{2}$')\n",
    "\n",
    "# Filtrar las filas con formato diferente\n",
    "filas_con_formato_diferente = dataframe[~formato_correcto]\n",
    "\n",
    "# Mostrar las filas con formato diferente\n",
    "print(\"Filas con formato diferente:\")\n",
    "print(filas_con_formato_diferente)"
   ]
  },
  {
   "cell_type": "markdown",
   "metadata": {},
   "source": [
    "Convertir los valores en la columna 'HORA' en objetos de tiempo y luego identificar y mostrar las filas que contienen errores de conversión, es decir, aquellas en las que el formato de la hora no es válido y no se puede convertir correctamente en un objeto de tiempo."
   ]
  },
  {
   "cell_type": "code",
   "execution_count": 111,
   "metadata": {},
   "outputs": [
    {
     "name": "stdout",
     "output_type": "stream",
     "text": [
      "Filas con formato diferente:\n",
      "Empty DataFrame\n",
      "Columns: [ID, N_VICTIMAS, FECHA, AAAA, MM, DD, HORA, HH, LUGAR_DEL_HECHO, TIPO_DE_CALLE, Calle, Altura, Cruce, Dirección Normalizada, COMUNA, XY (CABA), Longitud, Latitud, PARTICIPANTES, VICTIMA, ACUSADO, ROL, SEXO, EDAD, FECHA_FALLECIMIENTO]\n",
      "Index: []\n",
      "\n",
      "[0 rows x 25 columns]\n"
     ]
    },
    {
     "name": "stderr",
     "output_type": "stream",
     "text": [
      "C:\\Users\\alexi\\AppData\\Local\\Temp\\ipykernel_3256\\1323556901.py:2: UserWarning: Could not infer format, so each element will be parsed individually, falling back to `dateutil`. To ensure parsing is consistent and as-expected, please specify a format.\n",
      "  dataframe['HORA'] = pd.to_datetime(dataframe['HORA'], errors='coerce')\n"
     ]
    }
   ],
   "source": [
    "# Convertir los valores de la columna \"hora\" a objetos de tiempo (datetime)\n",
    "dataframe['HORA'] = pd.to_datetime(dataframe['HORA'], errors='coerce')\n",
    "\n",
    "# Identificar filas con errores de conversión (formato incorrecto)\n",
    "filas_con_errores = dataframe[dataframe['HORA'].isna()]\n",
    "\n",
    "# Mostrar las filas con formato diferente\n",
    "print(\"Filas con formato diferente:\")\n",
    "print(filas_con_errores)"
   ]
  },
  {
   "cell_type": "markdown",
   "metadata": {},
   "source": [
    "**Crea la columna 'semestre' para el calculo del KPI**"
   ]
  },
  {
   "cell_type": "code",
   "execution_count": 112,
   "metadata": {},
   "outputs": [],
   "source": [
    "# Extraer el mes de la fecha y calcular el semestre\n",
    "dataframe['SEMESTRE'] = (dataframe['FECHA'].dt.month - 1) // 6 + 1\n"
   ]
  },
  {
   "cell_type": "code",
   "execution_count": 113,
   "metadata": {},
   "outputs": [
    {
     "data": {
      "text/html": [
       "<div>\n",
       "<style scoped>\n",
       "    .dataframe tbody tr th:only-of-type {\n",
       "        vertical-align: middle;\n",
       "    }\n",
       "\n",
       "    .dataframe tbody tr th {\n",
       "        vertical-align: top;\n",
       "    }\n",
       "\n",
       "    .dataframe thead th {\n",
       "        text-align: right;\n",
       "    }\n",
       "</style>\n",
       "<table border=\"1\" class=\"dataframe\">\n",
       "  <thead>\n",
       "    <tr style=\"text-align: right;\">\n",
       "      <th></th>\n",
       "      <th>ID</th>\n",
       "      <th>N_VICTIMAS</th>\n",
       "      <th>FECHA</th>\n",
       "      <th>AAAA</th>\n",
       "      <th>MM</th>\n",
       "      <th>DD</th>\n",
       "      <th>HORA</th>\n",
       "      <th>HH</th>\n",
       "      <th>LUGAR_DEL_HECHO</th>\n",
       "      <th>TIPO_DE_CALLE</th>\n",
       "      <th>...</th>\n",
       "      <th>Longitud</th>\n",
       "      <th>Latitud</th>\n",
       "      <th>PARTICIPANTES</th>\n",
       "      <th>VICTIMA</th>\n",
       "      <th>ACUSADO</th>\n",
       "      <th>ROL</th>\n",
       "      <th>SEXO</th>\n",
       "      <th>EDAD</th>\n",
       "      <th>FECHA_FALLECIMIENTO</th>\n",
       "      <th>SEMESTRE</th>\n",
       "    </tr>\n",
       "  </thead>\n",
       "  <tbody>\n",
       "    <tr>\n",
       "      <th>0</th>\n",
       "      <td>2016-0001</td>\n",
       "      <td>1</td>\n",
       "      <td>2016-01-01</td>\n",
       "      <td>2016</td>\n",
       "      <td>1</td>\n",
       "      <td>1</td>\n",
       "      <td>2023-12-04 04:00:00</td>\n",
       "      <td>4</td>\n",
       "      <td>AV PIEDRA BUENA Y AV FERNANDEZ DE LA CRUZ</td>\n",
       "      <td>AVENIDA</td>\n",
       "      <td>...</td>\n",
       "      <td>-58.47534</td>\n",
       "      <td>-34.68757</td>\n",
       "      <td>MOTO-AUTO</td>\n",
       "      <td>MOTO</td>\n",
       "      <td>AUTO</td>\n",
       "      <td>CONDUCTOR</td>\n",
       "      <td>MASCULINO</td>\n",
       "      <td>19</td>\n",
       "      <td>2016-01-01 00:00:00</td>\n",
       "      <td>1</td>\n",
       "    </tr>\n",
       "  </tbody>\n",
       "</table>\n",
       "<p>1 rows × 26 columns</p>\n",
       "</div>"
      ],
      "text/plain": [
       "          ID  N_VICTIMAS      FECHA  AAAA  MM  DD                HORA  HH  \\\n",
       "0  2016-0001           1 2016-01-01  2016   1   1 2023-12-04 04:00:00   4   \n",
       "\n",
       "                             LUGAR_DEL_HECHO TIPO_DE_CALLE  ...  Longitud  \\\n",
       "0  AV PIEDRA BUENA Y AV FERNANDEZ DE LA CRUZ       AVENIDA  ... -58.47534   \n",
       "\n",
       "    Latitud PARTICIPANTES VICTIMA  ACUSADO        ROL       SEXO  EDAD  \\\n",
       "0 -34.68757     MOTO-AUTO    MOTO     AUTO  CONDUCTOR  MASCULINO    19   \n",
       "\n",
       "   FECHA_FALLECIMIENTO SEMESTRE  \n",
       "0  2016-01-01 00:00:00        1  \n",
       "\n",
       "[1 rows x 26 columns]"
      ]
     },
     "execution_count": 113,
     "metadata": {},
     "output_type": "execute_result"
    }
   ],
   "source": [
    "dataframe.head(1)"
   ]
  },
  {
   "cell_type": "markdown",
   "metadata": {},
   "source": [
    "## Gráficos y análisis"
   ]
  },
  {
   "cell_type": "markdown",
   "metadata": {},
   "source": [
    "**Relación Fecha-Número de víctimas:**"
   ]
  },
  {
   "cell_type": "code",
   "execution_count": 114,
   "metadata": {},
   "outputs": [
    {
     "data": {
      "image/png": "[encoded data removed]",
      "text/plain": [
       "<Figure size 600x300 with 1 Axes>"
      ]
     },
     "metadata": {},
     "output_type": "display_data"
    }
   ],
   "source": [
    "# Agrupa los datos por fecha y suma el número de víctimas en cada fecha\n",
    "victimas_por_fecha = dataframe.groupby('AAAA')['N_VICTIMAS'].count().reset_index()\n",
    "\n",
    "# Crea la gráfica\n",
    "plt.figure(figsize=(6, 3))  # Ajusta el tamaño de la gráfica según tus preferencias\n",
    "plt.plot(victimas_por_fecha['AAAA'], victimas_por_fecha['N_VICTIMAS'], marker='o', linestyle='-')\n",
    "plt.title('Relación entre AÑO y el Número de Víctimas')\n",
    "plt.xlabel('AÑO')\n",
    "plt.ylabel('Número de Víctimas')\n",
    "plt.grid(True)\n",
    "\n",
    "# Mostrar la gráfica\n",
    "plt.show()"
   ]
  },
  {
   "cell_type": "code",
   "execution_count": 115,
   "metadata": {},
   "outputs": [
    {
     "data": {
      "text/html": [
       "<div>\n",
       "<style scoped>\n",
       "    .dataframe tbody tr th:only-of-type {\n",
       "        vertical-align: middle;\n",
       "    }\n",
       "\n",
       "    .dataframe tbody tr th {\n",
       "        vertical-align: top;\n",
       "    }\n",
       "\n",
       "    .dataframe thead th {\n",
       "        text-align: right;\n",
       "    }\n",
       "</style>\n",
       "<table border=\"1\" class=\"dataframe\">\n",
       "  <thead>\n",
       "    <tr style=\"text-align: right;\">\n",
       "      <th></th>\n",
       "      <th>AAAA</th>\n",
       "      <th>N_VICTIMAS</th>\n",
       "    </tr>\n",
       "  </thead>\n",
       "  <tbody>\n",
       "    <tr>\n",
       "      <th>0</th>\n",
       "      <td>2016</td>\n",
       "      <td>146</td>\n",
       "    </tr>\n",
       "    <tr>\n",
       "      <th>1</th>\n",
       "      <td>2017</td>\n",
       "      <td>140</td>\n",
       "    </tr>\n",
       "    <tr>\n",
       "      <th>2</th>\n",
       "      <td>2018</td>\n",
       "      <td>149</td>\n",
       "    </tr>\n",
       "    <tr>\n",
       "      <th>3</th>\n",
       "      <td>2019</td>\n",
       "      <td>104</td>\n",
       "    </tr>\n",
       "    <tr>\n",
       "      <th>4</th>\n",
       "      <td>2020</td>\n",
       "      <td>81</td>\n",
       "    </tr>\n",
       "    <tr>\n",
       "      <th>5</th>\n",
       "      <td>2021</td>\n",
       "      <td>97</td>\n",
       "    </tr>\n",
       "  </tbody>\n",
       "</table>\n",
       "</div>"
      ],
      "text/plain": [
       "   AAAA  N_VICTIMAS\n",
       "0  2016         146\n",
       "1  2017         140\n",
       "2  2018         149\n",
       "3  2019         104\n",
       "4  2020          81\n",
       "5  2021          97"
      ]
     },
     "execution_count": 115,
     "metadata": {},
     "output_type": "execute_result"
    }
   ],
   "source": [
    "victimas_por_fecha"
   ]
  },
  {
   "cell_type": "markdown",
   "metadata": {},
   "source": [
    "\n",
    "**Análisis de la gráfica #1:**\n",
    "\n",
    "- Tendencia temporal\n",
    "\n",
    "La gráfica presenta datos desde 2016 hasta 2021, lo que permite analizar la evolución del número de víctimas a lo largo de este periodo. Se observa que el número de víctimas disminuyó desde 2018 hasta 2021, tras un pico en 2018.\n",
    "\n",
    "- Pico en 2018\n",
    "\n",
    "El año 2018 destaca como el año con el mayor número de víctimas, con 149. Es necesario investigar las causas de este aumento significativo en comparación con los años anteriores y posteriores.\n",
    "\n",
    "- Disminución en 2019 y 2020\n",
    "\n",
    "En 2019, el número de víctimas disminuyó a 104, y en 2020 disminuyó aún más a 81. Esta tendencia a la baja podría deberse a una serie de factores, como políticas gubernamentales, cambios en la economía o medidas de seguridad.\n",
    "\n",
    "- Aumento en 2021\n",
    "\n",
    "En 2021, el número de víctimas aumentó nuevamente a 97. Es necesario investigar las causas de este aumento, que podría deberse a factores similares a los que provocaron el pico en 2018.\n",
    "\n",
    "- Posibles factores influyentes\n",
    "\n",
    "Para un análisis más completo, sería necesario considerar posibles factores que podrían haber contribuido a las variaciones en el número de víctimas a lo largo de estos años. Algunos factores que podrían influir incluyen:\n",
    "\n",
    "Políticas gubernamentales\n",
    "Cambios en la economía\n",
    "Medidas de seguridad\n",
    "Otros factores sociales o económicos\n",
    "Estadísticas descriptivas\n"
   ]
  },
  {
   "cell_type": "markdown",
   "metadata": {},
   "source": [
    "**Víctimas por columna**"
   ]
  },
  {
   "cell_type": "code",
   "execution_count": 116,
   "metadata": {},
   "outputs": [
    {
     "data": {
      "image/png": "[encoded data removed]",
      "text/plain": [
       "<Figure size 600x300 with 1 Axes>"
      ]
     },
     "metadata": {},
     "output_type": "display_data"
    }
   ],
   "source": [
    "# Cuenta el número de víctimas en cada comuna\n",
    "victimas_por_comuna = dataframe.groupby('COMUNA')['N_VICTIMAS'].sum().reset_index()\n",
    "\n",
    "# Crea la gráfica de barras\n",
    "plt.figure(figsize=(6, 3))\n",
    "plt.bar(victimas_por_comuna['COMUNA'], victimas_por_comuna['N_VICTIMAS'])\n",
    "plt.title('Número de Víctimas por Comuna')\n",
    "plt.xlabel('Comuna')\n",
    "plt.ylabel('Número de Víctimas')\n",
    "plt.xticks(rotation=90)  # Rotar las etiquetas del eje x para una mejor visualización\n",
    "plt.grid(axis='y')\n",
    "\n",
    "# Mostrar la gráfica\n",
    "plt.show()"
   ]
  },
  {
   "cell_type": "code",
   "execution_count": 117,
   "metadata": {},
   "outputs": [
    {
     "data": {
      "text/html": [
       "<div>\n",
       "<style scoped>\n",
       "    .dataframe tbody tr th:only-of-type {\n",
       "        vertical-align: middle;\n",
       "    }\n",
       "\n",
       "    .dataframe tbody tr th {\n",
       "        vertical-align: top;\n",
       "    }\n",
       "\n",
       "    .dataframe thead th {\n",
       "        text-align: right;\n",
       "    }\n",
       "</style>\n",
       "<table border=\"1\" class=\"dataframe\">\n",
       "  <thead>\n",
       "    <tr style=\"text-align: right;\">\n",
       "      <th></th>\n",
       "      <th>COMUNA</th>\n",
       "      <th>N_VICTIMAS</th>\n",
       "    </tr>\n",
       "  </thead>\n",
       "  <tbody>\n",
       "    <tr>\n",
       "      <th>0</th>\n",
       "      <td>0</td>\n",
       "      <td>2</td>\n",
       "    </tr>\n",
       "    <tr>\n",
       "      <th>1</th>\n",
       "      <td>1</td>\n",
       "      <td>93</td>\n",
       "    </tr>\n",
       "    <tr>\n",
       "      <th>2</th>\n",
       "      <td>2</td>\n",
       "      <td>25</td>\n",
       "    </tr>\n",
       "    <tr>\n",
       "      <th>3</th>\n",
       "      <td>3</td>\n",
       "      <td>46</td>\n",
       "    </tr>\n",
       "    <tr>\n",
       "      <th>4</th>\n",
       "      <td>4</td>\n",
       "      <td>79</td>\n",
       "    </tr>\n",
       "    <tr>\n",
       "      <th>5</th>\n",
       "      <td>5</td>\n",
       "      <td>22</td>\n",
       "    </tr>\n",
       "    <tr>\n",
       "      <th>6</th>\n",
       "      <td>6</td>\n",
       "      <td>22</td>\n",
       "    </tr>\n",
       "    <tr>\n",
       "      <th>7</th>\n",
       "      <td>7</td>\n",
       "      <td>62</td>\n",
       "    </tr>\n",
       "    <tr>\n",
       "      <th>8</th>\n",
       "      <td>8</td>\n",
       "      <td>67</td>\n",
       "    </tr>\n",
       "    <tr>\n",
       "      <th>9</th>\n",
       "      <td>9</td>\n",
       "      <td>75</td>\n",
       "    </tr>\n",
       "    <tr>\n",
       "      <th>10</th>\n",
       "      <td>10</td>\n",
       "      <td>30</td>\n",
       "    </tr>\n",
       "    <tr>\n",
       "      <th>11</th>\n",
       "      <td>11</td>\n",
       "      <td>33</td>\n",
       "    </tr>\n",
       "    <tr>\n",
       "      <th>12</th>\n",
       "      <td>12</td>\n",
       "      <td>39</td>\n",
       "    </tr>\n",
       "    <tr>\n",
       "      <th>13</th>\n",
       "      <td>13</td>\n",
       "      <td>40</td>\n",
       "    </tr>\n",
       "    <tr>\n",
       "      <th>14</th>\n",
       "      <td>14</td>\n",
       "      <td>37</td>\n",
       "    </tr>\n",
       "    <tr>\n",
       "      <th>15</th>\n",
       "      <td>15</td>\n",
       "      <td>45</td>\n",
       "    </tr>\n",
       "  </tbody>\n",
       "</table>\n",
       "</div>"
      ],
      "text/plain": [
       "    COMUNA  N_VICTIMAS\n",
       "0        0           2\n",
       "1        1          93\n",
       "2        2          25\n",
       "3        3          46\n",
       "4        4          79\n",
       "5        5          22\n",
       "6        6          22\n",
       "7        7          62\n",
       "8        8          67\n",
       "9        9          75\n",
       "10      10          30\n",
       "11      11          33\n",
       "12      12          39\n",
       "13      13          40\n",
       "14      14          37\n",
       "15      15          45"
      ]
     },
     "execution_count": 117,
     "metadata": {},
     "output_type": "execute_result"
    }
   ],
   "source": [
    "victimas_por_comuna"
   ]
  },
  {
   "cell_type": "markdown",
   "metadata": {},
   "source": [
    "**Análisis de la gráfica #2**\n",
    "\n",
    "- Distribución de víctimas\n",
    "\n",
    "La tabla muestra los datos de 16 comunas diferentes, numeradas del 0 al 15. La cantidad de víctimas varía significativamente entre las comunas, desde 2 hasta 93.\n",
    "\n",
    "- Comuna con el mayor número de víctimas\n",
    "\n",
    "La comuna con el mayor número de víctimas es la Comuna 1, con 93 víctimas. Este dato es llamativo y podría indicar un área de interés para investigar más a fondo las razones detrás de esta cifra alta.\n",
    "\n",
    "- Comuna con el menor número de víctimas\n",
    "\n",
    "La Comuna 0 tiene el menor número de víctimas, con solo 2. Este dato también es significativo y podría ser un punto de partida para investigar las condiciones que llevan a esta cifra baja.\n",
    "\n",
    "- Distribución general\n",
    "\n",
    "La distribución de víctimas en estas comunas parece ser bastante heterogénea, ya que algunas comunas tienen un número significativamente mayor de víctimas que otras.\n",
    "\n",
    "- Análisis estadístico\n",
    "\n",
    "Sería útil realizar un análisis estadístico más detallado para comprender mejor la variabilidad en el número de víctimas entre las comunas. Esto podría incluir cálculos como la media, la mediana, la desviación estándar y otros estadísticos descriptivos.\n",
    "\n",
    "- Factores influyentes\n",
    "\n",
    "Para un análisis más completo, sería importante considerar factores que podrían influir en el número de víctimas en cada comuna. Estos factores podrían incluir:\n",
    "\n",
    "La densidad de población\n",
    "La presencia de servicios de seguridad\n",
    "Medidas de prevención del delito\n",
    "Otros factores sociales, económicos o culturales"
   ]
  },
  {
   "cell_type": "markdown",
   "metadata": {},
   "source": [
    "**Mapa de calor de siniestros**"
   ]
  },
  {
   "cell_type": "code",
   "execution_count": 118,
   "metadata": {},
   "outputs": [
    {
     "data": {
      "text/html": [
       "<div style=\"width:100%;\"><div style=\"position:relative;width:100%;height:0;padding-bottom:60%;\"><span style=\"color:#565656\">Make this Notebook Trusted to load map: File -> Trust Notebook</span><iframe srcdoc=\"&lt;!DOCTYPE html&gt;\n",
       "&lt;html&gt;\n",
       "&lt;head&gt;\n",
       "    \n",
       "    &lt;meta http-equiv=&quot;content-type&quot; content=&quot;text/html; charset=UTF-8&quot; /&gt;\n",
       "    \n",
       "        &lt;script&gt;\n",
       "            L_NO_TOUCH = false;\n",
       "            L_DISABLE_3D = false;\n",
       "        &lt;/script&gt;\n",
       "    \n",
       "    &lt;style&gt;html, body {width: 100%;height: 100%;margin: 0;padding: 0;}&lt;/style&gt;\n",
       "    &lt;style&gt;#map {position:absolute;top:0;bottom:0;right:0;left:0;}&lt;/style&gt;\n",
       "    &lt;script src=&quot;https://cdn.jsdelivr.net/npm/leaflet@1.9.3/dist/leaflet.js&quot;&gt;&lt;/script&gt;\n",
       "    &lt;script src=&quot;https://code.jquery.com/jquery-3.7.1.min.js&quot;&gt;&lt;/script&gt;\n",
       "    &lt;script src=&quot;https://cdn.jsdelivr.net/npm/bootstrap@5.2.2/dist/js/bootstrap.bundle.min.js&quot;&gt;&lt;/script&gt;\n",
       "    &lt;script src=&quot;https://cdnjs.cloudflare.com/ajax/libs/Leaflet.awesome-markers/2.0.2/leaflet.awesome-markers.js&quot;&gt;&lt;/script&gt;\n",
       "    &lt;link rel=&quot;stylesheet&quot; href=&quot;https://cdn.jsdelivr.net/npm/leaflet@1.9.3/dist/leaflet.css&quot;/&gt;\n",
       "    &lt;link rel=&quot;stylesheet&quot; href=&quot;https://cdn.jsdelivr.net/npm/bootstrap@5.2.2/dist/css/bootstrap.min.css&quot;/&gt;\n",
       "    &lt;link rel=&quot;stylesheet&quot; href=&quot;https://netdna.bootstrapcdn.com/bootstrap/3.0.0/css/bootstrap.min.css&quot;/&gt;\n",
       "    &lt;link rel=&quot;stylesheet&quot; href=&quot;https://cdn.jsdelivr.net/npm/@fortawesome/fontawesome-free@6.2.0/css/all.min.css&quot;/&gt;\n",
       "    &lt;link rel=&quot;stylesheet&quot; href=&quot;https://cdnjs.cloudflare.com/ajax/libs/Leaflet.awesome-markers/2.0.2/leaflet.awesome-markers.css&quot;/&gt;\n",
       "    &lt;link rel=&quot;stylesheet&quot; href=&quot;https://cdn.jsdelivr.net/gh/python-visualization/folium/folium/templates/leaflet.awesome.rotate.min.css&quot;/&gt;\n",
       "    \n",
       "            &lt;meta name=&quot;viewport&quot; content=&quot;width=device-width,\n",
       "                initial-scale=1.0, maximum-scale=1.0, user-scalable=no&quot; /&gt;\n",
       "            &lt;style&gt;\n",
       "                #map_f2b8ca33b9a557468f8130177c4d7de9 {\n",
       "                    position: relative;\n",
       "                    width: 100.0%;\n",
       "                    height: 100.0%;\n",
       "                    left: 0.0%;\n",
       "                    top: 0.0%;\n",
       "                }\n",
       "                .leaflet-container { font-size: 1rem; }\n",
       "            &lt;/style&gt;\n",
       "        \n",
       "    &lt;script src=&quot;https://cdn.jsdelivr.net/gh/python-visualization/folium@main/folium/templates/leaflet_heat.min.js&quot;&gt;&lt;/script&gt;\n",
       "&lt;/head&gt;\n",
       "&lt;body&gt;\n",
       "    \n",
       "    \n",
       "            &lt;div class=&quot;folium-map&quot; id=&quot;map_f2b8ca33b9a557468f8130177c4d7de9&quot; &gt;&lt;/div&gt;\n",
       "        \n",
       "&lt;/body&gt;\n",
       "&lt;script&gt;\n",
       "    \n",
       "    \n",
       "            var map_f2b8ca33b9a557468f8130177c4d7de9 = L.map(\n",
       "                &quot;map_f2b8ca33b9a557468f8130177c4d7de9&quot;,\n",
       "                {\n",
       "                    center: [-34.61969973512046, -58.441664463445676],\n",
       "                    crs: L.CRS.EPSG3857,\n",
       "                    zoom: 12,\n",
       "                    zoomControl: true,\n",
       "                    preferCanvas: false,\n",
       "                }\n",
       "            );\n",
       "\n",
       "            \n",
       "\n",
       "        \n",
       "    \n",
       "            var tile_layer_6d2b41a766d5f966452ef5ea8e927f81 = L.tileLayer(\n",
       "                &quot;https://{s}.tile.openstreetmap.org/{z}/{x}/{y}.png&quot;,\n",
       "                {&quot;attribution&quot;: &quot;Data by \\u0026copy; \\u003ca target=\\&quot;_blank\\&quot; href=\\&quot;http://openstreetmap.org\\&quot;\\u003eOpenStreetMap\\u003c/a\\u003e, under \\u003ca target=\\&quot;_blank\\&quot; href=\\&quot;http://www.openstreetmap.org/copyright\\&quot;\\u003eODbL\\u003c/a\\u003e.&quot;, &quot;detectRetina&quot;: false, &quot;maxNativeZoom&quot;: 18, &quot;maxZoom&quot;: 18, &quot;minZoom&quot;: 0, &quot;noWrap&quot;: false, &quot;opacity&quot;: 1, &quot;subdomains&quot;: &quot;abc&quot;, &quot;tms&quot;: false}\n",
       "            );\n",
       "        \n",
       "    \n",
       "                tile_layer_6d2b41a766d5f966452ef5ea8e927f81.addTo(map_f2b8ca33b9a557468f8130177c4d7de9);\n",
       "    \n",
       "            var heat_map_685051a1d98449f5f6c261de1f655cd3 = L.heatLayer(\n",
       "                [[-34.68757022, -58.47533969], [-34.66977709, -58.50877521], [-34.63189362, -58.39040293], [-34.68092974, -58.46503904], [-34.6224663, -58.38718297], [-34.68475866, -58.44451316], [-34.6082544, -58.50095869], [-34.66977709, -58.50877521], [-34.61303893, -58.38048577], [-34.62477387, -58.39114932], [-34.59912758, -58.4376002], [-34.64291993, -58.36882665], [-34.65970435, -58.44989671], [-34.65468721, -58.50990884], [-34.60653282, -58.37952223], [-34.63063795, -58.45157703], [-34.61079875, -58.38144696], [-34.70524971, -58.46244952], [-34.54738649, -58.49216191], [-34.63852623, -58.44497874], [-34.60028648, -58.38199706], [-34.54153077, -58.47378664], [-34.69843756, -58.47064556], [-34.65076549, -58.40623949], [-34.60443527, -58.39228965], [-34.63668504, -58.37813396], [-34.64358293, -58.46275892], [-34.67892743, -58.49683458], [-34.6088396, -58.40603217], [-34.63350444, -58.4607655], [-34.63350444, -58.4607655], [-34.67494416, -58.47832463], [-34.63693953, -58.43213235], [-34.53476874, -58.46743471], [-34.62571878, -58.38247061], [-34.5917024, -58.44759966], [-34.63657525428238, -58.37714647568196], [-34.68550712, -58.47305463], [-34.65076549, -58.40623949], [-34.57558053, -58.4842918], [-34.68795245, -58.48695354], [-34.57964781, -58.40021959], [-34.57660058, -58.42957885], [-34.62556293, -58.38247542], [-34.62728101, -58.38222219], [-34.62953445, -58.49485242], [-34.61068024, -58.45227946], [-34.6751276, -58.48455411], [-34.58418569, -58.39056593], [-34.62704273, -58.39118948], [-34.62025108, -58.49021952], [-34.67732118, -58.49896559], [-34.66874679, -58.47461076], [-34.60356211, -58.46210891], [-34.60536123, -58.3702777], [-34.6146383, -58.40491455], [-34.54864492, -58.45504154], [-34.63931752, -58.52927982], [-34.55904606, -58.4872106], [-34.64228803, -58.42273092], [-34.62539009, -58.44788671], [-34.60135531, -58.38110563], [-34.657341, -58.42378834], [-34.63652467, -58.48727942], [-34.62907067, -58.37864583], [-34.56767549, -58.5015175], [-34.55185825, -58.43233425], [-34.6111224, -58.41971993], [-34.53476874, -58.46743471], [-34.62301748, -58.44362126], [-34.59546519, -58.51713095], [-34.66684950051973, -58.47433193007387], [-34.6156281, -58.39038605], [-34.62356174, -58.40042405], [-34.59798754, -58.52340614], [-34.54795581, -58.49491054], [-34.65014993, -58.52932872], [-34.67316502, -58.50011639], [-34.65624369, -58.46635001], [-34.58435809, -58.45343236], [-34.58927731, -58.38090932], [-34.65429986, -58.37157668], [-34.63659934, -58.52280139], [-34.6590353, -58.51232237], [-34.57663634, -58.47461905], [-34.62282019, -58.38268809], [-34.64564271, -58.49603546], [-34.59394733, -58.41848605], [-34.54917673, -58.48935041], [-34.68475866, -58.44451316], [-34.58271474, -58.39936478], [-34.62694503, -58.37936704], [-34.56353635, -58.49659234], [-34.65194557, -58.47256391], [-34.64053676, -58.45130953], [-34.62884871, -58.46271207], [-34.64243791, -58.49020869], [-34.62125906, -58.52572109], [-34.62125906, -58.52572109], [-34.66677111, -58.44094791], [-34.6305389, -58.41914024], [-34.62764717, -58.37910942], [-34.64539318, -58.39871183], [-34.62477021, -58.41036975], [-34.5834269, -58.40204698], [-34.67648597, -58.48935287], [-34.56403694, -58.42260225], [-34.59035925, -58.51537091], [-34.55922742, -58.4590967], [-34.56539579, -58.42008769], [-34.56147293, -58.45566399], [-34.59276462, -58.37533517], [-34.68475866, -58.44451316], [-34.63343907, -58.35975012], [-34.55953855, -58.44523595], [-34.63036565, -58.39626094], [-34.61799615, -58.38896772], [-34.59484504, -58.46536113], [-34.65273216, -58.40879146], [-34.64991946, -58.46451841], [-34.59485488, -58.4291709], [-34.68251141, -58.49007772], [-34.62772274, -58.52756365], [-34.61943202, -58.40638983], [-34.61740997, -58.47576807], [-34.68475866, -58.44451316], [-34.63635787, -58.51927194], [-34.57866344, -58.42525456], [-34.58518167, -58.45396573], [-34.59798754, -58.52340614], [-34.64119105, -58.42323628], [-34.62841919, -58.36926144], [-34.64119105, -58.42323628], [-34.55676497, -58.47935434], [-34.5637998, -58.50598256], [-34.62150748, -58.36607137], [-34.63174259, -58.41918902], [-34.63551751, -58.46749188], [-34.62960517, -58.46064174], [-34.61232875, -58.36956186], [-34.58788235, -58.40966671], [-34.61544091, -58.40288226], [-34.61028571, -58.4659423], [-34.64410277, -58.38957669], [-34.61529543, -58.3816166], [-34.58494351, -58.43917004], [-34.62743346, -58.41595919], [-34.62828656, -58.4356488], [-34.5497951, -58.5007381], [-34.6505529, -58.40969005], [-34.65098981, -58.38972622], [-34.55046754, -58.49185972], [-34.59963642, -58.39293417], [-34.62288231, -58.38099494], [-34.58095431, -58.429012], [-34.66977709, -58.50877521], [-34.60509972, -58.38362373], [-34.62955795, -58.46589308], [-34.6542464, -58.43614426], [-34.64979057, -58.41842777], [-34.64979057, -58.41842777], [-34.6319325, -58.38332245], [-34.61196327, -58.45475488], [-34.64742455, -58.48501341], [-34.65872088, -58.47010988], [-34.62873635, -58.4099756], [-34.68359163, -58.48892175], [-34.60325478, -58.52466448], [-34.57929036, -58.42554218], [-34.61113641, -58.35881506], [-34.61113641, -58.35881506], [-34.61113641, -58.35881506], [-34.58159762, -58.51452347], [-34.58159762, -58.51452347], [-34.61799615, -58.38896772], [-34.64363363, -58.44516857], [-34.54560369, -58.43834197], [-34.63531854, -58.45485084], [-34.62454175, -58.52449285], [-34.6719879, -58.46713742], [-34.65554754, -58.43850413], [-34.68095739, -58.49413799], [-34.65326075, -58.37547846], [-34.58689719, -58.48680218], [-34.57962262, -58.49563989], [-34.5991594, -58.38403232], [-34.62693865, -58.38223382], [-34.67323292, -58.45966521], [-34.59871111, -58.39303911], [-34.63395999, -58.51262106], [-34.61646839, -58.38118367], [-34.60582475, -58.37653284], [-34.64035082, -58.37709334], [-34.60409469, -58.46002142], [-34.62801894, -58.4338197], [-34.66437532, -58.43580656], [-34.65997463, -58.52173071], [-34.59804273, -58.50791763], [-34.58226957, -58.49175088], [-34.60425669, -58.40781467], [-34.63787791, -58.52567073], [-34.60906385, -58.381542], [-34.5780581, -58.38526125], [-34.58451712, -58.42934104], [-34.61781124, -58.40657493], [-34.64487785, -58.49525314], [-34.62932696, -58.39092851], [-34.64564271, -58.49603546], [-34.58703485, -58.38502878], [-34.63150425, -58.37261143], [-34.63905965, -58.51876802], [-34.61516101, -58.41095567], [-34.62519403, -58.36797542], [-34.64787051, -58.51514709], [-34.59171721, -58.51925642], [-34.54321216, -58.48671535], [-34.62282019, -58.38268809], [-34.54966288, -58.43633522], [-34.61765855, -58.52640838], [-34.59778875, -58.41894306], [-34.54972741, -58.46756026], [-34.63132912, -58.45715752], [-34.56213916, -58.42406784], [-34.61512051, -58.3967447], [-34.57084818, -58.44537508], [-34.6510708, -58.40056767], [-34.61853244, -58.38109568], [-34.58035258, -58.42533612], [-34.54395182, -58.46062311], [-34.54795581, -58.49491054], [-34.54795581, -58.49491054], [-34.63665402, -58.47130269], [-34.60189492, -58.370488], [-34.6423411, -58.42023854], [-34.6399743, -58.45807401], [-34.6399743, -58.45807401], [-34.59573848, -58.37697717], [-34.5849866, -58.3910058], [-34.63089661, -58.42182126], [-34.58075791, -58.51389422], [-34.65232158, -58.37585415], [-34.66245085, -58.47297505], [-34.67216349, -58.46855503], [-34.59185043, -58.44254033], [-34.67926929, -58.46622247], [-34.68148508, -58.48003734], [-34.68148508, -58.48003734], [-34.59800248, -58.41192137], [-34.61349731, -58.44034689], [-34.64925746, -58.47155277], [-34.59967065, -58.47883099], [-34.6937413, -58.46552171], [-34.66777987, -58.4423972], [-34.59626814, -58.47032551], [-34.65522746, -58.41827843], [-34.59279388, -58.51280715], [-34.64385704, -58.46258582], [-34.68003614, -58.45064148], [-34.62513374, -58.42717783], [-34.60724519, -58.46442001], [-34.69843756, -58.47064556], [-34.61223119, -58.41677733], [-34.67450313, -58.5025179], [-34.62438894, -58.40708125], [-34.61477051, -58.36947198], [-34.63934531, -58.51140889], [-34.65559133, -58.37460912], [-34.65073916, -58.41146277], [-34.61829385, -58.42855267], [-34.61829385, -58.42855267], [-34.63412287, -58.39035581], [-34.62656868, -58.45593915], [-34.64597065, -58.52866211], [-34.59407024, -58.52037476], [-34.61799615, -58.38896772], [-34.62771756, -58.47074114], [-34.65969965, -58.48200819], [-34.62297346, -58.39536773], [-34.61895467, -58.37456088], [-34.60395657, -58.44860217], [-34.54332766, -58.46129513], [-34.61953517, -58.36907201], [-34.62499107, -58.44062219], [-34.63601265, -58.52502765], [-34.61687778, -58.36659655], [-34.62763661, -58.36737389], [-34.63038658, -58.49807953], [-34.59088447, -58.39092703], [-34.68049201, -58.46912006], [-34.56786129, -58.48661286], [-34.65080597, -58.44074927], [-34.64684275, -58.38636298], [-34.64684275, -58.38636298], [-34.59276462, -58.37533517], [-34.63070603, -58.46963952], [-34.64543658, -58.37207554], [-34.59176378, -58.39189441], [-34.66518343, -58.45012957], [-34.64546845, -58.40184094], [-34.63966783, -58.37441153], [-34.62082399, -58.44110156], [-34.57827342, -58.47087351], [-34.6224514, -58.4596221], [-34.65476216, -58.41657793], [-34.65476216, -58.41657793], [-34.63722107, -58.41911301], [-34.64251042, -58.47120586], [-34.62049672, -58.47418944], [-34.57905579, -58.46720441], [-34.6177971, -58.46909362], [-34.5688864, -58.44704343], [-34.62902048, -58.50535541], [-34.59522198, -58.40021675], [-34.62919627, -58.46325991], [-34.59694755, -58.49471482], [-34.59975962, -58.3987261], [-34.60885045, -58.38872177], [-34.60885045, -58.38872177], [-34.57305993, -58.45686132], [-34.64282424, -58.42281627], [-34.63953396, -58.38666024], [-34.61207587, -58.49122843], [-34.61866627, -58.40098306], [-34.5791692, -58.45448963], [-34.63931752, -58.52927982], [-34.5917024, -58.44759966], [-34.62925068, -58.46411215], [-34.55395823, -58.4621322], [-34.5620361, -58.45669422], [-34.64341878, -58.3597716], [-34.59070093, -58.49820145], [-34.5993918, -58.4105928], [-34.57121563, -58.47969138], [-34.61883916, -58.40351561], [-34.63918987, -58.51973844], [-34.62163006, -58.39311376], [-34.59082159, -58.43531242], [-34.63035454, -58.41178165], [-34.60189492, -58.370488], [-34.61964833, -58.39883882], [-34.62082399, -58.44110156], [-34.59952725, -58.37093138], [-34.63953253, -58.45855262], [-34.59283447, -58.38161909], [-34.58698157, -58.45511899], [-34.62973033, -58.37724226], [-34.62930339, -58.45546217], [-34.59954925, -58.39897064], [-34.62126274, -58.40917826], [-34.61099738, -58.36726348], [-34.68454456, -58.48267426], [-34.65168841, -58.39546165], [-34.63376545, -58.46941984], [-34.58129246, -58.40367321], [-34.65014993, -58.52932872], [-34.62126274, -58.40917826], [-34.59473294, -58.41264127], [-34.66977709, -58.50877521], [-34.6590353, -58.51232237], [-34.64567171, -58.44744156], [-34.65869968, -58.49441273], [-34.69153196, -58.47976785], [-34.62260331, -58.36523349], [-34.62704273, -58.39118948], [-34.62704273, -58.39118948], [-34.65015854, -58.49019551], [-34.63023775, -58.41644362], [-34.5497951, -58.5007381], [-34.63036565, -58.39626094], [-34.67051543, -58.43284809], [-34.63659934, -58.52280139], [-34.59774487, -58.4233693], [-34.63105973, -58.38691681], [-34.5857988, -58.4116902], [-34.65117757, -58.46739825], [-34.67152226, -58.44483258], [-34.66128115, -58.43254025], [-34.69640164, -58.47199387], [-34.69640164, -58.47199387], [-34.62925068, -58.46411215], [-34.62367156, -58.36217754], [-34.5407313, -58.48098594], [-34.64640709, -58.41083404], [-34.64446729, -58.44609828], [-34.64035082, -58.37709334], [-34.63070603, -58.46963952], [-34.55161027, -58.43674281], [-34.61011987, -58.4059686], [-34.60463618, -58.36154069], [-34.60066507, -58.37062179], [-34.60207186, -58.43220014], [-34.64949724, -58.46958442], [-34.59970903, -58.44671397], [-34.61474911, -58.47152163], [-34.61807951, -58.39032921], [-34.64297861, -58.52887773], [-34.67981324, -58.49371157], [-34.66012327, -58.48266599], [-34.60774301, -58.40612253], [-34.66292532, -58.43613623], [-34.57208238, -58.48250732], [-34.6374328, -58.49945705], [-34.67233407, -58.47743966], [-34.67450313, -58.5025179], [-34.63682499, -58.52144411], [-34.65084045, -58.41650465], [-34.64055918, -58.52994219], [-34.56919739, -58.50993046], [-34.64592873, -58.52844623], [-34.64592873, -58.52844623], [-34.58695347, -58.45021367], [-34.62770192, -58.49022072], [-34.60106568, -58.36860866], [-34.57241534, -58.39490504], [-34.63070603, -58.46963952], [-34.64019887, -58.42349365], [-34.61265002, -58.37471802], [-34.62913916, -58.46438789], [-34.61100424, -58.38481975], [-34.62073702, -58.50751833], [-34.63888084, -58.44682986], [-34.61381341, -58.3600465], [-34.62085945, -58.41509546], [-34.57251072, -58.50997604], [-34.64047818, -58.48606475], [-34.5780581, -58.38526125], [-34.65082149, -58.45463662], [-34.59718073, -58.49121672], [-34.65284605, -58.47325712], [-34.63382309, -58.52108101], [-34.55509606, -58.41652702], [-34.6107166, -58.42891604], [-34.69156793, -58.47802293], [-34.62200207, -58.37564821], [-34.56961468, -58.42668489], [-34.56961468, -58.42668489], [-34.66252488, -58.5183993], [-34.67665828, -58.48432691], [-34.64457699, -58.4338383], [-34.58657938, -58.51664939], [-34.59703502, -58.49613012], [-34.63356284, -58.38313603], [-34.61632317, -58.39914719], [-34.54048625, -58.44927253], [-34.55374003, -58.45049163], [-34.63572989, -58.41288952], [-34.62561234, -58.45743597], [-34.62352245, -58.39123782], [-34.63637963, -58.52922765], [-34.58541957, -58.37208118], [-34.60937557, -58.41458534], [-34.69153196, -58.47976785], [-34.59511714, -58.39990285], [-34.60588536, -58.46051346], [-34.69153196, -58.47976785], [-34.62447891, -58.45457546], [-34.59832047, -58.36951669], [-34.6044379, -58.46415322], [-34.62150748, -58.36607137], [-34.65093074, -58.45537373], [-34.60053054, -58.37942637], [-34.62147504, -58.4368044], [-34.61971907, -58.40778291], [-34.54628513, -58.45212523], [-34.63551751, -58.46749188], [-34.63679732, -58.4426358], [-34.65846419, -58.51140289], [-34.62465368, -58.38211431], [-34.59832047, -58.36951669], [-34.62036547, -58.41635217], [-34.57579669, -58.41316147], [-34.53825652, -58.47617802], [-34.63330028, -58.38641783], [-34.62038137, -58.45322169], [-34.56166498, -58.45849057], [-34.59411677, -58.41829559], [-34.63832093, -58.36376488], [-34.66004784, -58.46442668], [-34.58428769, -58.48222035], [-34.60283208, -58.36819005], [-34.62330939, -58.45877601], [-34.55760517, -58.44196498], [-34.63627822, -58.50622631], [-34.63099197, -58.3841088], [-34.63504312, -58.48100602], [-34.5578132, -58.45200171], [-34.56201105, -58.44462132], [-34.58711712, -58.45220688], [-34.6224514, -58.4596221], [-34.65414867, -58.4197085], [-34.64938031, -58.44187596], [-34.64276621, -58.49101637], [-34.66256502, -58.42493829], [-34.62930162, -58.40489318], [-34.59217875, -58.4268668], [-34.65620398, -58.479611], [-34.63524207, -58.47439934], [-34.57926018, -58.46711912], [-34.53465378, -58.46514781], [-34.65584079, -58.37571078], [-34.65429986, -58.37157668], [-34.58070186, -58.39811256], [-34.6541774, -58.41125934], [-34.61866836, -58.41822901], [-34.53825652, -58.47617802], [-34.58623761, -58.46141281], [-34.6611974, -58.42985146], [-34.6583909, -58.48457413], [-34.63628186, -58.46572884], [-34.6341913, -58.49261744], [-34.5884156, -58.45283186], [-34.57418656, -58.47973681], [-34.65076549, -58.40623949], [-34.63107887, -58.36244648], [-34.64868027, -58.49962423], [-34.59559816, -58.44551437], [-34.63420319, -58.35608181], [-34.60907662, -58.46483679], [-34.59724326, -58.44368628], [-34.62907067, -58.37864583], [-34.62726382, -58.37560352], [-34.64815069, -58.47721439], [-34.58984288, -58.45134029], [-34.58368803, -58.49040794], [-34.64991178, -58.42102679], [-34.64143926, -58.52219407], [-34.5947164, -58.52169422], [-34.63206174, -58.47460416], [-34.61520391, -58.50512382], [-34.59213355, -58.43910409], [-34.64646409, -58.45019436], [-34.60927582, -58.39337644], [-34.60919284, -58.39055614], [-34.62477021, -58.41036975], [-34.65412546, -58.44925765], [-34.61648696, -58.3815685], [-34.59804521, -58.40662899], [-34.6060085, -58.41985649], [-34.62214953, -58.38099833], [-34.61823178, -58.41803309], [-34.61783553, -58.40604003], [-34.57994061, -58.47549929], [-34.61600366, -58.51398484], [-34.62519403, -58.36797542], [-34.59879316, -58.37133616], [-34.61413568, -58.39613805], [-34.54200276, -58.44903073], [-34.6284667, -58.41972364], [-34.60557123, -58.40571596], [-34.59488319, -58.4145159], [-34.66245085, -58.47297505], [-34.63695178, -58.35791192], [-34.65177305, -58.50801713], [-34.60975108, -58.40258477], [-34.68454456, -58.48267426], [-34.60221948, -58.44248936], [-34.63886726, -58.52909134], [-34.6064658, -58.45158942], [-34.65788529, -58.49344309], [-34.59635137, -58.44259166], [-34.53476874, -58.46743471], [-34.60922259, -58.41178158], [-34.63638927, -58.45068621], [-34.5877879, -58.42016954], [-34.65554754, -58.43850413], [-34.58345898, -58.40617526], [-34.58345898, -58.40617526], [-34.5780581, -58.38526125], [-34.63491705, -58.4475047], [-34.68192648, -58.46745752], [-34.59717942, -58.37202621], [-34.62207347, -58.42779702], [-34.70524971, -58.46244952], [-34.60776782, -58.4844016], [-34.65174801, -58.46668375], [-34.59322448, -58.4495878], [-34.59276462, -58.37533517], [-34.57866344, -58.42525456], [-34.62981124, -58.48493828], [-34.60183884, -58.40480504], [-34.6541774, -58.41125934], [-34.6297708, -58.39956546], [-34.5786897, -58.49005682], [-34.69843756, -58.47064556], [-34.61945902, -58.4750156], [-34.63652467, -58.48727942], [-34.62794241, -58.3795169], [-34.65672199, -58.47750832], [-34.54048625, -58.44927253], [-34.61253541, -58.39246272], [-34.61047001, -58.52783814], [-34.61047001, -58.52783814], [-34.54836855, -58.49332664], [-34.63593897, -58.50178784], [-34.65476216, -58.41657793], [-34.58307887, -58.39731474], [-34.61790839, -58.38746381], [-34.59176378, -58.39189441], [-34.63551751, -58.46749188], [-34.62113271, -58.40280471], [-34.68475866, -58.44451316], [-34.62742408, -58.47110424], [-34.60373898, -58.38220928], [-34.61565025, -58.49794468], [-34.60111373, -58.47220945], [-34.60111373, -58.47220945], [-34.63217813, -58.43706741], [-34.54836855, -58.49332664], [-34.62622851, -58.37960727], [-34.64972472, -58.51061062], [-34.62941648, -58.43052224], [-34.63866836, -58.41455544], [-34.64730145, -58.46774439], [-34.56726817, -58.40786274], [-34.58622275, -58.48744301], [-34.65476216, -58.41657793], [-34.61134937, -58.45351111], [-34.5497951, -58.5007381], [-34.59564871, -58.39144148], [-34.68385968, -58.48191128], [-34.63652467, -58.48727942], [-34.59779521, -58.48328708], [-34.5972499, -58.49018543], [-34.68482689, -58.47230127], [-34.63168269, -58.38262614], [-34.60793518, -58.41047268], [-34.56353635, -58.49659234], [-34.60727189, -58.42462955], [-34.61185625, -58.41168345], [-34.55217303, -58.45157681], [-34.67006054, -58.49573651], [-34.68795245, -58.48695354], [-34.64449357, -58.37562539], [-34.54795581, -58.49491054], [-34.64357704, -58.44147621], [-34.63215432, -58.46899119], [-34.63455776, -58.38685612], [-34.61765323, -58.38113667], [-34.54538956, -58.44112678], [-34.62743346, -58.41595919], [-34.64546845, -58.40184094], [-34.65679806, -58.44642231], [-34.59798754, -58.52340614], [-34.56219075, -58.46649069], [-34.57816791, -58.42653328], [-34.65303372, -58.50407099], [-34.53476874, -58.46743471], [-34.5772806, -58.40986646], [-34.63931792, -58.51739138], [-34.65556223, -58.50719962], [-34.64600222, -58.46712311], [-34.64035082, -58.37709334], [-34.58569883, -58.46033141], [-34.65633192, -58.42190745], [-34.5698141, -58.49026573], [-34.66902702, -58.45410344], [-34.55719892, -58.44751621], [-34.66005171, -58.42040352], [-34.68010798, -58.49530249], [-34.5947736, -58.44399875], [-34.65463857, -58.42759813], [-34.60456293, -58.40547222], [-34.6500828, -58.42473018], [-34.57563957, -58.39257023], [-34.54596153, -58.48941042], [-34.62783085, -58.3964074], [-34.6111224, -58.41971993], [-34.65012801, -58.40544588], [-34.64645957, -58.42003882], [-34.63348678, -58.46851293], [-34.65422917, -58.52931141], [-34.6269973, -58.42675754], [-34.61098186, -58.52933723], [-34.62764718, -58.37910943], [-34.61164474, -58.52161176], [-34.5869768, -58.41354692], [-34.65470804, -58.43960781], [-34.60003693, -58.4045461], [-34.59871111, -58.39303911], [-34.58405348, -58.39391034], [-34.5497951, -58.5007381], [-34.62786038, -58.38281301], [-34.65094083, -58.43980799], [-34.62933109, -58.44402387], [-34.62207347, -58.42779702], [-34.60097942, -58.40944147], [-34.5943016, -58.38277479], [-34.63800916, -58.37627355], [-34.62453459, -58.39591856], [-34.56015762, -58.45829717], [-34.64584795, -58.49142611], [-34.57786555, -58.51271409], [-34.62352826, -58.44864864], [-34.59167894, -58.37795815], [-34.55555257, -58.45531707], [-34.62140594, -58.47633683], [-34.60256036, -58.38188582], [-34.62284918, -58.51989389], [-34.61011987, -58.4059686], [-34.64561636, -58.43353773], [-34.65117757, -58.46739825], [-34.61984745, -58.47293407], [-34.65021673, -58.47066794], [-34.58679619, -58.37976155]],\n",
       "                {&quot;blur&quot;: 15, &quot;maxZoom&quot;: 18, &quot;minOpacity&quot;: 0.5, &quot;radius&quot;: 25}\n",
       "            );\n",
       "        \n",
       "    \n",
       "                heat_map_685051a1d98449f5f6c261de1f655cd3.addTo(map_f2b8ca33b9a557468f8130177c4d7de9);\n",
       "&lt;/script&gt;\n",
       "&lt;/html&gt;\" style=\"position:absolute;width:100%;height:100%;left:0;top:0;border:none !important;\" allowfullscreen webkitallowfullscreen mozallowfullscreen></iframe></div></div>"
      ],
      "text/plain": [
       "<folium.folium.Map at 0x14c1ba20410>"
      ]
     },
     "metadata": {},
     "output_type": "display_data"
    }
   ],
   "source": [
    "# Crea un mapa de calor utilizando las coordenadas de longitud y latitud\n",
    "m = folium.Map(location=[dataframe['Latitud'].mean(), dataframe['Longitud'].mean()], zoom_start=12)\n",
    "\n",
    "# Convierte los datos de longitud y latitud en una lista de listas, excluyendo valores NaN\n",
    "heat_data = [[row['Latitud'], row['Longitud']] for index, row in dataframe.dropna(subset=['Latitud', 'Longitud']).iterrows()]\n",
    "\n",
    "# Agrega el mapa de calor al mapa folium\n",
    "HeatMap(heat_data).add_to(m)\n",
    "\n",
    "# Muestra el mapa en el entorno interactivo\n",
    "display(m)\n"
   ]
  },
  {
   "cell_type": "code",
   "execution_count": 119,
   "metadata": {},
   "outputs": [
    {
     "data": {
      "image/png": "[encoded data removed]",
      "text/plain": [
       "<Figure size 500x300 with 1 Axes>"
      ]
     },
     "metadata": {},
     "output_type": "display_data"
    }
   ],
   "source": [
    "# Agrupa los datos por sexo y suma el número de víctimas en cada categoría\n",
    "victimas_por_sexo = dataframe.groupby('SEXO')['VICTIMA'].count().reset_index()\n",
    "\n",
    "# Crea la gráfica de barras\n",
    "plt.figure(figsize=(5, 3))  # Ajusta el tamaño de la gráfica según tus preferencias\n",
    "plt.bar(victimas_por_sexo['SEXO'], victimas_por_sexo['VICTIMA'])\n",
    "plt.title('Relación entre el Sexo de las Víctimas y el Número de Víctimas')\n",
    "plt.xlabel('Sexo')\n",
    "plt.ylabel('Número de Víctimas')\n",
    "plt.grid(axis='y')\n",
    "\n",
    "# Mostrar la gráfica\n",
    "plt.show()\n"
   ]
  },
  {
   "cell_type": "code",
   "execution_count": 120,
   "metadata": {},
   "outputs": [
    {
     "data": {
      "text/html": [
       "<div>\n",
       "<style scoped>\n",
       "    .dataframe tbody tr th:only-of-type {\n",
       "        vertical-align: middle;\n",
       "    }\n",
       "\n",
       "    .dataframe tbody tr th {\n",
       "        vertical-align: top;\n",
       "    }\n",
       "\n",
       "    .dataframe thead th {\n",
       "        text-align: right;\n",
       "    }\n",
       "</style>\n",
       "<table border=\"1\" class=\"dataframe\">\n",
       "  <thead>\n",
       "    <tr style=\"text-align: right;\">\n",
       "      <th></th>\n",
       "      <th>SEXO</th>\n",
       "      <th>VICTIMA</th>\n",
       "    </tr>\n",
       "  </thead>\n",
       "  <tbody>\n",
       "    <tr>\n",
       "      <th>0</th>\n",
       "      <td>FEMENINO</td>\n",
       "      <td>166</td>\n",
       "    </tr>\n",
       "    <tr>\n",
       "      <th>1</th>\n",
       "      <td>MASCULINO</td>\n",
       "      <td>545</td>\n",
       "    </tr>\n",
       "    <tr>\n",
       "      <th>2</th>\n",
       "      <td>SD</td>\n",
       "      <td>6</td>\n",
       "    </tr>\n",
       "  </tbody>\n",
       "</table>\n",
       "</div>"
      ],
      "text/plain": [
       "        SEXO  VICTIMA\n",
       "0   FEMENINO      166\n",
       "1  MASCULINO      545\n",
       "2         SD        6"
      ]
     },
     "execution_count": 120,
     "metadata": {},
     "output_type": "execute_result"
    }
   ],
   "source": [
    "victimas_por_sexo"
   ]
  },
  {
   "cell_type": "markdown",
   "metadata": {},
   "source": [
    "\n",
    "**Análisis de la distribución de víctimas por género**\n",
    "\n",
    "- Distribución por género\n",
    "\n",
    "El DataFrame presenta dos categorías principales de género: femenino y masculino. La categoría femenina tiene 166 víctimas, mientras que la categoría masculina tiene 545 víctimas.\n",
    "\n",
    "- Diferencia significativa en el número de víctimas\n",
    "\n",
    "Es evidente que hay una diferencia significativa en el número de víctimas entre los géneros. El género masculino tiene un número mucho mayor de víctimas que el género femenino. Esta diferencia es de aproximadamente 3.29:1.\n",
    "\n",
    "- Proporción de género\n",
    "\n",
    "La proporción de género es una medida que indica la relación entre dos categorías. En este caso, la proporción de género masculino a femenino es de 3.29:1. Esto significa que por cada mujer víctima, hay 3.29 hombres víctimas.\n",
    "\n",
    "- Implicaciones y análisis adicional\n",
    "\n",
    "Esta diferencia en el número de víctimas entre géneros podría ser el resultado de múltiples factores. Algunos de estos factores podrían incluir:  La distribución de roles de género en la sociedad, la exposición a diferentes riesgos o la subnotificación de casos en función del género."
   ]
  },
  {
   "cell_type": "markdown",
   "metadata": {},
   "source": [
    "## Histograma de Edades"
   ]
  },
  {
   "cell_type": "code",
   "execution_count": 121,
   "metadata": {},
   "outputs": [],
   "source": [
    "# Creamos tres categorías de edad\n",
    "categorias_edad = pd.cut(dataframe['EDAD'], bins=[0, 18, 55, 95], labels=['Niños', 'Adultos Jóvenes', 'Adultos Mayores'])\n",
    "\n",
    "# Agregamos la nueva columna 'CATEGORIA_EDAD' al DataFrame original\n",
    "dataframe['CATEGORIA_EDAD'] = categorias_edad\n"
   ]
  },
  {
   "cell_type": "code",
   "execution_count": 122,
   "metadata": {},
   "outputs": [
    {
     "name": "stderr",
     "output_type": "stream",
     "text": [
      "C:\\Users\\alexi\\AppData\\Local\\Temp\\ipykernel_3256\\2147221925.py:1: FutureWarning: The default of observed=False is deprecated and will be changed to True in a future version of pandas. Pass observed=False to retain current behavior or observed=True to adopt the future default and silence this warning.\n",
      "  victimas_categoria_edad = dataframe.groupby('CATEGORIA_EDAD')['VICTIMA'].count().reset_index()\n"
     ]
    }
   ],
   "source": [
    "victimas_categoria_edad = dataframe.groupby('CATEGORIA_EDAD')['VICTIMA'].count().reset_index()"
   ]
  },
  {
   "cell_type": "code",
   "execution_count": 123,
   "metadata": {},
   "outputs": [
    {
     "data": {
      "image/png": "[encoded data removed]",
      "text/plain": [
       "<Figure size 500x300 with 1 Axes>"
      ]
     },
     "metadata": {},
     "output_type": "display_data"
    }
   ],
   "source": [
    "plt.figure(figsize=(5, 3))\n",
    "dataframe['CATEGORIA_EDAD'].value_counts().plot(kind='bar', color='salmon')\n",
    "plt.title('Frecuencia por CATEGORIA EDAD')\n",
    "plt.xlabel('CATEGORIA_EDAD')\n",
    "plt.ylabel('Frecuencia')\n",
    "plt.xticks(rotation=45)\n",
    "plt.grid(axis='y')\n",
    "plt.show()\n"
   ]
  },
  {
   "cell_type": "code",
   "execution_count": 124,
   "metadata": {},
   "outputs": [
    {
     "data": {
      "text/html": [
       "<div>\n",
       "<style scoped>\n",
       "    .dataframe tbody tr th:only-of-type {\n",
       "        vertical-align: middle;\n",
       "    }\n",
       "\n",
       "    .dataframe tbody tr th {\n",
       "        vertical-align: top;\n",
       "    }\n",
       "\n",
       "    .dataframe thead th {\n",
       "        text-align: right;\n",
       "    }\n",
       "</style>\n",
       "<table border=\"1\" class=\"dataframe\">\n",
       "  <thead>\n",
       "    <tr style=\"text-align: right;\">\n",
       "      <th></th>\n",
       "      <th>CATEGORIA_EDAD</th>\n",
       "      <th>VICTIMA</th>\n",
       "    </tr>\n",
       "  </thead>\n",
       "  <tbody>\n",
       "    <tr>\n",
       "      <th>0</th>\n",
       "      <td>Niños</td>\n",
       "      <td>80</td>\n",
       "    </tr>\n",
       "    <tr>\n",
       "      <th>1</th>\n",
       "      <td>Adultos Jóvenes</td>\n",
       "      <td>423</td>\n",
       "    </tr>\n",
       "    <tr>\n",
       "      <th>2</th>\n",
       "      <td>Adultos Mayores</td>\n",
       "      <td>161</td>\n",
       "    </tr>\n",
       "  </tbody>\n",
       "</table>\n",
       "</div>"
      ],
      "text/plain": [
       "    CATEGORIA_EDAD  VICTIMA\n",
       "0            Niños       80\n",
       "1  Adultos Jóvenes      423\n",
       "2  Adultos Mayores      161"
      ]
     },
     "execution_count": 124,
     "metadata": {},
     "output_type": "execute_result"
    }
   ],
   "source": [
    "victimas_categoria_edad"
   ]
  },
  {
   "cell_type": "markdown",
   "metadata": {},
   "source": [
    "\n",
    "**Análisis de la distribución de muertes por siniestros viales por categoría de edad**\n",
    "\n",
    "- Distribución por categoría de edad\n",
    "\n",
    "El DataFrame presenta tres categorías principales de edad: niños, adultos jóvenes y adultos mayores. La categoría de niños tiene 80 muertes por siniestros viales, la categoría de adultos jóvenes tiene 262 y la categoría de adultos mayores tiene 322.\n",
    "\n",
    "- Diferencias en el número de muertes por categoría de edad\n",
    "\n",
    "Se observan diferencias significativas en el número de muertes por siniestros viales entre las categorías de edad. La categoría de adultos mayores tiene el mayor número de muertes, seguida por la categoría de adultos jóvenes, mientras que la categoría de niños tiene el menor número de muertes.\n",
    "\n",
    "- Interpretación de los resultados\n",
    "\n",
    "Estas diferencias en el número de muertes por categoría de edad podrían estar relacionadas con la vulnerabilidad de cada grupo de edad en siniestros viales, así como con la exposición a diferentes riesgos en la carretera.\n",
    "\n",
    "- Análisis demográfico\n",
    "\n",
    "Sería útil considerar las características demográficas de cada grupo de edad, como la población total en cada categoría, para comprender mejor si estas diferencias son proporcionales a la población en riesgo.\n",
    "\n",
    "- Prevención y seguridad vial\n",
    "\n",
    "Estos datos pueden ser útiles para evaluar políticas y programas de seguridad vial dirigidos a grupos específicos de edad. Por ejemplo, si los adultos mayores tienen un alto número de muertes en siniestros viales, podría ser importante implementar medidas adicionales de seguridad para este grupo en particular, como campañas de concienciación y mejoras en las infraestructuras viales."
   ]
  },
  {
   "cell_type": "markdown",
   "metadata": {},
   "source": [
    "**Diagrama de Barras por Tipo de Calle**"
   ]
  },
  {
   "cell_type": "code",
   "execution_count": 125,
   "metadata": {},
   "outputs": [
    {
     "data": {
      "image/png": "[encoded data removed]",
      "text/plain": [
       "<Figure size 600x300 with 1 Axes>"
      ]
     },
     "metadata": {},
     "output_type": "display_data"
    },
    {
     "data": {
      "text/plain": [
       "<Figure size 640x480 with 0 Axes>"
      ]
     },
     "metadata": {},
     "output_type": "display_data"
    }
   ],
   "source": [
    "plt.figure(figsize=(6, 3))\n",
    "dataframe['TIPO_DE_CALLE'].value_counts().plot(kind='bar', color='salmon')\n",
    "plt.title('Frecuencia de Tipos de Calle')\n",
    "plt.xlabel('Tipo de Calle')\n",
    "plt.ylabel('Frecuencia')\n",
    "plt.xticks(rotation=45)\n",
    "plt.grid(axis='y')\n",
    "plt.show()\n",
    "plt.savefig('distribucion_tipo_calle.jpg') "
   ]
  },
  {
   "cell_type": "code",
   "execution_count": 126,
   "metadata": {},
   "outputs": [],
   "source": [
    "victimas_tipo_calle = dataframe.groupby('TIPO_DE_CALLE')['VICTIMA'].count().reset_index()"
   ]
  },
  {
   "cell_type": "code",
   "execution_count": 127,
   "metadata": {},
   "outputs": [
    {
     "data": {
      "text/html": [
       "<div>\n",
       "<style scoped>\n",
       "    .dataframe tbody tr th:only-of-type {\n",
       "        vertical-align: middle;\n",
       "    }\n",
       "\n",
       "    .dataframe tbody tr th {\n",
       "        vertical-align: top;\n",
       "    }\n",
       "\n",
       "    .dataframe thead th {\n",
       "        text-align: right;\n",
       "    }\n",
       "</style>\n",
       "<table border=\"1\" class=\"dataframe\">\n",
       "  <thead>\n",
       "    <tr style=\"text-align: right;\">\n",
       "      <th></th>\n",
       "      <th>TIPO_DE_CALLE</th>\n",
       "      <th>VICTIMA</th>\n",
       "    </tr>\n",
       "  </thead>\n",
       "  <tbody>\n",
       "    <tr>\n",
       "      <th>0</th>\n",
       "      <td>AUTOPISTA</td>\n",
       "      <td>68</td>\n",
       "    </tr>\n",
       "    <tr>\n",
       "      <th>1</th>\n",
       "      <td>AVENIDA</td>\n",
       "      <td>442</td>\n",
       "    </tr>\n",
       "    <tr>\n",
       "      <th>2</th>\n",
       "      <td>CALLE</td>\n",
       "      <td>138</td>\n",
       "    </tr>\n",
       "    <tr>\n",
       "      <th>3</th>\n",
       "      <td>GRAL PAZ</td>\n",
       "      <td>69</td>\n",
       "    </tr>\n",
       "  </tbody>\n",
       "</table>\n",
       "</div>"
      ],
      "text/plain": [
       "  TIPO_DE_CALLE  VICTIMA\n",
       "0     AUTOPISTA       68\n",
       "1       AVENIDA      442\n",
       "2         CALLE      138\n",
       "3      GRAL PAZ       69"
      ]
     },
     "execution_count": 127,
     "metadata": {},
     "output_type": "execute_result"
    }
   ],
   "source": [
    "victimas_tipo_calle"
   ]
  },
  {
   "cell_type": "markdown",
   "metadata": {},
   "source": [
    "**Análisis de la distribución de víctimas por tipo de calle**\n",
    "\n",
    "- Distribución por tipo de calle\n",
    "\n",
    "El DataFrame presenta cuatro categorías principales de tipo de calle: autopista, avenida, calle y General Paz. La categoría de avenida tiene la mayor cantidad de víctimas por siniestros viales, con 442. Le sigue la categoría de calle con 138, la categoría de General Paz con 69 y la categoría de autopista con 68.\n",
    "\n",
    "- Diferencias en el número de víctimas por tipo de calle\n",
    "\n",
    "Se observan diferencias significativas en el número de víctimas por siniestros viales entre los tipos de calle. La categoría de avenida tiene el mayor número de víctimas, seguida por la categoría de autopista. La categoría de calle tiene un número significativamente menor de víctimas, y la categoría de General Paz tiene el menor número de víctimas.\n",
    "\n",
    "- Proporciones de víctimas por tipo de calle\n",
    "\n",
    "Calcular la proporción de víctimas en cada tipo de calle puede ayudar a comprender mejor la relación entre ellos. Por ejemplo, la proporción de víctimas en avenidas es de 68.3%, mientras que la proporción de víctimas en autopistas es de 6.9%. Esto sugiere que las avenidas tienen un mayor riesgo de siniestros viales que las autopistas.\n",
    "\n",
    "- Interpretación de los resultados\n",
    "\n",
    "Estas diferencias en el número de víctimas por tipo de calle podrían estar relacionadas con una serie de factores, como la velocidad máxima permitida en cada tipo de carretera, el volumen de tráfico, la presencia de semáforos y señalización, y otros factores de seguridad vial.\n",
    "\n",
    "- Medidas de seguridad vial\n",
    "\n",
    "Los datos pueden ser útiles para evaluar la efectividad de las medidas de seguridad vial en diferentes tipos de carreteras. Por ejemplo, si las avenidas tienen una alta cantidad de víctimas, podría ser necesario revisar las medidas de seguridad y la infraestructura en ese tipo de carretera."
   ]
  },
  {
   "cell_type": "markdown",
   "metadata": {},
   "source": [
    "**Diagrama de Barras Apiladas por Rol y victima:**"
   ]
  },
  {
   "cell_type": "code",
   "execution_count": 128,
   "metadata": {},
   "outputs": [],
   "source": [
    "victimas_rol1 = dataframe.groupby(['ROL', 'VICTIMA']).size().reset_index(name='COUNT')"
   ]
  },
  {
   "cell_type": "code",
   "execution_count": 129,
   "metadata": {},
   "outputs": [
    {
     "data": {
      "image/png": "[encoded data removed]",
      "text/plain": [
       "<Figure size 500x500 with 1 Axes>"
      ]
     },
     "metadata": {},
     "output_type": "display_data"
    }
   ],
   "source": [
    "# Crear un gráfico de barras\n",
    "plt.figure(figsize=(5, 5))\n",
    "plt.bar(dataframe['ROL'], dataframe['VICTIMA'], color='blue')\n",
    "\n",
    "# Personalizar el gráfico\n",
    "plt.title('Distribución de Víctimas por Rol')\n",
    "plt.xlabel('Rol')\n",
    "plt.ylabel('Cantidad de Víctimas')\n",
    "plt.xticks(rotation=45)  # Para rotar las etiquetas del eje x si es necesario\n",
    "plt.grid(axis='y')\n",
    "\n",
    "# Mostrar el gráfico\n",
    "plt.tight_layout()  # Ajustar el diseño para evitar recortes\n",
    "plt.show()\n"
   ]
  },
  {
   "cell_type": "code",
   "execution_count": 130,
   "metadata": {},
   "outputs": [
    {
     "data": {
      "text/html": [
       "<div>\n",
       "<style scoped>\n",
       "    .dataframe tbody tr th:only-of-type {\n",
       "        vertical-align: middle;\n",
       "    }\n",
       "\n",
       "    .dataframe tbody tr th {\n",
       "        vertical-align: top;\n",
       "    }\n",
       "\n",
       "    .dataframe thead th {\n",
       "        text-align: right;\n",
       "    }\n",
       "</style>\n",
       "<table border=\"1\" class=\"dataframe\">\n",
       "  <thead>\n",
       "    <tr style=\"text-align: right;\">\n",
       "      <th></th>\n",
       "      <th>ROL</th>\n",
       "      <th>VICTIMA</th>\n",
       "      <th>COUNT</th>\n",
       "    </tr>\n",
       "  </thead>\n",
       "  <tbody>\n",
       "    <tr>\n",
       "      <th>0</th>\n",
       "      <td>CICLISTA</td>\n",
       "      <td>BICICLETA</td>\n",
       "      <td>29</td>\n",
       "    </tr>\n",
       "    <tr>\n",
       "      <th>1</th>\n",
       "      <td>CONDUCTOR</td>\n",
       "      <td>AUTO</td>\n",
       "      <td>65</td>\n",
       "    </tr>\n",
       "    <tr>\n",
       "      <th>2</th>\n",
       "      <td>CONDUCTOR</td>\n",
       "      <td>CARGAS</td>\n",
       "      <td>3</td>\n",
       "    </tr>\n",
       "    <tr>\n",
       "      <th>3</th>\n",
       "      <td>CONDUCTOR</td>\n",
       "      <td>MOTO</td>\n",
       "      <td>261</td>\n",
       "    </tr>\n",
       "    <tr>\n",
       "      <th>4</th>\n",
       "      <td>CONDUCTOR</td>\n",
       "      <td>MOVIL</td>\n",
       "      <td>1</td>\n",
       "    </tr>\n",
       "    <tr>\n",
       "      <th>5</th>\n",
       "      <td>PASAJERO_ACOMPAÑANTE</td>\n",
       "      <td>AUTO</td>\n",
       "      <td>29</td>\n",
       "    </tr>\n",
       "    <tr>\n",
       "      <th>6</th>\n",
       "      <td>PASAJERO_ACOMPAÑANTE</td>\n",
       "      <td>CARGAS</td>\n",
       "      <td>4</td>\n",
       "    </tr>\n",
       "    <tr>\n",
       "      <th>7</th>\n",
       "      <td>PASAJERO_ACOMPAÑANTE</td>\n",
       "      <td>MOTO</td>\n",
       "      <td>38</td>\n",
       "    </tr>\n",
       "    <tr>\n",
       "      <th>8</th>\n",
       "      <td>PASAJERO_ACOMPAÑANTE</td>\n",
       "      <td>MOVIL</td>\n",
       "      <td>2</td>\n",
       "    </tr>\n",
       "    <tr>\n",
       "      <th>9</th>\n",
       "      <td>PASAJERO_ACOMPAÑANTE</td>\n",
       "      <td>PASAJEROS</td>\n",
       "      <td>5</td>\n",
       "    </tr>\n",
       "    <tr>\n",
       "      <th>10</th>\n",
       "      <td>PASAJERO_ACOMPAÑANTE</td>\n",
       "      <td>PEATON_MOTO</td>\n",
       "      <td>1</td>\n",
       "    </tr>\n",
       "    <tr>\n",
       "      <th>11</th>\n",
       "      <td>PASAJERO_ACOMPAÑANTE</td>\n",
       "      <td>SD</td>\n",
       "      <td>1</td>\n",
       "    </tr>\n",
       "    <tr>\n",
       "      <th>12</th>\n",
       "      <td>PEATON</td>\n",
       "      <td>PEATON</td>\n",
       "      <td>266</td>\n",
       "    </tr>\n",
       "    <tr>\n",
       "      <th>13</th>\n",
       "      <td>PEATON</td>\n",
       "      <td>PEATON_MOTO</td>\n",
       "      <td>1</td>\n",
       "    </tr>\n",
       "    <tr>\n",
       "      <th>14</th>\n",
       "      <td>SD</td>\n",
       "      <td>MOTO</td>\n",
       "      <td>3</td>\n",
       "    </tr>\n",
       "    <tr>\n",
       "      <th>15</th>\n",
       "      <td>SD</td>\n",
       "      <td>SD</td>\n",
       "      <td>8</td>\n",
       "    </tr>\n",
       "  </tbody>\n",
       "</table>\n",
       "</div>"
      ],
      "text/plain": [
       "                     ROL      VICTIMA  COUNT\n",
       "0               CICLISTA    BICICLETA     29\n",
       "1              CONDUCTOR         AUTO     65\n",
       "2              CONDUCTOR       CARGAS      3\n",
       "3              CONDUCTOR         MOTO    261\n",
       "4              CONDUCTOR        MOVIL      1\n",
       "5   PASAJERO_ACOMPAÑANTE         AUTO     29\n",
       "6   PASAJERO_ACOMPAÑANTE       CARGAS      4\n",
       "7   PASAJERO_ACOMPAÑANTE         MOTO     38\n",
       "8   PASAJERO_ACOMPAÑANTE        MOVIL      2\n",
       "9   PASAJERO_ACOMPAÑANTE    PASAJEROS      5\n",
       "10  PASAJERO_ACOMPAÑANTE  PEATON_MOTO      1\n",
       "11  PASAJERO_ACOMPAÑANTE           SD      1\n",
       "12                PEATON       PEATON    266\n",
       "13                PEATON  PEATON_MOTO      1\n",
       "14                    SD         MOTO      3\n",
       "15                    SD           SD      8"
      ]
     },
     "execution_count": 130,
     "metadata": {},
     "output_type": "execute_result"
    }
   ],
   "source": [
    "victimas_rol1"
   ]
  },
  {
   "cell_type": "markdown",
   "metadata": {},
   "source": [
    "**Análisis de la distribución de víctimas por rol y tipo de vehículo**\n",
    "\n",
    "- Distribución de roles y tipos de vehículos\n",
    "\n",
    "El DataFrame presenta datos sobre el rol de las víctimas en siniestros viales, el tipo de vehículo involucrado y la cantidad de casos para cada combinación.\n",
    "\n",
    "- Las combinaciones de roles y tipos de vehículos incluyen:\n",
    "\n",
    "Conductor de auto\n",
    "Conductor de moto\n",
    "Ciclista\n",
    "Pasajero de auto\n",
    "Pasajero de moto\n",
    "Peaton\n",
    "\n",
    "- Número de casos\n",
    "\n",
    "El DataFrame también presenta el número de casos para cada combinación. Por ejemplo, la combinación \"Ciclista\" - \"Bicicleta\" tiene 29 casos. Esto significa que hubo 29 siniestros viales en los que la víctima era un ciclista que conducía una bicicleta.\n",
    "\n",
    "- Interpretación de los resultados\n",
    "\n",
    "Los resultados del análisis sugieren que los peatones y los ciclistas son los usuarios más vulnerables de las carreteras. Los peatones representan el 34% de las víctimas, mientras que los ciclistas representan el 12%.\n",
    "\n",
    "Los conductores de autos y motos también representan un número significativo de víctimas. Los conductores de autos representan el 29% de las víctimas, mientras que los conductores de motos representan el 11%.\n",
    "\n",
    "- Implicaciones y análisis adicional\n",
    "\n",
    "Estos resultados sugieren que se deben tomar medidas para mejorar la seguridad de los peatones y los ciclistas. Estas medidas podrían incluir:\n",
    "\n",
    "Mejorar la infraestructura vial para proteger a los peatones y ciclistas.\n",
    "\n",
    "Implementar campañas de educación vial para concienciar a los conductores sobre la importancia de compartir la carretera con los peatones y ciclistas.\n",
    "\n",
    "También se podrían tomar medidas para mejorar la seguridad de los conductores de autos y motos. Estas medidas podrían incluir:\n",
    "\n",
    "Reducir los límites de velocidad.\n",
    "Mejorar la seguridad de los vehículos.\n",
    "Implementar campañas de educación vial para concienciar a los conductores sobre la importancia de conducir de forma segura.\n",
    "\n",
    "\n",
    "\n",
    "Este análisis proporciona información valiosa sobre la relación entre el rol de las víctimas y el tipo de vehículo involucrado en siniestros viales. Esta información puede ser utilizada para abordar problemas de seguridad vial específicos y tomar medidas adecuadas para reducir los riesgos en las carreteras."
   ]
  },
  {
   "cell_type": "markdown",
   "metadata": {},
   "source": [
    "**Gráfico de Barras por Mes de Siniestros:**"
   ]
  },
  {
   "cell_type": "code",
   "execution_count": 131,
   "metadata": {},
   "outputs": [],
   "source": [
    "victimas_por_mes = dataframe.groupby('MM')['VICTIMA'].count().reset_index()"
   ]
  },
  {
   "cell_type": "code",
   "execution_count": 132,
   "metadata": {},
   "outputs": [
    {
     "data": {
      "image/png": "[encoded data removed]",
      "text/plain": [
       "<Figure size 500x300 with 1 Axes>"
      ]
     },
     "metadata": {},
     "output_type": "display_data"
    }
   ],
   "source": [
    "plt.figure(figsize=(5, 3))\n",
    "dataframe.groupby('MM')['ID'].count().plot(kind='bar', color='purple')\n",
    "plt.title('Cantidad de Siniestros por Mes')\n",
    "plt.xlabel('Mes')\n",
    "plt.ylabel('Cantidad de Siniestros')\n",
    "plt.xticks(rotation=0)\n",
    "plt.grid(axis='y')\n",
    "plt.show()\n"
   ]
  },
  {
   "cell_type": "code",
   "execution_count": 133,
   "metadata": {},
   "outputs": [
    {
     "data": {
      "text/html": [
       "<div>\n",
       "<style scoped>\n",
       "    .dataframe tbody tr th:only-of-type {\n",
       "        vertical-align: middle;\n",
       "    }\n",
       "\n",
       "    .dataframe tbody tr th {\n",
       "        vertical-align: top;\n",
       "    }\n",
       "\n",
       "    .dataframe thead th {\n",
       "        text-align: right;\n",
       "    }\n",
       "</style>\n",
       "<table border=\"1\" class=\"dataframe\">\n",
       "  <thead>\n",
       "    <tr style=\"text-align: right;\">\n",
       "      <th></th>\n",
       "      <th>MM</th>\n",
       "      <th>VICTIMA</th>\n",
       "    </tr>\n",
       "  </thead>\n",
       "  <tbody>\n",
       "    <tr>\n",
       "      <th>0</th>\n",
       "      <td>1</td>\n",
       "      <td>62</td>\n",
       "    </tr>\n",
       "    <tr>\n",
       "      <th>1</th>\n",
       "      <td>2</td>\n",
       "      <td>59</td>\n",
       "    </tr>\n",
       "    <tr>\n",
       "      <th>2</th>\n",
       "      <td>3</td>\n",
       "      <td>56</td>\n",
       "    </tr>\n",
       "    <tr>\n",
       "      <th>3</th>\n",
       "      <td>4</td>\n",
       "      <td>52</td>\n",
       "    </tr>\n",
       "    <tr>\n",
       "      <th>4</th>\n",
       "      <td>5</td>\n",
       "      <td>60</td>\n",
       "    </tr>\n",
       "    <tr>\n",
       "      <th>5</th>\n",
       "      <td>6</td>\n",
       "      <td>58</td>\n",
       "    </tr>\n",
       "    <tr>\n",
       "      <th>6</th>\n",
       "      <td>7</td>\n",
       "      <td>51</td>\n",
       "    </tr>\n",
       "    <tr>\n",
       "      <th>7</th>\n",
       "      <td>8</td>\n",
       "      <td>67</td>\n",
       "    </tr>\n",
       "    <tr>\n",
       "      <th>8</th>\n",
       "      <td>9</td>\n",
       "      <td>51</td>\n",
       "    </tr>\n",
       "    <tr>\n",
       "      <th>9</th>\n",
       "      <td>10</td>\n",
       "      <td>52</td>\n",
       "    </tr>\n",
       "    <tr>\n",
       "      <th>10</th>\n",
       "      <td>11</td>\n",
       "      <td>68</td>\n",
       "    </tr>\n",
       "    <tr>\n",
       "      <th>11</th>\n",
       "      <td>12</td>\n",
       "      <td>81</td>\n",
       "    </tr>\n",
       "  </tbody>\n",
       "</table>\n",
       "</div>"
      ],
      "text/plain": [
       "    MM  VICTIMA\n",
       "0    1       62\n",
       "1    2       59\n",
       "2    3       56\n",
       "3    4       52\n",
       "4    5       60\n",
       "5    6       58\n",
       "6    7       51\n",
       "7    8       67\n",
       "8    9       51\n",
       "9   10       52\n",
       "10  11       68\n",
       "11  12       81"
      ]
     },
     "execution_count": 133,
     "metadata": {},
     "output_type": "execute_result"
    }
   ],
   "source": [
    "victimas_por_mes"
   ]
  },
  {
   "cell_type": "markdown",
   "metadata": {},
   "source": [
    "\n",
    "**Análisis de la distribución de víctimas de siniestros viales por mes**\n",
    "\n",
    "- Distribución de víctimas por mes\n",
    "\n",
    "El DataFrame presenta datos sobre el número de víctimas de siniestros viales para cada mes del año.\n",
    "\n",
    "- Variación en el número de víctimas por mes\n",
    "\n",
    "Se observa variación en el número de víctimas de siniestros viales en diferentes meses. El mes con el mayor número de víctimas es diciembre, con 81, mientras que el mes con la menor cantidad de víctimas es julio, con 51.\n",
    "\n",
    "- Diferencias en la seguridad vial\n",
    "\n",
    "Estas diferencias en el número de víctimas podrían estar relacionadas con factores como:\n",
    "\n",
    "Condiciones climáticas: Los meses con condiciones climáticas adversas, como lluvia o nieve, podrían tener un mayor riesgo de siniestros viales.\n",
    "Actividades recreativas: Los meses con más actividades recreativas, como fiestas de fin de año o navidad, podrían tener un mayor riesgo de siniestros viales.\n",
    "\n",
    "- Políticas de seguridad vial\n",
    "\n",
    "Estos datos pueden ser útiles para evaluar la efectividad de las políticas de seguridad vial en diferentes meses y para identificar aquellos que podrían requerir medidas de prevención adicionales.\n",
    "\n",
    "\n",
    "\n",
    "Este análisis proporciona información valiosa sobre la distribución de víctimas de siniestros viales por mes. Esta información puede ser utilizada para mejorar la seguridad vial en diferentes meses, identificando factores de riesgo e implementando medidas de prevención."
   ]
  },
  {
   "cell_type": "markdown",
   "metadata": {},
   "source": [
    "## Exportar archivo CSV con frame para KPIs:"
   ]
  },
  {
   "cell_type": "code",
   "execution_count": 134,
   "metadata": {},
   "outputs": [],
   "source": [
    "dataframe.to_csv('datasets\\df_homicidios.csv', index=False)"
   ]
  }
 ],
 "metadata": {
  "kernelspec": {
   "display_name": "Python 3",
   "language": "python",
   "name": "python3"
  },
  "language_info": {
   "codemirror_mode": {
    "name": "ipython",
    "version": 3
   },
   "file_extension": ".py",
   "mimetype": "text/x-python",
   "name": "python",
   "nbconvert_exporter": "python",
   "pygments_lexer": "ipython3",
   "version": "3.11.6"
  }
 },
 "nbformat": 4,
 "nbformat_minor": 2
}
