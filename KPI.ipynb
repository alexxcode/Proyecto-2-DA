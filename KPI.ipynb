{
 "cells": [
  {
   "cell_type": "markdown",
   "metadata": {},
   "source": [
    "## KPIs"
   ]
  },
  {
   "cell_type": "markdown",
   "metadata": {},
   "source": [
    "Librerías:"
   ]
  },
  {
   "cell_type": "code",
   "execution_count": 1,
   "metadata": {},
   "outputs": [],
   "source": [
    "import pandas as pd\n",
    "import numpy as np\n",
    "from bs4 import BeautifulSoup \n",
    "import requests"
   ]
  },
  {
   "cell_type": "markdown",
   "metadata": {},
   "source": [
    "Lectura del archivo CSV:"
   ]
  },
  {
   "cell_type": "code",
   "execution_count": 2,
   "metadata": {},
   "outputs": [],
   "source": [
    "homicidios = pd.read_csv('datasets\\df_homicidios.csv')"
   ]
  },
  {
   "cell_type": "code",
   "execution_count": 3,
   "metadata": {},
   "outputs": [
    {
     "name": "stdout",
     "output_type": "stream",
     "text": [
      "<class 'pandas.core.frame.DataFrame'>\n",
      "RangeIndex: 715 entries, 0 to 714\n",
      "Data columns (total 27 columns):\n",
      " #   Column                 Non-Null Count  Dtype  \n",
      "---  ------                 --------------  -----  \n",
      " 0   ID                     715 non-null    object \n",
      " 1   N_VICTIMAS             715 non-null    int64  \n",
      " 2   FECHA                  715 non-null    object \n",
      " 3   AAAA                   715 non-null    int64  \n",
      " 4   MM                     715 non-null    int64  \n",
      " 5   DD                     715 non-null    int64  \n",
      " 6   HORA                   715 non-null    object \n",
      " 7   HH                     715 non-null    int64  \n",
      " 8   LUGAR_DEL_HECHO        715 non-null    object \n",
      " 9   TIPO_DE_CALLE          715 non-null    object \n",
      " 10  Calle                  715 non-null    object \n",
      " 11  Altura                 133 non-null    float64\n",
      " 12  Cruce                  540 non-null    object \n",
      " 13  Dirección Normalizada  707 non-null    object \n",
      " 14  COMUNA                 715 non-null    int64  \n",
      " 15  XY (CABA)              715 non-null    object \n",
      " 16  Longitud               704 non-null    float64\n",
      " 17  Latitud                704 non-null    float64\n",
      " 18  PARTICIPANTES          715 non-null    object \n",
      " 19  VICTIMA                715 non-null    object \n",
      " 20  ACUSADO                715 non-null    object \n",
      " 21  ROL                    715 non-null    object \n",
      " 22  SEXO                   715 non-null    object \n",
      " 23  EDAD                   664 non-null    float64\n",
      " 24  FECHA_FALLECIMIENTO    649 non-null    object \n",
      " 25  SEMESTRE               715 non-null    int64  \n",
      " 26  CATEGORIA_EDAD         664 non-null    object \n",
      "dtypes: float64(4), int64(7), object(16)\n",
      "memory usage: 150.9+ KB\n"
     ]
    }
   ],
   "source": [
    "homicidios.info(1)"
   ]
  },
  {
   "cell_type": "code",
   "execution_count": 4,
   "metadata": {},
   "outputs": [
    {
     "data": {
      "text/plain": [
       "Index(['ID', 'N_VICTIMAS', 'FECHA', 'AAAA', 'MM', 'DD', 'HORA', 'HH',\n",
       "       'LUGAR_DEL_HECHO', 'TIPO_DE_CALLE', 'Calle', 'Altura', 'Cruce',\n",
       "       'Dirección Normalizada', 'COMUNA', 'XY (CABA)', 'Longitud', 'Latitud',\n",
       "       'PARTICIPANTES', 'VICTIMA', 'ACUSADO', 'ROL', 'SEXO', 'EDAD',\n",
       "       'FECHA_FALLECIMIENTO', 'SEMESTRE', 'CATEGORIA_EDAD'],\n",
       "      dtype='object')"
      ]
     },
     "execution_count": 4,
     "metadata": {},
     "output_type": "execute_result"
    }
   ],
   "source": [
    "homicidios.columns"
   ]
  },
  {
   "cell_type": "code",
   "execution_count": 5,
   "metadata": {},
   "outputs": [
    {
     "name": "stdout",
     "output_type": "stream",
     "text": [
      "<class 'pandas.core.frame.DataFrame'>\n",
      "RangeIndex: 715 entries, 0 to 714\n",
      "Data columns (total 27 columns):\n",
      " #   Column                 Non-Null Count  Dtype  \n",
      "---  ------                 --------------  -----  \n",
      " 0   ID                     715 non-null    object \n",
      " 1   N_VICTIMAS             715 non-null    int64  \n",
      " 2   FECHA                  715 non-null    object \n",
      " 3   AAAA                   715 non-null    int64  \n",
      " 4   MM                     715 non-null    int64  \n",
      " 5   DD                     715 non-null    int64  \n",
      " 6   HORA                   715 non-null    object \n",
      " 7   HH                     715 non-null    int64  \n",
      " 8   LUGAR_DEL_HECHO        715 non-null    object \n",
      " 9   TIPO_DE_CALLE          715 non-null    object \n",
      " 10  Calle                  715 non-null    object \n",
      " 11  Altura                 133 non-null    float64\n",
      " 12  Cruce                  540 non-null    object \n",
      " 13  Dirección Normalizada  707 non-null    object \n",
      " 14  COMUNA                 715 non-null    int64  \n",
      " 15  XY (CABA)              715 non-null    object \n",
      " 16  Longitud               704 non-null    float64\n",
      " 17  Latitud                704 non-null    float64\n",
      " 18  PARTICIPANTES          715 non-null    object \n",
      " 19  VICTIMA                715 non-null    object \n",
      " 20  ACUSADO                715 non-null    object \n",
      " 21  ROL                    715 non-null    object \n",
      " 22  SEXO                   715 non-null    object \n",
      " 23  EDAD                   664 non-null    float64\n",
      " 24  FECHA_FALLECIMIENTO    649 non-null    object \n",
      " 25  SEMESTRE               715 non-null    int64  \n",
      " 26  CATEGORIA_EDAD         664 non-null    object \n",
      "dtypes: float64(4), int64(7), object(16)\n",
      "memory usage: 150.9+ KB\n"
     ]
    }
   ],
   "source": [
    "homicidios.info()"
   ]
  },
  {
   "cell_type": "markdown",
   "metadata": {},
   "source": [
    "Web-Scraping para obtener la poblacion de CABA:"
   ]
  },
  {
   "cell_type": "code",
   "execution_count": 6,
   "metadata": {},
   "outputs": [],
   "source": [
    "url='https://www.ign.gob.ar/NuestrasActividades/Geografia/DatosArgentina/Poblacion2'\n",
    "resq=requests.get(url)\n",
    "soup=BeautifulSoup(resq.text, 'html.parser')\n",
    "pagina=pd.read_html(url)"
   ]
  },
  {
   "cell_type": "code",
   "execution_count": 7,
   "metadata": {},
   "outputs": [
    {
     "data": {
      "text/html": [
       "<div>\n",
       "<style scoped>\n",
       "    .dataframe tbody tr th:only-of-type {\n",
       "        vertical-align: middle;\n",
       "    }\n",
       "\n",
       "    .dataframe tbody tr th {\n",
       "        vertical-align: top;\n",
       "    }\n",
       "\n",
       "    .dataframe thead th {\n",
       "        text-align: right;\n",
       "    }\n",
       "</style>\n",
       "<table border=\"1\" class=\"dataframe\">\n",
       "  <thead>\n",
       "    <tr style=\"text-align: right;\">\n",
       "      <th></th>\n",
       "      <th>Jurisdicción</th>\n",
       "      <th>Año 2010</th>\n",
       "      <th>Año 2015</th>\n",
       "      <th>Año 2020</th>\n",
       "    </tr>\n",
       "  </thead>\n",
       "  <tbody>\n",
       "    <tr>\n",
       "      <th>0</th>\n",
       "      <td>República Argentina</td>\n",
       "      <td>40.117.096</td>\n",
       "      <td>43.131.966</td>\n",
       "      <td>45.376.763</td>\n",
       "    </tr>\n",
       "    <tr>\n",
       "      <th>1</th>\n",
       "      <td>Ciudad Autónoma de Buenos Aires</td>\n",
       "      <td>2.890.151</td>\n",
       "      <td>3.054.267</td>\n",
       "      <td>3.075.646</td>\n",
       "    </tr>\n",
       "    <tr>\n",
       "      <th>2</th>\n",
       "      <td>Buenos Aires</td>\n",
       "      <td>15.625.084</td>\n",
       "      <td>16.659.931</td>\n",
       "      <td>17.541.141</td>\n",
       "    </tr>\n",
       "    <tr>\n",
       "      <th>3</th>\n",
       "      <td>Catamarca</td>\n",
       "      <td>367.828</td>\n",
       "      <td>396.895</td>\n",
       "      <td>415.438</td>\n",
       "    </tr>\n",
       "    <tr>\n",
       "      <th>4</th>\n",
       "      <td>Chaco</td>\n",
       "      <td>1.055.259</td>\n",
       "      <td>1.143.201</td>\n",
       "      <td>1.204.541</td>\n",
       "    </tr>\n",
       "    <tr>\n",
       "      <th>5</th>\n",
       "      <td>Chubut</td>\n",
       "      <td>509.108</td>\n",
       "      <td>566.922</td>\n",
       "      <td>618.994</td>\n",
       "    </tr>\n",
       "    <tr>\n",
       "      <th>6</th>\n",
       "      <td>Córdoba</td>\n",
       "      <td>3.308.876</td>\n",
       "      <td>3.567.654</td>\n",
       "      <td>3.760.450</td>\n",
       "    </tr>\n",
       "    <tr>\n",
       "      <th>7</th>\n",
       "      <td>Corrientes</td>\n",
       "      <td>992.595</td>\n",
       "      <td>1.070.283</td>\n",
       "      <td>1.120.801</td>\n",
       "    </tr>\n",
       "    <tr>\n",
       "      <th>8</th>\n",
       "      <td>Entre Ríos</td>\n",
       "      <td>1.235.994</td>\n",
       "      <td>1.321.415</td>\n",
       "      <td>1.385.961</td>\n",
       "    </tr>\n",
       "    <tr>\n",
       "      <th>9</th>\n",
       "      <td>Formosa</td>\n",
       "      <td>530.162</td>\n",
       "      <td>579.250</td>\n",
       "      <td>605.193</td>\n",
       "    </tr>\n",
       "    <tr>\n",
       "      <th>10</th>\n",
       "      <td>Jujuy</td>\n",
       "      <td>673.307</td>\n",
       "      <td>727.780</td>\n",
       "      <td>770.881</td>\n",
       "    </tr>\n",
       "    <tr>\n",
       "      <th>11</th>\n",
       "      <td>La Pampa</td>\n",
       "      <td>318.951</td>\n",
       "      <td>343.056</td>\n",
       "      <td>358.428</td>\n",
       "    </tr>\n",
       "    <tr>\n",
       "      <th>12</th>\n",
       "      <td>La Rioja</td>\n",
       "      <td>333.642</td>\n",
       "      <td>367.728</td>\n",
       "      <td>393.531</td>\n",
       "    </tr>\n",
       "    <tr>\n",
       "      <th>13</th>\n",
       "      <td>Mendoza</td>\n",
       "      <td>1.738.929</td>\n",
       "      <td>1.885.551</td>\n",
       "      <td>1.990.338</td>\n",
       "    </tr>\n",
       "    <tr>\n",
       "      <th>14</th>\n",
       "      <td>Misiones</td>\n",
       "      <td>1.101.593</td>\n",
       "      <td>1.189.446</td>\n",
       "      <td>1.261.294</td>\n",
       "    </tr>\n",
       "    <tr>\n",
       "      <th>15</th>\n",
       "      <td>Neuquén</td>\n",
       "      <td>551.266</td>\n",
       "      <td>619.745</td>\n",
       "      <td>664.057</td>\n",
       "    </tr>\n",
       "    <tr>\n",
       "      <th>16</th>\n",
       "      <td>Río Negro</td>\n",
       "      <td>638.645</td>\n",
       "      <td>698.874</td>\n",
       "      <td>747.610</td>\n",
       "    </tr>\n",
       "    <tr>\n",
       "      <th>17</th>\n",
       "      <td>Salta</td>\n",
       "      <td>1.214.441</td>\n",
       "      <td>1.333.365</td>\n",
       "      <td>1.424.397</td>\n",
       "    </tr>\n",
       "    <tr>\n",
       "      <th>18</th>\n",
       "      <td>San Juan</td>\n",
       "      <td>681.055</td>\n",
       "      <td>738.959</td>\n",
       "      <td>781.217</td>\n",
       "    </tr>\n",
       "    <tr>\n",
       "      <th>19</th>\n",
       "      <td>San Luis</td>\n",
       "      <td>432.310</td>\n",
       "      <td>476.351</td>\n",
       "      <td>508.328</td>\n",
       "    </tr>\n",
       "    <tr>\n",
       "      <th>20</th>\n",
       "      <td>Santa Cruz</td>\n",
       "      <td>273.964</td>\n",
       "      <td>320.469</td>\n",
       "      <td>365.698</td>\n",
       "    </tr>\n",
       "    <tr>\n",
       "      <th>21</th>\n",
       "      <td>Santa Fe</td>\n",
       "      <td>3.194.537</td>\n",
       "      <td>3.397.532</td>\n",
       "      <td>3.536.418</td>\n",
       "    </tr>\n",
       "    <tr>\n",
       "      <th>22</th>\n",
       "      <td>Santiago del Estero</td>\n",
       "      <td>874.006</td>\n",
       "      <td>928.097</td>\n",
       "      <td>978.313</td>\n",
       "    </tr>\n",
       "    <tr>\n",
       "      <th>23</th>\n",
       "      <td>Tierra del Fuego, Antártida e Islas del Atlánt...</td>\n",
       "      <td>127.205</td>\n",
       "      <td>152.317</td>\n",
       "      <td>173.432</td>\n",
       "    </tr>\n",
       "    <tr>\n",
       "      <th>24</th>\n",
       "      <td>Tucumán</td>\n",
       "      <td>1.448.188</td>\n",
       "      <td>1.592.878</td>\n",
       "      <td>1.694.656</td>\n",
       "    </tr>\n",
       "  </tbody>\n",
       "</table>\n",
       "</div>"
      ],
      "text/plain": [
       "                                         Jurisdicción    Año 2010    Año 2015  \\\n",
       "0                                 República Argentina  40.117.096  43.131.966   \n",
       "1                     Ciudad Autónoma de Buenos Aires   2.890.151   3.054.267   \n",
       "2                                        Buenos Aires  15.625.084  16.659.931   \n",
       "3                                           Catamarca     367.828     396.895   \n",
       "4                                               Chaco   1.055.259   1.143.201   \n",
       "5                                              Chubut     509.108     566.922   \n",
       "6                                             Córdoba   3.308.876   3.567.654   \n",
       "7                                          Corrientes     992.595   1.070.283   \n",
       "8                                          Entre Ríos   1.235.994   1.321.415   \n",
       "9                                             Formosa     530.162     579.250   \n",
       "10                                              Jujuy     673.307     727.780   \n",
       "11                                           La Pampa     318.951     343.056   \n",
       "12                                           La Rioja     333.642     367.728   \n",
       "13                                            Mendoza   1.738.929   1.885.551   \n",
       "14                                           Misiones   1.101.593   1.189.446   \n",
       "15                                            Neuquén     551.266     619.745   \n",
       "16                                          Río Negro     638.645     698.874   \n",
       "17                                              Salta   1.214.441   1.333.365   \n",
       "18                                           San Juan     681.055     738.959   \n",
       "19                                           San Luis     432.310     476.351   \n",
       "20                                         Santa Cruz     273.964     320.469   \n",
       "21                                           Santa Fe   3.194.537   3.397.532   \n",
       "22                                Santiago del Estero     874.006     928.097   \n",
       "23  Tierra del Fuego, Antártida e Islas del Atlánt...     127.205     152.317   \n",
       "24                                            Tucumán   1.448.188   1.592.878   \n",
       "\n",
       "      Año 2020  \n",
       "0   45.376.763  \n",
       "1    3.075.646  \n",
       "2   17.541.141  \n",
       "3      415.438  \n",
       "4    1.204.541  \n",
       "5      618.994  \n",
       "6    3.760.450  \n",
       "7    1.120.801  \n",
       "8    1.385.961  \n",
       "9      605.193  \n",
       "10     770.881  \n",
       "11     358.428  \n",
       "12     393.531  \n",
       "13   1.990.338  \n",
       "14   1.261.294  \n",
       "15     664.057  \n",
       "16     747.610  \n",
       "17   1.424.397  \n",
       "18     781.217  \n",
       "19     508.328  \n",
       "20     365.698  \n",
       "21   3.536.418  \n",
       "22     978.313  \n",
       "23     173.432  \n",
       "24   1.694.656  "
      ]
     },
     "execution_count": 7,
     "metadata": {},
     "output_type": "execute_result"
    }
   ],
   "source": [
    "pagina[2]"
   ]
  },
  {
   "cell_type": "markdown",
   "metadata": {},
   "source": [
    "# KPI  1"
   ]
  },
  {
   "cell_type": "markdown",
   "metadata": {},
   "source": [
    "Objetivo: Reducir en un 10% la tasa de homicidios en siniestros viales de los últimos seis meses, en CABA, en comparación con la tasa de homicidios en siniestros viales del semestre anterior."
   ]
  },
  {
   "cell_type": "code",
   "execution_count": 8,
   "metadata": {},
   "outputs": [],
   "source": [
    "\n",
    "# Calcular el número de homicidios en siniestros viales para cada semestre\n",
    "homicidios_semestre = homicidios.groupby(['AAAA', 'SEMESTRE'])['N_VICTIMAS'].sum()\n",
    "\n",
    "# Calcular la población total en CABA en un promedio de los ultimos 6 años\n",
    "poblacion_caba =(3054267 + 3075646) / 2\n",
    "\n",
    "# Calcular la tasa de homicidios en siniestros viales para cada semestre\n",
    "tasa_homicidios_semestre = (homicidios_semestre / poblacion_caba) * 100000\n",
    "np.round(tasa_homicidios_semestre , 2)\n",
    "\n",
    "# Calcular la reducción en la tasa de homicidios en siniestros viales\n",
    "reduccion_tasa_homicidios = ((tasa_homicidios_semestre.shift(-1) - tasa_homicidios_semestre) / tasa_homicidios_semestre) * 100\n",
    "\n"
   ]
  },
  {
   "cell_type": "code",
   "execution_count": 9,
   "metadata": {},
   "outputs": [
    {
     "data": {
      "text/plain": [
       "<Axes: xlabel='AAAA,SEMESTRE'>"
      ]
     },
     "execution_count": 9,
     "metadata": {},
     "output_type": "execute_result"
    },
    {
     "data": {
      "image/png": "[encoded data removed]",
      "text/plain": [
       "<Figure size 640x480 with 1 Axes>"
      ]
     },
     "metadata": {},
     "output_type": "display_data"
    }
   ],
   "source": [
    "reduccion_tasa_homicidios.plot()"
   ]
  },
  {
   "cell_type": "markdown",
   "metadata": {},
   "source": [
    "\n",
    "**KPI 1: Reducción del 10% en la tasa de homicidios en siniestros viales en CABA en comparación con el semestre anterior**\n",
    "\n",
    "Este KPI se enfoca en medir la evolución de la tasa de homicidios en siniestros viales en la Ciudad Autónoma de Buenos Aires (CABA) en un período de varios años, comparando los dos últimos semestres.  Análisis más detallado:\n",
    "\n",
    "- **Tendencia general:** La tendencia en este KPI varía año tras año. En algunos años, se logra una disminución significativa, mientras que en otros se observa un aumento en la tasa de homicidios en siniestros viales.\n",
    "\n",
    "- **Año 2020:** Se destaca un aumento significativo en la tasa de homicidios en el primer semestre (61.29%), pero una mejora en el segundo semestre (10%), lo que puede ser atribuible a factores específicos, como el impacto de la pandemia o medidas de seguridad vial.\n",
    "\n",
    "- **Año 2021:** Los datos parecen estar incompletos, ya que falta información para el segundo semestre. Esto puede dificultar una evaluación precisa del rendimiento en ese año.\n",
    "\n",
    "- **Comparación entre semestres:** En algunos casos, se logra la reducción deseada del 10% entre semestres, mientras que en otros no se alcanza.\n",
    "\n",
    "- **Análisis de causas:** Sería útil profundizar en las razones detrás de las variaciones en la tasa de homicidios en siniestros viales, como cambios en las políticas de seguridad vial, mejoras en la infraestructura vial, o la influencia de eventos externos como la pandemia."
   ]
  },
  {
   "cell_type": "markdown",
   "metadata": {},
   "source": [
    "**Transformacion de datos para Power BI**"
   ]
  },
  {
   "cell_type": "code",
   "execution_count": 10,
   "metadata": {},
   "outputs": [],
   "source": [
    "# Redondear \n",
    "reduccion_tasa_homicidios = reduccion_tasa_homicidios.apply(lambda x: round(x, 0))"
   ]
  },
  {
   "cell_type": "code",
   "execution_count": 11,
   "metadata": {},
   "outputs": [],
   "source": [
    "#Eliminar nulos (2021, semestre 2)\n",
    "reduccion_tasa_homicidios.replace(np.NaN, 0, inplace=True)"
   ]
  },
  {
   "cell_type": "code",
   "execution_count": 12,
   "metadata": {},
   "outputs": [],
   "source": [
    "# Convertir a enteros\n",
    "reduccion_tasa_homicidios_enteros = reduccion_tasa_homicidios.astype(int)\n"
   ]
  },
  {
   "cell_type": "code",
   "execution_count": 13,
   "metadata": {},
   "outputs": [
    {
     "data": {
      "text/plain": [
       "AAAA  SEMESTRE\n",
       "2016  1           22\n",
       "      2          -13\n",
       "2017  1            3\n",
       "      2           -1\n",
       "2018  1           13\n",
       "      2          -28\n",
       "2019  1          -18\n",
       "      2          -34\n",
       "2020  1           61\n",
       "      2           10\n",
       "2021  1          -24\n",
       "      2            0\n",
       "Name: N_VICTIMAS, dtype: int32"
      ]
     },
     "execution_count": 13,
     "metadata": {},
     "output_type": "execute_result"
    }
   ],
   "source": [
    "reduccion_tasa_homicidios_enteros "
   ]
  },
  {
   "cell_type": "code",
   "execution_count": 14,
   "metadata": {},
   "outputs": [
    {
     "data": {
      "text/plain": [
       "AAAA  SEMESTRE\n",
       "2016  1           65\n",
       "      2           79\n",
       "2017  1           69\n",
       "      2           71\n",
       "2018  1           70\n",
       "      2           79\n",
       "2019  1           57\n",
       "      2           47\n",
       "2020  1           31\n",
       "      2           50\n",
       "2021  1           55\n",
       "      2           42\n",
       "Name: N_VICTIMAS, dtype: int64"
      ]
     },
     "execution_count": 14,
     "metadata": {},
     "output_type": "execute_result"
    }
   ],
   "source": [
    "homicidios_semestre"
   ]
  },
  {
   "cell_type": "code",
   "execution_count": 15,
   "metadata": {},
   "outputs": [
    {
     "data": {
      "text/plain": [
       "AAAA  SEMESTRE\n",
       "2016  1           2.120748\n",
       "      2           2.577524\n",
       "2017  1           2.251255\n",
       "      2           2.316509\n",
       "2018  1           2.283882\n",
       "      2           2.577524\n",
       "2019  1           1.859733\n",
       "      2           1.533464\n",
       "2020  1           1.011434\n",
       "      2           1.631345\n",
       "2021  1           1.794479\n",
       "      2           1.370329\n",
       "Name: N_VICTIMAS, dtype: float64"
      ]
     },
     "execution_count": 15,
     "metadata": {},
     "output_type": "execute_result"
    }
   ],
   "source": [
    "tasa_homicidios_semestre"
   ]
  },
  {
   "cell_type": "code",
   "execution_count": 16,
   "metadata": {},
   "outputs": [
    {
     "data": {
      "text/plain": [
       "AAAA  SEMESTRE\n",
       "2016  1           22\n",
       "      2          -13\n",
       "2017  1            3\n",
       "      2           -1\n",
       "2018  1           13\n",
       "      2          -28\n",
       "2019  1          -18\n",
       "      2          -34\n",
       "2020  1           61\n",
       "      2           10\n",
       "Name: N_VICTIMAS, dtype: int32"
      ]
     },
     "execution_count": 16,
     "metadata": {},
     "output_type": "execute_result"
    }
   ],
   "source": [
    "reduccion_tasa_homicidios_enteros.head(10)"
   ]
  },
  {
   "cell_type": "code",
   "execution_count": 17,
   "metadata": {},
   "outputs": [],
   "source": [
    "reduccion_tasa_homicidios_enteros.to_csv(r'datasets\\reduccion_tasa_homicidios.csv')"
   ]
  },
  {
   "cell_type": "markdown",
   "metadata": {},
   "source": [
    "# KPI  2"
   ]
  },
  {
   "cell_type": "markdown",
   "metadata": {},
   "source": [
    "Objetivo: Reducir en un 7% la cantidad de accidentes mortales de motociclistas en el último año, en CABA, respecto al año anterior."
   ]
  },
  {
   "cell_type": "code",
   "execution_count": 18,
   "metadata": {},
   "outputs": [],
   "source": [
    "# Filtrar los datos para accidentes mortales de motociclistas\n",
    "accidentes_motociclistas = homicidios[homicidios['VICTIMA'] == 'MOTO']\n",
    "\n",
    "# Calcular la cantidad de accidentes mortales de motociclistas para cada año\n",
    "accidentes_motociclistas_year = accidentes_motociclistas.groupby('AAAA')['ID'].count()\n",
    "\n",
    "# Calcular la reducción en la cantidad de accidentes mortales de motociclistas\n",
    "reduccion_accidentes_motociclistas = ((accidentes_motociclistas_year.shift(-1) - accidentes_motociclistas_year) / accidentes_motociclistas_year) * 100"
   ]
  },
  {
   "cell_type": "code",
   "execution_count": 19,
   "metadata": {},
   "outputs": [
    {
     "data": {
      "text/plain": [
       "<Axes: xlabel='AAAA'>"
      ]
     },
     "execution_count": 19,
     "metadata": {},
     "output_type": "execute_result"
    },
    {
     "data": {
      "image/png": "[encoded data removed]",
      "text/plain": [
       "<Figure size 640x480 with 1 Axes>"
      ]
     },
     "metadata": {},
     "output_type": "display_data"
    }
   ],
   "source": [
    "reduccion_accidentes_motociclistas.plot()"
   ]
  },
  {
   "cell_type": "markdown",
   "metadata": {},
   "source": [
    "\n",
    "**KPI 2: Reducción del 7% en la cantidad de accidentes mortales de motociclistas en CABA en el último año en comparación con el año anterior**\n",
    "\n",
    "Este KPI se centra en evaluar la evolución de la cantidad de accidentes mortales de motociclistas en la Ciudad Autónoma de Buenos Aires (CABA) en un período de varios años, comparando los dos últimos años. Análisis más detallado:\n",
    "\n",
    "- **Tendencia general:** En este KPI, también se observa una variación año tras año, con fluctuaciones tanto positivas como negativas.\n",
    "\n",
    "- **Año 2020:** Destaca un aumento significativo del 64.29% en la cantidad de accidentes mortales de motociclistas, lo que podría requerir una atención inmediata para comprender las razones detrás de este aumento.\n",
    "\n",
    "- **Año 2021:** Al igual que en el KPI 1, faltan datos para el año 2021 en este KPI, lo que dificulta una evaluación precisa.\n",
    "\n",
    "- **Comparación anual:** La reducción del 7% en la cantidad de accidentes mortales de motociclistas es el objetivo, pero no siempre se logra. Por ejemplo, en el año 2019, se observa una disminución significativa del 44%.\n",
    "\n",
    "- **Análisis de causas:** Para entender las fluctuaciones en este KPI, sería importante analizar factores como las medidas de seguridad específicas para motociclistas, el aumento en la cantidad de motociclistas en la ciudad y la aplicación de políticas de tráfico.\n"
   ]
  },
  {
   "cell_type": "markdown",
   "metadata": {},
   "source": [
    "**Transformacion de datos para Power BI**"
   ]
  },
  {
   "cell_type": "code",
   "execution_count": 20,
   "metadata": {},
   "outputs": [],
   "source": [
    "# Redondear \n",
    "reduccion_accidentes_motociclistas= reduccion_accidentes_motociclistas.apply(lambda x: round(x, 0))\n",
    "\n",
    "#Eliminar nulos (2021, semestre 2)\n",
    "reduccion_accidentes_motociclistas.replace(np.NaN, 0, inplace=True)\n",
    "\n",
    "# Convertir a enteros\n",
    "reduccion_accidentes_motociclistas_enteros = reduccion_accidentes_motociclistas.astype(int)"
   ]
  },
  {
   "cell_type": "code",
   "execution_count": 21,
   "metadata": {},
   "outputs": [
    {
     "data": {
      "text/html": [
       "<div>\n",
       "<style scoped>\n",
       "    .dataframe tbody tr th:only-of-type {\n",
       "        vertical-align: middle;\n",
       "    }\n",
       "\n",
       "    .dataframe tbody tr th {\n",
       "        vertical-align: top;\n",
       "    }\n",
       "\n",
       "    .dataframe thead th {\n",
       "        text-align: right;\n",
       "    }\n",
       "</style>\n",
       "<table border=\"1\" class=\"dataframe\">\n",
       "  <thead>\n",
       "    <tr style=\"text-align: right;\">\n",
       "      <th></th>\n",
       "      <th>ID</th>\n",
       "      <th>N_VICTIMAS</th>\n",
       "      <th>FECHA</th>\n",
       "      <th>AAAA</th>\n",
       "      <th>MM</th>\n",
       "      <th>DD</th>\n",
       "      <th>HORA</th>\n",
       "      <th>HH</th>\n",
       "      <th>LUGAR_DEL_HECHO</th>\n",
       "      <th>TIPO_DE_CALLE</th>\n",
       "      <th>...</th>\n",
       "      <th>Latitud</th>\n",
       "      <th>PARTICIPANTES</th>\n",
       "      <th>VICTIMA</th>\n",
       "      <th>ACUSADO</th>\n",
       "      <th>ROL</th>\n",
       "      <th>SEXO</th>\n",
       "      <th>EDAD</th>\n",
       "      <th>FECHA_FALLECIMIENTO</th>\n",
       "      <th>SEMESTRE</th>\n",
       "      <th>CATEGORIA_EDAD</th>\n",
       "    </tr>\n",
       "  </thead>\n",
       "  <tbody>\n",
       "    <tr>\n",
       "      <th>0</th>\n",
       "      <td>2016-0001</td>\n",
       "      <td>1</td>\n",
       "      <td>2016-01-01</td>\n",
       "      <td>2016</td>\n",
       "      <td>1</td>\n",
       "      <td>1</td>\n",
       "      <td>2023-12-05 04:00:00</td>\n",
       "      <td>4</td>\n",
       "      <td>AV PIEDRA BUENA Y AV FERNANDEZ DE LA CRUZ</td>\n",
       "      <td>AVENIDA</td>\n",
       "      <td>...</td>\n",
       "      <td>-34.687570</td>\n",
       "      <td>MOTO-AUTO</td>\n",
       "      <td>MOTO</td>\n",
       "      <td>AUTO</td>\n",
       "      <td>CONDUCTOR</td>\n",
       "      <td>MASCULINO</td>\n",
       "      <td>19.0</td>\n",
       "      <td>2016-01-01 00:00:00</td>\n",
       "      <td>1</td>\n",
       "      <td>Adultos Jóvenes</td>\n",
       "    </tr>\n",
       "    <tr>\n",
       "      <th>2</th>\n",
       "      <td>2016-0003</td>\n",
       "      <td>1</td>\n",
       "      <td>2016-01-03</td>\n",
       "      <td>2016</td>\n",
       "      <td>1</td>\n",
       "      <td>3</td>\n",
       "      <td>2023-12-05 07:00:00</td>\n",
       "      <td>7</td>\n",
       "      <td>AV ENTRE RIOS 2034</td>\n",
       "      <td>AVENIDA</td>\n",
       "      <td>...</td>\n",
       "      <td>-34.631894</td>\n",
       "      <td>MOTO-AUTO</td>\n",
       "      <td>MOTO</td>\n",
       "      <td>AUTO</td>\n",
       "      <td>CONDUCTOR</td>\n",
       "      <td>MASCULINO</td>\n",
       "      <td>30.0</td>\n",
       "      <td>2016-01-03 00:00:00</td>\n",
       "      <td>1</td>\n",
       "      <td>Adultos Jóvenes</td>\n",
       "    </tr>\n",
       "    <tr>\n",
       "      <th>3</th>\n",
       "      <td>2016-0004</td>\n",
       "      <td>1</td>\n",
       "      <td>2016-01-10</td>\n",
       "      <td>2016</td>\n",
       "      <td>1</td>\n",
       "      <td>10</td>\n",
       "      <td>2023-12-05 00:00:00</td>\n",
       "      <td>0</td>\n",
       "      <td>AV LARRAZABAL Y GRAL VILLEGAS CONRADO</td>\n",
       "      <td>AVENIDA</td>\n",
       "      <td>...</td>\n",
       "      <td>-34.680930</td>\n",
       "      <td>MOTO-SD</td>\n",
       "      <td>MOTO</td>\n",
       "      <td>SD</td>\n",
       "      <td>CONDUCTOR</td>\n",
       "      <td>MASCULINO</td>\n",
       "      <td>18.0</td>\n",
       "      <td>NaN</td>\n",
       "      <td>1</td>\n",
       "      <td>Niños</td>\n",
       "    </tr>\n",
       "  </tbody>\n",
       "</table>\n",
       "<p>3 rows × 27 columns</p>\n",
       "</div>"
      ],
      "text/plain": [
       "          ID  N_VICTIMAS       FECHA  AAAA  MM  DD                 HORA  HH  \\\n",
       "0  2016-0001           1  2016-01-01  2016   1   1  2023-12-05 04:00:00   4   \n",
       "2  2016-0003           1  2016-01-03  2016   1   3  2023-12-05 07:00:00   7   \n",
       "3  2016-0004           1  2016-01-10  2016   1  10  2023-12-05 00:00:00   0   \n",
       "\n",
       "                             LUGAR_DEL_HECHO TIPO_DE_CALLE  ...    Latitud  \\\n",
       "0  AV PIEDRA BUENA Y AV FERNANDEZ DE LA CRUZ       AVENIDA  ... -34.687570   \n",
       "2                         AV ENTRE RIOS 2034       AVENIDA  ... -34.631894   \n",
       "3      AV LARRAZABAL Y GRAL VILLEGAS CONRADO       AVENIDA  ... -34.680930   \n",
       "\n",
       "   PARTICIPANTES VICTIMA ACUSADO        ROL       SEXO  EDAD  \\\n",
       "0      MOTO-AUTO    MOTO    AUTO  CONDUCTOR  MASCULINO  19.0   \n",
       "2      MOTO-AUTO    MOTO    AUTO  CONDUCTOR  MASCULINO  30.0   \n",
       "3        MOTO-SD    MOTO      SD  CONDUCTOR  MASCULINO  18.0   \n",
       "\n",
       "   FECHA_FALLECIMIENTO SEMESTRE   CATEGORIA_EDAD  \n",
       "0  2016-01-01 00:00:00        1  Adultos Jóvenes  \n",
       "2  2016-01-03 00:00:00        1  Adultos Jóvenes  \n",
       "3                  NaN        1            Niños  \n",
       "\n",
       "[3 rows x 27 columns]"
      ]
     },
     "execution_count": 21,
     "metadata": {},
     "output_type": "execute_result"
    }
   ],
   "source": [
    "accidentes_motociclistas.head(3)"
   ]
  },
  {
   "cell_type": "code",
   "execution_count": 22,
   "metadata": {},
   "outputs": [
    {
     "data": {
      "text/plain": [
       "AAAA\n",
       "2016    65\n",
       "2017    56\n",
       "2018    57\n",
       "2019    50\n",
       "2020    28\n",
       "2021    46\n",
       "Name: ID, dtype: int64"
      ]
     },
     "execution_count": 22,
     "metadata": {},
     "output_type": "execute_result"
    }
   ],
   "source": [
    "accidentes_motociclistas_year"
   ]
  },
  {
   "cell_type": "code",
   "execution_count": 23,
   "metadata": {},
   "outputs": [
    {
     "data": {
      "text/plain": [
       "AAAA\n",
       "2016   -14.0\n",
       "2017     2.0\n",
       "2018   -12.0\n",
       "2019   -44.0\n",
       "2020    64.0\n",
       "2021     0.0\n",
       "Name: ID, dtype: float64"
      ]
     },
     "execution_count": 23,
     "metadata": {},
     "output_type": "execute_result"
    }
   ],
   "source": [
    "reduccion_accidentes_motociclistas"
   ]
  },
  {
   "cell_type": "code",
   "execution_count": 24,
   "metadata": {},
   "outputs": [
    {
     "name": "stdout",
     "output_type": "stream",
     "text": [
      "<class 'pandas.core.series.Series'>\n",
      "Index: 6 entries, 2016 to 2021\n",
      "Series name: ID\n",
      "Non-Null Count  Dtype\n",
      "--------------  -----\n",
      "6 non-null      int32\n",
      "dtypes: int32(1)\n",
      "memory usage: 72.0 bytes\n"
     ]
    }
   ],
   "source": [
    "reduccion_accidentes_motociclistas_enteros.info()"
   ]
  },
  {
   "cell_type": "code",
   "execution_count": 25,
   "metadata": {},
   "outputs": [],
   "source": [
    "reduccion_accidentes_motociclistas_enteros.to_csv(r'datasets\\reduccion_accidentes_motociclistas.csv')"
   ]
  },
  {
   "cell_type": "markdown",
   "metadata": {},
   "source": [
    "# KPI  3"
   ]
  },
  {
   "cell_type": "markdown",
   "metadata": {},
   "source": [
    "Objetivo: Reducir en un 15% la cantidad de accidentes mortales de niños en el último año, en CABA, respecto al año anterior."
   ]
  },
  {
   "cell_type": "code",
   "execution_count": 26,
   "metadata": {},
   "outputs": [],
   "source": [
    "# Filtrar los datos para accidentes mortales de motociclistas\n",
    "accidentes_kids = homicidios[homicidios['CATEGORIA_EDAD'] == 'Niños']\n",
    "\n",
    "# Calcular la cantidad de accidentes mortales de motociclistas para cada año\n",
    "accidentes_kids_year = accidentes_kids.groupby('AAAA')['ID'].count()\n",
    "\n",
    "# Calcular la reducción en la cantidad de accidentes mortales de motociclistas\n",
    "reduccion_accidentes_kids  = ((accidentes_kids_year.shift(-1) - accidentes_kids_year) / accidentes_kids_year) * 100"
   ]
  },
  {
   "cell_type": "code",
   "execution_count": 27,
   "metadata": {},
   "outputs": [
    {
     "data": {
      "text/plain": [
       "<Axes: xlabel='AAAA'>"
      ]
     },
     "execution_count": 27,
     "metadata": {},
     "output_type": "execute_result"
    },
    {
     "data": {
      "image/png": "[encoded data removed]",
      "text/plain": [
       "<Figure size 640x480 with 1 Axes>"
      ]
     },
     "metadata": {},
     "output_type": "display_data"
    }
   ],
   "source": [
    "reduccion_accidentes_kids.plot()"
   ]
  },
  {
   "cell_type": "markdown",
   "metadata": {},
   "source": [
    "**KPI 3: Redución del 15% en la cantidad de accidentes mortales de niños en CABA respecto al año anterior.**\n",
    "\n",
    "El KPI 3 se centra en evaluar la evolución de la cantidad de accidentes mortales de niños en la Ciudad Autónoma de Buenos Aires (CABA) en un período de varios años, comparando los dos últimos años.\n",
    "\n",
    "- **Tendencia General:** En general, hubo una reducción en la cantidad de accidentes mortales de niños en CABA durante los años analizados.\n",
    "\n",
    "- **Año 2017:** El año 2017 muestra una disminución significativa con 37 accidentes mortales menos que en el año anterior. Esto podría ser un punto de interés para investigar más a fondo.\n",
    "\n",
    "- **Años 2018 y 2019:** En 2018, hubo un aumento de 25 accidentes mortales, seguido por una disminución aún mayor de 47 accidentes mortales en 2019. Es importante entender las razones detrás de estos cambios bruscos.\n",
    "\n",
    "- **Año 2020:** Aunque hubo una disminución de 12 accidentes mortales en 2020, esta cifra sigue siendo negativa. Sería relevante investigar las circunstancias específicas de estos accidentes.\n",
    "\n",
    "- **Análisis Cualitativo:** Además de los números, es importante analizar las causas subyacentes de estos accidentes. ¿Hubo cambios en las políticas de seguridad vial? ¿Se implementaron programas de concienciación? ¿Factores como el tráfico, la infraestructura o el comportamiento de los conductores influyeron en estas cifras?"
   ]
  },
  {
   "cell_type": "markdown",
   "metadata": {},
   "source": [
    "**Transformacion de datos para Power BI**"
   ]
  },
  {
   "cell_type": "code",
   "execution_count": 28,
   "metadata": {},
   "outputs": [],
   "source": [
    "# Redondear \n",
    "reduccion_accidentes_kids= reduccion_accidentes_kids.apply(lambda x: round(x, 0))\n",
    "\n",
    "#Eliminar nulos (parte de 2021)\n",
    "reduccion_accidentes_kids.replace(np.NaN, 0, inplace=True)\n",
    "\n",
    "# Convertir a enteros\n",
    "reduccion_accidentes_kids_enteros = reduccion_accidentes_kids.astype(int)"
   ]
  },
  {
   "cell_type": "code",
   "execution_count": 29,
   "metadata": {},
   "outputs": [
    {
     "data": {
      "text/plain": [
       "AAAA\n",
       "2016     6\n",
       "2017   -37\n",
       "2018    25\n",
       "2019   -47\n",
       "2020   -12\n",
       "2021     0\n",
       "Name: ID, dtype: int32"
      ]
     },
     "execution_count": 29,
     "metadata": {},
     "output_type": "execute_result"
    }
   ],
   "source": [
    "reduccion_accidentes_kids_enteros"
   ]
  },
  {
   "cell_type": "code",
   "execution_count": 30,
   "metadata": {},
   "outputs": [],
   "source": [
    "reduccion_accidentes_kids_enteros.to_csv(r'datasets\\reduccion_accidentes_kids.csv')"
   ]
  }
 ],
 "metadata": {
  "kernelspec": {
   "display_name": "Python 3",
   "language": "python",
   "name": "python3"
  },
  "language_info": {
   "codemirror_mode": {
    "name": "ipython",
    "version": 3
   },
   "file_extension": ".py",
   "mimetype": "text/x-python",
   "name": "python",
   "nbconvert_exporter": "python",
   "pygments_lexer": "ipython3",
   "version": "3.11.6"
  }
 },
 "nbformat": 4,
 "nbformat_minor": 2
}
